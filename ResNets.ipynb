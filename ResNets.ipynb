{
  "nbformat": 4,
  "nbformat_minor": 0,
  "metadata": {
    "colab": {
      "name": "ResNets.ipynb",
      "provenance": [],
      "collapsed_sections": [],
      "toc_visible": true,
      "mount_file_id": "1vN_y-k_1SS8jGJRiT_h-_sfft_GMpakH",
      "authorship_tag": "ABX9TyOgl4axFPKIDOI1VoI7sMc4",
      "include_colab_link": true
    },
    "kernelspec": {
      "name": "python3",
      "display_name": "Python 3"
    },
    "accelerator": "GPU"
  },
  "cells": [
    {
      "cell_type": "markdown",
      "metadata": {
        "id": "view-in-github",
        "colab_type": "text"
      },
      "source": [
        "<a href=\"https://colab.research.google.com/github/Ryan-Radawiec/Machine-Learning-Projects/blob/master/ResNets.ipynb\" target=\"_parent\"><img src=\"https://colab.research.google.com/assets/colab-badge.svg\" alt=\"Open In Colab\"/></a>"
      ]
    },
    {
      "cell_type": "code",
      "metadata": {
        "id": "QtI-tRvUOqFr"
      },
      "source": [
        "import numpy as np\n",
        "from keras import layers\n",
        "from keras.layers import Input, Add, Dense, Activation, ZeroPadding2D, BatchNormalization, Flatten, Conv2D, AveragePooling2D, MaxPooling2D, GlobalMaxPooling2D\n",
        "from keras.models import Model, load_model\n",
        "from keras.preprocessing import image\n",
        "from keras.utils import layer_utils\n",
        "from keras.utils.data_utils import get_file\n",
        "from keras.applications.imagenet_utils import preprocess_input\n",
        "import pydot\n",
        "from IPython.display import SVG\n",
        "from keras.utils.vis_utils import model_to_dot\n",
        "from keras.utils import plot_model\n",
        "from resnet_utils import *\n",
        "from keras.initializers import glorot_uniform\n",
        "import scipy.misc\n",
        "from matplotlib.pyplot import imshow\n",
        "%matplotlib inline\n",
        "import tensorflow as tf\n",
        "\n",
        "import keras.backend as K\n",
        "K.set_image_data_format('channels_last')\n",
        "K.set_learning_phase(1)"
      ],
      "execution_count": 27,
      "outputs": []
    },
    {
      "cell_type": "markdown",
      "metadata": {
        "id": "wPnbd8wrPYrD"
      },
      "source": [
        "**Needs resnet_utils file to be uploaded**\n"
      ]
    },
    {
      "cell_type": "code",
      "metadata": {
        "id": "bePad3fJPbKH"
      },
      "source": [
        "def identity_block(X, f, filters, stage, block):\n",
        "    \"\"\"\n",
        "    Implementation of the identity block as defined in Figure 3\n",
        "    \n",
        "    Arguments:\n",
        "    X -- input tensor of shape (m, n_H_prev, n_W_prev, n_C_prev)\n",
        "    f -- integer, specifying the shape of the middle CONV's window for the main path\n",
        "    filters -- python list of integers, defining the number of filters in the CONV layers of the main path\n",
        "    stage -- integer, used to name the layers, depending on their position in the network\n",
        "    block -- string/character, used to name the layers, depending on their position in the network\n",
        "    \n",
        "    Returns:\n",
        "    X -- output of the identity block, tensor of shape (n_H, n_W, n_C)\n",
        "    \"\"\"\n",
        "    \n",
        "    # defining name basis\n",
        "    conv_name_base = 'res' + str(stage) + block + '_branch'\n",
        "    bn_name_base = 'bn' + str(stage) + block + '_branch'\n",
        "    \n",
        "    # Retrieve Filters\n",
        "    F1, F2, F3 = filters\n",
        "    \n",
        "    # Save the input value. You'll need this later to add back to the main path. \n",
        "    X_shortcut = X\n",
        "    \n",
        "    # First component of main path\n",
        "    X = Conv2D(filters = F1, kernel_size = (1, 1), strides = (1,1), padding = 'valid', name = conv_name_base + '2a', kernel_initializer = glorot_uniform(seed=0))(X)\n",
        "    X = BatchNormalization(axis = 3, name = bn_name_base + '2a')(X)\n",
        "    X = Activation('relu')(X)\n",
        "    \n",
        "    ### START CODE HERE ###\n",
        "    \n",
        "    # Second component of main path (≈3 lines)\n",
        "    X = Conv2D(filters = F2, kernel_size = (f, f), strides = (1,1), padding = 'same', name = conv_name_base + '2b', kernel_initializer = glorot_uniform(seed=0))(X)\n",
        "    X = BatchNormalization(axis = 3, name = bn_name_base + '2b')(X)\n",
        "    X = Activation('relu')(X)\n",
        "\n",
        "    # Third component of main path (≈2 lines)\n",
        "    X = Conv2D(filters = F3, kernel_size = (1, 1), strides = (1,1), padding = 'valid', name = conv_name_base + '2c', kernel_initializer = glorot_uniform(seed=0))(X)\n",
        "    X = BatchNormalization(axis = 3, name = bn_name_base + '2c')(X)\n",
        "\n",
        "    # Final step: Add shortcut value to main path, and pass it through a RELU activation (≈2 lines)\n",
        "    X = Add()([X, X_shortcut])\n",
        "    X = Activation('relu')(X)\n",
        "    \n",
        "    \n",
        "    \n",
        "    return X"
      ],
      "execution_count": 28,
      "outputs": []
    },
    {
      "cell_type": "code",
      "metadata": {
        "id": "K0-sAQLiTwSq",
        "outputId": "3724d3dd-d967-4606-a5a1-1e7e6fabe228",
        "colab": {
          "base_uri": "https://localhost:8080/",
          "height": 34
        }
      },
      "source": [
        "#from tensorflow.python.framework import ops\n",
        "#ops.reset_default_graph()     #this resets the graph\n",
        "import tensorflow.compat.v1 as tf #This lets session run as v2 behavior doesn't allow sesison command\n",
        "tf.disable_v2_behavior()     \n",
        "\n",
        "tf.reset_default_graph() #This was the old code\n",
        "\n",
        "with tf.Session() as test:\n",
        "    np.random.seed(1)\n",
        "    A_prev = tf.placeholder(\"float\", [3, 4, 4, 6])\n",
        "    X = np.random.randn(3, 4, 4, 6)\n",
        "    A = identity_block(A_prev, f = 2, filters = [2, 4, 6], stage = 1, block = 'a')\n",
        "    test.run(tf.global_variables_initializer())\n",
        "    out = test.run([A], feed_dict={A_prev: X, K.learning_phase(): 0})\n",
        "    print(\"out = \" + str(out[0][1][1][0]))"
      ],
      "execution_count": 35,
      "outputs": [
        {
          "output_type": "stream",
          "text": [
            "out = [0.        0.        1.3454674 2.0318177 0.        1.3246754]\n"
          ],
          "name": "stdout"
        }
      ]
    },
    {
      "cell_type": "markdown",
      "metadata": {
        "id": "eypGO87CX34r"
      },
      "source": [
        "**Convolutional block**\n",
        "\n",
        "For the shortcut path, a convolution will need to be added so that the dimensions match up."
      ]
    },
    {
      "cell_type": "markdown",
      "metadata": {
        "id": "DvkXBx7mYXEK"
      },
      "source": [
        "**First component of main path:**\n",
        "\n",
        "The first CONV2D has $F_1$ filters of shape (1,1) and a stride of (s,s). Its padding is \"valid\" and its name should be conv_name_base + '2a'.\n",
        "The first BatchNorm is normalizing the channels axis. Its name should be bn_name_base + '2a'.\n",
        "\n",
        "---\n",
        "\n",
        "\n",
        "\n",
        "---\n",
        "\n",
        "\n",
        "Then apply the ReLU activation function. This has no name and no hyperparameters.\n",
        "\n",
        "\n",
        "\n",
        "---\n",
        "\n",
        "\n",
        "\n",
        "**Second component of main path:**\n",
        "\n",
        "The second CONV2D has $F_2$ filters of (f,f) and a stride of (1,1). Its padding is \"same\" and it's name should be conv_name_base + '2b'.\n",
        "The second BatchNorm is normalizing the channels axis. Its name should be bn_name_base + '2b'.\n",
        "Then apply the ReLU activation function. This has no name and no hyperparameters.\n",
        "\n",
        "\n",
        "\n",
        "\n",
        "---\n",
        "\n",
        "\n",
        "**Third component of main path:**\n",
        "\n",
        "The third CONV2D has $F_3$ filters of (1,1) and a stride of (1,1). Its padding is \"valid\" and it's name should be conv_name_base + '2c'.\n",
        "The third BatchNorm is normalizing the channels axis. Its name should be bn_name_base + '2c'. Note that there is no ReLU activation function in this component.\n",
        "\n",
        "\n",
        "\n",
        "---\n",
        "\n",
        "\n",
        "**Shortcut path:**\n",
        "\n",
        "The CONV2D has $F_3$ filters of shape (1,1) and a stride of (s,s). Its padding is \"valid\" and its name should be conv_name_base + '1'.\n",
        "The BatchNorm is normalizing the channels axis. Its name should be bn_name_base + '1'.\n",
        "\n",
        "\n",
        "\n",
        "---\n",
        "\n",
        "\n",
        "**Final step**:\n",
        "\n",
        "The shortcut and the main path values are added together.\n",
        "Then apply the ReLU activation function. This has no name and no hyperparameters."
      ]
    },
    {
      "cell_type": "code",
      "metadata": {
        "id": "CAYcX2Z_YEyx"
      },
      "source": [
        "#Convolutional blocks\n",
        "\n",
        "def convolutional_block(X, f, filters, stage, block, s=2):\n",
        "    \"\"\"\n",
        "    Implementation of the convolutional block as defined in Figure 4\n",
        "    \n",
        "    Arguments:\n",
        "    X -- input tensor of shape (m, n_H_prev, n_W_prev, n_C_prev)\n",
        "    f -- integer, specifying the shape of the middle CONV's window for the main path\n",
        "    filters -- python list of integers, defining the number of filters in the CONV layers of the main path\n",
        "    stage -- integer, used to name the layers, depending on their position in the network\n",
        "    block -- string/character, used to name the layers, depending on their position in the network\n",
        "    s -- Integer, specifying the stride to be used\n",
        "    \n",
        "    Returns:\n",
        "    X -- output of the convolutional block, tensor of shape (n_H, n_W, n_C)\n",
        "    \"\"\"\n",
        "\n",
        "    #defining name basis\n",
        "    conv_name_base = 'res' + str(stage) + block + '_branch'\n",
        "    bn_name_base = 'bn' + str(stage) + block + '_branch'\n",
        "\n",
        "    #Retrieve Filters\n",
        "    F1, F2, F3 = filters\n",
        "\n",
        "    #save the input value\n",
        "    X_shortcut = X\n",
        "\n",
        "    ###MAIN PATH####\n",
        "    #First component of main path\n",
        "    X = Conv2D(F1, (1, 1), strides = (s,s), name = conv_name_base + '2a', kernel_initializer = glorot_uniform(seed=0))(X)\n",
        "    X = BatchNormalization(axis = 3, name = bn_name_base + '2a')(X)\n",
        "    X = Activation('relu')(X)\n",
        "\n",
        "    #Second component of main path\n",
        "    X = Conv2D(F2, (f,f),strides = (1,1), padding ='same', name = conv_name_base + '2b', kernel_initializer = glorot_uniform(seed=0))(X)\n",
        "    X = BatchNormalization(axis = 3, name = bn_name_base + '2b')(X)\n",
        "    X = Activation('relu')(X)\n",
        "\n",
        "    #Third component of main path\n",
        "    X = Conv2D(F3, (1,1), strides = (1,1), padding ='valid', name = conv_name_base + '2c', kernel_initializer=glorot_uniform(seed=0))(X)\n",
        "    X = BatchNormalization(axis = 3, name = bn_name_base + '2c')(X)\n",
        "\n",
        "    ######## Shortcut Path #####\n",
        "    X_shortcut = Conv2D( F3, (1,1), strides = (s,s), padding='valid', name = conv_name_base + '1', kernel_initializer = glorot_uniform(seed=0))(X_shortcut)\n",
        "    X_shortcut = BatchNormalization(axis = 3, name = bn_name_base + '1')(X_shortcut)\n",
        "\n",
        "    #Final Step\n",
        "    X = Add()([X, X_shortcut])\n",
        "    X = Activation('relu')(X)\n",
        "\n",
        "    return X\n"
      ],
      "execution_count": 36,
      "outputs": []
    },
    {
      "cell_type": "code",
      "metadata": {
        "id": "IFTRBhehc7a9",
        "outputId": "02472a4b-9aba-447e-9c1d-ea996b221ba5",
        "colab": {
          "base_uri": "https://localhost:8080/",
          "height": 34
        }
      },
      "source": [
        "\n",
        "tf.reset_default_graph()\n",
        "\n",
        "with tf.Session() as test:\n",
        "    np.random.seed(1)\n",
        "    A_prev = tf.placeholder(\"float\", [3, 4, 4, 6])\n",
        "    X = np.random.randn(3, 4, 4, 6)\n",
        "    A = convolutional_block(A_prev, f = 2, filters = [2, 4, 6], stage = 1, block = 'a')\n",
        "    test.run(tf.global_variables_initializer())\n",
        "    out = test.run([A], feed_dict={A_prev: X, K.learning_phase(): 0})\n",
        "    print(\"out = \" + str(out[0][1][1][0]))"
      ],
      "execution_count": 37,
      "outputs": [
        {
          "output_type": "stream",
          "text": [
            "out = [0.        0.        0.        0.8929657 0.        0.1988273]\n"
          ],
          "name": "stdout"
        }
      ]
    },
    {
      "cell_type": "markdown",
      "metadata": {
        "id": "UW-q6zHAdNG7"
      },
      "source": [
        "\n",
        "3 - **Building your first ResNet model** (50 layers)\n",
        "You now have the necessary blocks to build a very deep ResNet. The following figure describes in detail the architecture of this neural network. \"ID BLOCK\" in the diagram stands for \"Identity block,\" and \"ID BLOCK x3\" means you should stack 3 identity blocks together.\n",
        "\n",
        "\n",
        "\n",
        "---\n",
        "\n",
        "\n",
        "\n",
        "The details of this ResNet-50 model are:\n",
        "\n",
        "Zero-padding pads the input with a pad of (3,3)\n",
        "\n",
        "**Stage 1:**\n",
        "\n",
        "The 2D Convolution has 64 filters of shape (7,7) and uses a stride of (2,2). Its name is \"conv1\".\n",
        "BatchNorm is applied to the channels axis of the input.\n",
        "MaxPooling uses a (3,3) window and a (2,2) stride.\n",
        "\n",
        "\n",
        "\n",
        "---\n",
        "\n",
        "\n",
        "**Stage 2:**\n",
        "\n",
        "The convolutional block uses three set of filters of size [64,64,256], \"f\" is 3, \"s\" is 1 and the block is \"a\".\n",
        "The 2 identity blocks use three set of filters of size [64,64,256], \"f\" is 3 and the blocks are \"b\" and \"c\".\n",
        "\n",
        "\n",
        "\n",
        "---\n",
        "\n",
        "\n",
        "**Stage 3:**\n",
        "\n",
        "The convolutional block uses three set of filters of size [128,128,512], \"f\" is 3, \"s\" is 2 and the block is \"a\".\n",
        "The 3 identity blocks use three set of filters of size [128,128,512], \"f\" is 3 and the blocks are \"b\", \"c\" and \"d\".\n",
        "\n",
        "\n",
        "\n",
        "---\n",
        "\n",
        "\n",
        "**Stage 4:**\n",
        "\n",
        "The convolutional block uses three set of filters of size [256, 256, 1024], \"f\" is 3, \"s\" is 2 and the block is \"a\".\n",
        "The 5 identity blocks use three set of filters of size [256, 256, 1024], \"f\" is 3 and the blocks are \"b\", \"c\", \"d\", \"e\" and \"f\".\n",
        "\n",
        "\n",
        "\n",
        "---\n",
        "\n",
        "\n",
        "**Stage 5:**\n",
        "\n",
        "The convolutional block uses three set of filters of size [512, 512, 2048], \"f\" \n",
        "\n",
        "\n",
        "\n",
        "is 3, \"s\" is 2 and the block is \"a\".\n",
        "\n",
        "The 2 identity blocks use three set of filters of size [512, 512, 2048], \"f\" is 3 and the blocks are \"b\" and \"c\".\n",
        "\n",
        "The 2D Average Pooling uses a window of shape (2,2) and its name is \"avg_pool\".\n",
        "The flatten doesn't have any hyperparameters or name.\n",
        "\n",
        "The Fully Connected (Dense) layer reduces its input to the number of classes using a softmax activation. Its name should be 'fc' + str(classes)."
      ]
    },
    {
      "cell_type": "code",
      "metadata": {
        "id": "NRe3L9iBc9zq"
      },
      "source": [
        ""
      ],
      "execution_count": null,
      "outputs": []
    },
    {
      "cell_type": "markdown",
      "metadata": {
        "id": "qnbAY7HefYOR"
      },
      "source": [
        "**RESNET50**"
      ]
    },
    {
      "cell_type": "code",
      "metadata": {
        "id": "stD-h6eAfb_m"
      },
      "source": [
        "def ResNet50(input_shape = (64, 64, 3), classes = 6):\n",
        "    \"\"\"\n",
        "    Implementation of the popular ResNet50 the following architecture:\n",
        "    CONV2D -> BATCHNORM -> RELU -> MAXPOOL -> CONVBLOCK -> IDBLOCK*2 -> CONVBLOCK -> IDBLOCK*3\n",
        "    -> CONVBLOCK -> IDBLOCK*5 -> CONVBLOCK -> IDBLOCK*2 -> AVGPOOL -> TOPLAYER\n",
        "\n",
        "    Arguments:\n",
        "    input_shape -- shape of the images of the dataset\n",
        "    classes -- integer, number of classes\n",
        "\n",
        "    Returns:\n",
        "    model -- a Model() instance in Keras\n",
        "    \"\"\"  \n",
        "\n",
        "    #Define the input as a tensor with shape input_shape\n",
        "    X_input = Input(input_shape)\n",
        "\n",
        "    #zero-Padding\n",
        "    X = ZeroPadding2D((3, 3))(X_input)\n",
        "\n",
        "    #stage 1\n",
        "    X = Conv2D(64, (7, 7), strides = (2, 2), name = 'conv1', kernel_initializer = glorot_uniform(seed=0))(X)\n",
        "    X = BatchNormalization(axis = 3, name = 'bn_conv1')(X)\n",
        "    X = Activation('relu')(X)\n",
        "    X = MaxPooling2D((3, 3), strides=(2, 2))(X)\n",
        "\n",
        "    #stage 2\n",
        "    X = convolutional_block(X, f = 3, filters = [64, 64, 256], stage = 2, block ='a', s=1)\n",
        "    X = identity_block(X, 3, [65,64,256], stage=2, block='b')\n",
        "    X = identity_block(X, 3, [64, 64, 256], stage =2, block='c')\n",
        "\n",
        "    # Stage 3 (≈4 lines)\n",
        "    X = convolutional_block(X, f = 3, filters = [128, 128, 512], stage = 3, block='a', s = 2)\n",
        "    X = identity_block(X, 3, [128, 128, 512], stage=3, block='b')\n",
        "    X = identity_block(X, 3, [128, 128, 512], stage=3, block='c')\n",
        "    X = identity_block(X, 3, [128, 128, 512], stage=3, block='d')\n",
        "\n",
        "    # Stage 4 (≈6 lines)\n",
        "    X = convolutional_block(X, f = 3, filters = [256, 256, 1024], stage = 4, block='a', s = 2)\n",
        "    X = identity_block(X, 3, [256, 256, 1024], stage=4, block='b')\n",
        "    X = identity_block(X, 3, [256, 256, 1024], stage=4, block='c')\n",
        "    X = identity_block(X, 3, [256, 256, 1024], stage=4, block='d')\n",
        "    X = identity_block(X, 3, [256, 256, 1024], stage=4, block='e')\n",
        "    X = identity_block(X, 3, [256, 256, 1024], stage=4, block='f')\n",
        "\n",
        "    # Stage 5 (≈3 lines)\n",
        "    X = convolutional_block(X, f = 3, filters = [512, 512, 2048], stage = 5, block='a', s = 2)\n",
        "    X = identity_block(X, 3, [512, 512, 2048], stage=5, block='b')\n",
        "    X = identity_block(X, 3, [512, 512, 2048], stage=5, block='c')\n",
        "\n",
        "\n",
        "    #Average Pooling Layer\n",
        "    X = AveragePooling2D()(X)\n",
        "\n",
        "    #output layer\n",
        "    X = Flatten()(X)\n",
        "    X = Dense(classes, activation='softmax', name='fc' + str(classes), kernel_initializer=glorot_uniform(seed=0))(X)\n",
        "\n",
        "\n",
        "    #Create Model\n",
        "    model = Model(inputs = X_input, outputs = X, name ='ResNet50')\n",
        "\n",
        "    return model"
      ],
      "execution_count": 40,
      "outputs": []
    },
    {
      "cell_type": "markdown",
      "metadata": {
        "id": "hYZj9xchifs_"
      },
      "source": [
        "**Build the Model**"
      ]
    },
    {
      "cell_type": "code",
      "metadata": {
        "id": "rX8vVMVxh5rn"
      },
      "source": [
        "model = ResNet50(input_shape = (64, 64, 3), classes =6)"
      ],
      "execution_count": 43,
      "outputs": []
    },
    {
      "cell_type": "markdown",
      "metadata": {
        "id": "ChmLtE5Ria6B"
      },
      "source": [
        "**Compiling the model**"
      ]
    },
    {
      "cell_type": "code",
      "metadata": {
        "id": "c9F5XiZ9iBuF"
      },
      "source": [
        "#you must compile the model before training the model\n",
        "model.compile(optimizer='adam', loss='categorical_crossentropy', metrics=['accuracy'])"
      ],
      "execution_count": 44,
      "outputs": []
    },
    {
      "cell_type": "markdown",
      "metadata": {
        "id": "k49yGPNfilVf"
      },
      "source": [
        "**Loading the SIGNS Dataset**"
      ]
    },
    {
      "cell_type": "code",
      "metadata": {
        "id": "LucabUx8iZ0l",
        "outputId": "52ebcf3e-86b3-4b7f-fa7a-b971baacad39",
        "colab": {
          "base_uri": "https://localhost:8080/",
          "height": 119
        }
      },
      "source": [
        "\n",
        "X_train_orig, Y_train_orig, X_test_orig, Y_test_orig, classes = load_dataset()\n",
        "\n",
        "#Normalize image vectors\n",
        "X_train = X_train_orig/255.\n",
        "X_test = X_test_orig/255.\n",
        "\n",
        "#Convert training and test labels to one hot matrices\n",
        "Y_train = convert_to_one_hot(Y_train_orig, 6).T\n",
        "Y_test = convert_to_one_hot(Y_test_orig,6).T\n",
        "\n",
        "print (\"number of training examples = \" + str(X_train.shape[0]))\n",
        "print (\"number of test examples = \" + str(X_test.shape[0]))\n",
        "print (\"X_train shape: \" + str(X_train.shape))\n",
        "print (\"Y_train shape: \" + str(Y_train.shape))\n",
        "print (\"X_test shape: \" + str(X_test.shape))\n",
        "print (\"Y_test shape: \" + str(Y_test.shape))"
      ],
      "execution_count": 48,
      "outputs": [
        {
          "output_type": "stream",
          "text": [
            "number of training examples = 1080\n",
            "number of test examples = 120\n",
            "X_train shape: (1080, 64, 64, 3)\n",
            "Y_train shape: (1080, 6)\n",
            "X_test shape: (120, 64, 64, 3)\n",
            "Y_test shape: (120, 6)\n"
          ],
          "name": "stdout"
        }
      ]
    },
    {
      "cell_type": "markdown",
      "metadata": {
        "id": "N9zkmf4BlQOa"
      },
      "source": [
        "**Train the Model**"
      ]
    },
    {
      "cell_type": "code",
      "metadata": {
        "id": "TCM791m7jyTS",
        "outputId": "9389de32-faa5-44f6-ca50-5350dd096717",
        "colab": {
          "base_uri": "https://localhost:8080/",
          "height": 1000
        }
      },
      "source": [
        "model.fit(X_train, Y_train, epochs = 32, batch_size = 32)"
      ],
      "execution_count": 54,
      "outputs": [
        {
          "output_type": "stream",
          "text": [
            "Train on 1080 samples\n",
            "Epoch 1/32\n",
            "1080/1080 [==============================] - 2s 2ms/sample - loss: 0.1990 - acc: 0.9537\n",
            "Epoch 2/32\n",
            "1080/1080 [==============================] - 2s 2ms/sample - loss: 0.3641 - acc: 0.9278\n",
            "Epoch 3/32\n",
            "1080/1080 [==============================] - 2s 2ms/sample - loss: 0.1049 - acc: 0.9648\n",
            "Epoch 4/32\n",
            "1080/1080 [==============================] - 2s 2ms/sample - loss: 0.0352 - acc: 0.9880\n",
            "Epoch 5/32\n",
            "1080/1080 [==============================] - 2s 2ms/sample - loss: 0.0216 - acc: 0.9991\n",
            "Epoch 6/32\n",
            "1080/1080 [==============================] - 2s 2ms/sample - loss: 0.0067 - acc: 0.9981\n",
            "Epoch 7/32\n",
            "1080/1080 [==============================] - 2s 2ms/sample - loss: 0.0027 - acc: 1.0000\n",
            "Epoch 8/32\n",
            "1080/1080 [==============================] - 2s 2ms/sample - loss: 0.0029 - acc: 1.0000\n",
            "Epoch 9/32\n",
            "1080/1080 [==============================] - 2s 2ms/sample - loss: 0.0127 - acc: 0.9972\n",
            "Epoch 10/32\n",
            "1080/1080 [==============================] - 2s 2ms/sample - loss: 0.0221 - acc: 0.9935\n",
            "Epoch 11/32\n",
            "1080/1080 [==============================] - 2s 2ms/sample - loss: 0.0279 - acc: 0.9917\n",
            "Epoch 12/32\n",
            "1080/1080 [==============================] - 2s 2ms/sample - loss: 0.0194 - acc: 0.9963\n",
            "Epoch 13/32\n",
            "1080/1080 [==============================] - 2s 2ms/sample - loss: 0.0021 - acc: 1.0000\n",
            "Epoch 14/32\n",
            "1080/1080 [==============================] - 2s 2ms/sample - loss: 0.0012 - acc: 1.0000\n",
            "Epoch 15/32\n",
            "1080/1080 [==============================] - 2s 2ms/sample - loss: 8.7667e-04 - acc: 1.0000\n",
            "Epoch 16/32\n",
            "1080/1080 [==============================] - 2s 2ms/sample - loss: 6.4455e-04 - acc: 1.0000\n",
            "Epoch 17/32\n",
            "1080/1080 [==============================] - 2s 2ms/sample - loss: 8.0253e-04 - acc: 1.0000\n",
            "Epoch 18/32\n",
            "1080/1080 [==============================] - 2s 2ms/sample - loss: 2.7419e-04 - acc: 1.0000\n",
            "Epoch 19/32\n",
            "1080/1080 [==============================] - 2s 2ms/sample - loss: 0.0159 - acc: 0.9991\n",
            "Epoch 20/32\n",
            "1080/1080 [==============================] - 2s 2ms/sample - loss: 7.0254e-04 - acc: 1.0000\n",
            "Epoch 21/32\n",
            "1080/1080 [==============================] - 2s 2ms/sample - loss: 0.0151 - acc: 0.9991\n",
            "Epoch 22/32\n",
            "1080/1080 [==============================] - 2s 2ms/sample - loss: 4.0108e-04 - acc: 1.0000\n",
            "Epoch 23/32\n",
            "1080/1080 [==============================] - 2s 2ms/sample - loss: 7.5786e-04 - acc: 1.0000\n",
            "Epoch 24/32\n",
            "1080/1080 [==============================] - 2s 2ms/sample - loss: 0.0243 - acc: 0.9963\n",
            "Epoch 25/32\n",
            "1080/1080 [==============================] - 2s 2ms/sample - loss: 0.1149 - acc: 0.9657\n",
            "Epoch 26/32\n",
            "1080/1080 [==============================] - 2s 2ms/sample - loss: 0.1293 - acc: 0.9639\n",
            "Epoch 27/32\n",
            "1080/1080 [==============================] - 2s 2ms/sample - loss: 0.0751 - acc: 0.9769\n",
            "Epoch 28/32\n",
            "1080/1080 [==============================] - 2s 2ms/sample - loss: 0.0444 - acc: 0.9861\n",
            "Epoch 29/32\n",
            "1080/1080 [==============================] - 2s 2ms/sample - loss: 0.0256 - acc: 0.9935\n",
            "Epoch 30/32\n",
            "1080/1080 [==============================] - 2s 2ms/sample - loss: 0.0119 - acc: 0.9944\n",
            "Epoch 31/32\n",
            "1080/1080 [==============================] - 2s 2ms/sample - loss: 0.0152 - acc: 0.9954\n",
            "Epoch 32/32\n",
            "1080/1080 [==============================] - 2s 2ms/sample - loss: 0.0391 - acc: 0.9972\n"
          ],
          "name": "stdout"
        },
        {
          "output_type": "execute_result",
          "data": {
            "text/plain": [
              "<tensorflow.python.keras.callbacks.History at 0x7f46cac507b8>"
            ]
          },
          "metadata": {
            "tags": []
          },
          "execution_count": 54
        }
      ]
    },
    {
      "cell_type": "markdown",
      "metadata": {
        "id": "xHflmE4Dlup5"
      },
      "source": [
        "**See how the model performs on the test set**"
      ]
    },
    {
      "cell_type": "code",
      "metadata": {
        "id": "_muiS0z4lYjC",
        "outputId": "7bdac220-6f8b-4921-b326-43073b7c2c0e",
        "colab": {
          "base_uri": "https://localhost:8080/",
          "height": 51
        }
      },
      "source": [
        "preds = model.evaluate(X_test, Y_test)\n",
        "print(\"Loss =\" + str(preds[0]))\n",
        "print(\"Test Accuracy = \" + str(preds[1]))"
      ],
      "execution_count": 55,
      "outputs": [
        {
          "output_type": "stream",
          "text": [
            "Loss =0.13692707245548566\n",
            "Test Accuracy = 0.9583333\n"
          ],
          "name": "stdout"
        }
      ]
    },
    {
      "cell_type": "markdown",
      "metadata": {
        "id": "77ds119imuC4"
      },
      "source": [
        "**TEST on your own Images**\n"
      ]
    },
    {
      "cell_type": "code",
      "metadata": {
        "id": "7ICFrUE3l9Dd",
        "outputId": "cdb6500e-13ac-4559-a8fa-e22e890cd63e",
        "colab": {
          "base_uri": "https://localhost:8080/",
          "height": 52
        }
      },
      "source": [
        "#Will need to add an images folder in whatevre directory oyu are in\n",
        "\n",
        "\n",
        "\n",
        "\"\"\"\n",
        "img_path = 'images/my_image.jpg'\n",
        "img = image.load_img(img_path, target_size=(64, 64))\n",
        "x = image.img_to_array(img)\n",
        "x = np.expand_dims(x, axis=0)\n",
        "x = preprocess_input(x)\n",
        "print('Input image shape:', x.shape)\n",
        "my_image = scipy.misc.imread(img_path)\n",
        "imshow(my_image)\n",
        "print(\"class prediction vector [p(0), p(1), p(2), p(3), p(4), p(5)] = \")\n",
        "print(model.predict(x))\n",
        "\"\"\""
      ],
      "execution_count": 56,
      "outputs": [
        {
          "output_type": "execute_result",
          "data": {
            "application/vnd.google.colaboratory.intrinsic+json": {
              "type": "string"
            },
            "text/plain": [
              "'\\nimg_path = \\'images/my_image.jpg\\'\\nimg = image.load_img(img_path, target_size=(64, 64))\\nx = image.img_to_array(img)\\nx = np.expand_dims(x, axis=0)\\nx = preprocess_input(x)\\nprint(\\'Input image shape:\\', x.shape)\\nmy_image = scipy.misc.imread(img_path)\\nimshow(my_image)\\nprint(\"class prediction vector [p(0), p(1), p(2), p(3), p(4), p(5)] = \")\\nprint(model.predict(x))\\n'"
            ]
          },
          "metadata": {
            "tags": []
          },
          "execution_count": 56
        }
      ]
    },
    {
      "cell_type": "markdown",
      "metadata": {
        "id": "U5wF06j7m88A"
      },
      "source": [
        "**Model Summary**"
      ]
    },
    {
      "cell_type": "code",
      "metadata": {
        "id": "Wcsfc1ATm7Za",
        "outputId": "f1ce4188-4fc0-460c-b7dd-2aa535a4c006",
        "colab": {
          "base_uri": "https://localhost:8080/",
          "height": 1000
        }
      },
      "source": [
        "model.summary()"
      ],
      "execution_count": 57,
      "outputs": [
        {
          "output_type": "stream",
          "text": [
            "Model: \"ResNet50\"\n",
            "__________________________________________________________________________________________________\n",
            "Layer (type)                    Output Shape         Param #     Connected to                     \n",
            "==================================================================================================\n",
            "input_3 (InputLayer)            [(None, 64, 64, 3)]  0                                            \n",
            "__________________________________________________________________________________________________\n",
            "zero_padding2d_2 (ZeroPadding2D (None, 70, 70, 3)    0           input_3[0][0]                    \n",
            "__________________________________________________________________________________________________\n",
            "conv1 (Conv2D)                  (None, 32, 32, 64)   9472        zero_padding2d_2[0][0]           \n",
            "__________________________________________________________________________________________________\n",
            "bn_conv1 (BatchNormalization)   (None, 32, 32, 64)   256         conv1[0][0]                      \n",
            "__________________________________________________________________________________________________\n",
            "activation_101 (Activation)     (None, 32, 32, 64)   0           bn_conv1[0][0]                   \n",
            "__________________________________________________________________________________________________\n",
            "max_pooling2d_2 (MaxPooling2D)  (None, 15, 15, 64)   0           activation_101[0][0]             \n",
            "__________________________________________________________________________________________________\n",
            "res2a_branch2a (Conv2D)         (None, 15, 15, 64)   4160        max_pooling2d_2[0][0]            \n",
            "__________________________________________________________________________________________________\n",
            "bn2a_branch2a (BatchNormalizati (None, 15, 15, 64)   256         res2a_branch2a[0][0]             \n",
            "__________________________________________________________________________________________________\n",
            "activation_102 (Activation)     (None, 15, 15, 64)   0           bn2a_branch2a[0][0]              \n",
            "__________________________________________________________________________________________________\n",
            "res2a_branch2b (Conv2D)         (None, 15, 15, 64)   36928       activation_102[0][0]             \n",
            "__________________________________________________________________________________________________\n",
            "bn2a_branch2b (BatchNormalizati (None, 15, 15, 64)   256         res2a_branch2b[0][0]             \n",
            "__________________________________________________________________________________________________\n",
            "activation_103 (Activation)     (None, 15, 15, 64)   0           bn2a_branch2b[0][0]              \n",
            "__________________________________________________________________________________________________\n",
            "res2a_branch2c (Conv2D)         (None, 15, 15, 256)  16640       activation_103[0][0]             \n",
            "__________________________________________________________________________________________________\n",
            "res2a_branch1 (Conv2D)          (None, 15, 15, 256)  16640       max_pooling2d_2[0][0]            \n",
            "__________________________________________________________________________________________________\n",
            "bn2a_branch2c (BatchNormalizati (None, 15, 15, 256)  1024        res2a_branch2c[0][0]             \n",
            "__________________________________________________________________________________________________\n",
            "bn2a_branch1 (BatchNormalizatio (None, 15, 15, 256)  1024        res2a_branch1[0][0]              \n",
            "__________________________________________________________________________________________________\n",
            "add_33 (Add)                    (None, 15, 15, 256)  0           bn2a_branch2c[0][0]              \n",
            "                                                                 bn2a_branch1[0][0]               \n",
            "__________________________________________________________________________________________________\n",
            "activation_104 (Activation)     (None, 15, 15, 256)  0           add_33[0][0]                     \n",
            "__________________________________________________________________________________________________\n",
            "res2b_branch2a (Conv2D)         (None, 15, 15, 65)   16705       activation_104[0][0]             \n",
            "__________________________________________________________________________________________________\n",
            "bn2b_branch2a (BatchNormalizati (None, 15, 15, 65)   260         res2b_branch2a[0][0]             \n",
            "__________________________________________________________________________________________________\n",
            "activation_105 (Activation)     (None, 15, 15, 65)   0           bn2b_branch2a[0][0]              \n",
            "__________________________________________________________________________________________________\n",
            "res2b_branch2b (Conv2D)         (None, 15, 15, 64)   37504       activation_105[0][0]             \n",
            "__________________________________________________________________________________________________\n",
            "bn2b_branch2b (BatchNormalizati (None, 15, 15, 64)   256         res2b_branch2b[0][0]             \n",
            "__________________________________________________________________________________________________\n",
            "activation_106 (Activation)     (None, 15, 15, 64)   0           bn2b_branch2b[0][0]              \n",
            "__________________________________________________________________________________________________\n",
            "res2b_branch2c (Conv2D)         (None, 15, 15, 256)  16640       activation_106[0][0]             \n",
            "__________________________________________________________________________________________________\n",
            "bn2b_branch2c (BatchNormalizati (None, 15, 15, 256)  1024        res2b_branch2c[0][0]             \n",
            "__________________________________________________________________________________________________\n",
            "add_34 (Add)                    (None, 15, 15, 256)  0           bn2b_branch2c[0][0]              \n",
            "                                                                 activation_104[0][0]             \n",
            "__________________________________________________________________________________________________\n",
            "activation_107 (Activation)     (None, 15, 15, 256)  0           add_34[0][0]                     \n",
            "__________________________________________________________________________________________________\n",
            "res2c_branch2a (Conv2D)         (None, 15, 15, 64)   16448       activation_107[0][0]             \n",
            "__________________________________________________________________________________________________\n",
            "bn2c_branch2a (BatchNormalizati (None, 15, 15, 64)   256         res2c_branch2a[0][0]             \n",
            "__________________________________________________________________________________________________\n",
            "activation_108 (Activation)     (None, 15, 15, 64)   0           bn2c_branch2a[0][0]              \n",
            "__________________________________________________________________________________________________\n",
            "res2c_branch2b (Conv2D)         (None, 15, 15, 64)   36928       activation_108[0][0]             \n",
            "__________________________________________________________________________________________________\n",
            "bn2c_branch2b (BatchNormalizati (None, 15, 15, 64)   256         res2c_branch2b[0][0]             \n",
            "__________________________________________________________________________________________________\n",
            "activation_109 (Activation)     (None, 15, 15, 64)   0           bn2c_branch2b[0][0]              \n",
            "__________________________________________________________________________________________________\n",
            "res2c_branch2c (Conv2D)         (None, 15, 15, 256)  16640       activation_109[0][0]             \n",
            "__________________________________________________________________________________________________\n",
            "bn2c_branch2c (BatchNormalizati (None, 15, 15, 256)  1024        res2c_branch2c[0][0]             \n",
            "__________________________________________________________________________________________________\n",
            "add_35 (Add)                    (None, 15, 15, 256)  0           bn2c_branch2c[0][0]              \n",
            "                                                                 activation_107[0][0]             \n",
            "__________________________________________________________________________________________________\n",
            "activation_110 (Activation)     (None, 15, 15, 256)  0           add_35[0][0]                     \n",
            "__________________________________________________________________________________________________\n",
            "res3a_branch2a (Conv2D)         (None, 8, 8, 128)    32896       activation_110[0][0]             \n",
            "__________________________________________________________________________________________________\n",
            "bn3a_branch2a (BatchNormalizati (None, 8, 8, 128)    512         res3a_branch2a[0][0]             \n",
            "__________________________________________________________________________________________________\n",
            "activation_111 (Activation)     (None, 8, 8, 128)    0           bn3a_branch2a[0][0]              \n",
            "__________________________________________________________________________________________________\n",
            "res3a_branch2b (Conv2D)         (None, 8, 8, 128)    147584      activation_111[0][0]             \n",
            "__________________________________________________________________________________________________\n",
            "bn3a_branch2b (BatchNormalizati (None, 8, 8, 128)    512         res3a_branch2b[0][0]             \n",
            "__________________________________________________________________________________________________\n",
            "activation_112 (Activation)     (None, 8, 8, 128)    0           bn3a_branch2b[0][0]              \n",
            "__________________________________________________________________________________________________\n",
            "res3a_branch2c (Conv2D)         (None, 8, 8, 512)    66048       activation_112[0][0]             \n",
            "__________________________________________________________________________________________________\n",
            "res3a_branch1 (Conv2D)          (None, 8, 8, 512)    131584      activation_110[0][0]             \n",
            "__________________________________________________________________________________________________\n",
            "bn3a_branch2c (BatchNormalizati (None, 8, 8, 512)    2048        res3a_branch2c[0][0]             \n",
            "__________________________________________________________________________________________________\n",
            "bn3a_branch1 (BatchNormalizatio (None, 8, 8, 512)    2048        res3a_branch1[0][0]              \n",
            "__________________________________________________________________________________________________\n",
            "add_36 (Add)                    (None, 8, 8, 512)    0           bn3a_branch2c[0][0]              \n",
            "                                                                 bn3a_branch1[0][0]               \n",
            "__________________________________________________________________________________________________\n",
            "activation_113 (Activation)     (None, 8, 8, 512)    0           add_36[0][0]                     \n",
            "__________________________________________________________________________________________________\n",
            "res3b_branch2a (Conv2D)         (None, 8, 8, 128)    65664       activation_113[0][0]             \n",
            "__________________________________________________________________________________________________\n",
            "bn3b_branch2a (BatchNormalizati (None, 8, 8, 128)    512         res3b_branch2a[0][0]             \n",
            "__________________________________________________________________________________________________\n",
            "activation_114 (Activation)     (None, 8, 8, 128)    0           bn3b_branch2a[0][0]              \n",
            "__________________________________________________________________________________________________\n",
            "res3b_branch2b (Conv2D)         (None, 8, 8, 128)    147584      activation_114[0][0]             \n",
            "__________________________________________________________________________________________________\n",
            "bn3b_branch2b (BatchNormalizati (None, 8, 8, 128)    512         res3b_branch2b[0][0]             \n",
            "__________________________________________________________________________________________________\n",
            "activation_115 (Activation)     (None, 8, 8, 128)    0           bn3b_branch2b[0][0]              \n",
            "__________________________________________________________________________________________________\n",
            "res3b_branch2c (Conv2D)         (None, 8, 8, 512)    66048       activation_115[0][0]             \n",
            "__________________________________________________________________________________________________\n",
            "bn3b_branch2c (BatchNormalizati (None, 8, 8, 512)    2048        res3b_branch2c[0][0]             \n",
            "__________________________________________________________________________________________________\n",
            "add_37 (Add)                    (None, 8, 8, 512)    0           bn3b_branch2c[0][0]              \n",
            "                                                                 activation_113[0][0]             \n",
            "__________________________________________________________________________________________________\n",
            "activation_116 (Activation)     (None, 8, 8, 512)    0           add_37[0][0]                     \n",
            "__________________________________________________________________________________________________\n",
            "res3c_branch2a (Conv2D)         (None, 8, 8, 128)    65664       activation_116[0][0]             \n",
            "__________________________________________________________________________________________________\n",
            "bn3c_branch2a (BatchNormalizati (None, 8, 8, 128)    512         res3c_branch2a[0][0]             \n",
            "__________________________________________________________________________________________________\n",
            "activation_117 (Activation)     (None, 8, 8, 128)    0           bn3c_branch2a[0][0]              \n",
            "__________________________________________________________________________________________________\n",
            "res3c_branch2b (Conv2D)         (None, 8, 8, 128)    147584      activation_117[0][0]             \n",
            "__________________________________________________________________________________________________\n",
            "bn3c_branch2b (BatchNormalizati (None, 8, 8, 128)    512         res3c_branch2b[0][0]             \n",
            "__________________________________________________________________________________________________\n",
            "activation_118 (Activation)     (None, 8, 8, 128)    0           bn3c_branch2b[0][0]              \n",
            "__________________________________________________________________________________________________\n",
            "res3c_branch2c (Conv2D)         (None, 8, 8, 512)    66048       activation_118[0][0]             \n",
            "__________________________________________________________________________________________________\n",
            "bn3c_branch2c (BatchNormalizati (None, 8, 8, 512)    2048        res3c_branch2c[0][0]             \n",
            "__________________________________________________________________________________________________\n",
            "add_38 (Add)                    (None, 8, 8, 512)    0           bn3c_branch2c[0][0]              \n",
            "                                                                 activation_116[0][0]             \n",
            "__________________________________________________________________________________________________\n",
            "activation_119 (Activation)     (None, 8, 8, 512)    0           add_38[0][0]                     \n",
            "__________________________________________________________________________________________________\n",
            "res3d_branch2a (Conv2D)         (None, 8, 8, 128)    65664       activation_119[0][0]             \n",
            "__________________________________________________________________________________________________\n",
            "bn3d_branch2a (BatchNormalizati (None, 8, 8, 128)    512         res3d_branch2a[0][0]             \n",
            "__________________________________________________________________________________________________\n",
            "activation_120 (Activation)     (None, 8, 8, 128)    0           bn3d_branch2a[0][0]              \n",
            "__________________________________________________________________________________________________\n",
            "res3d_branch2b (Conv2D)         (None, 8, 8, 128)    147584      activation_120[0][0]             \n",
            "__________________________________________________________________________________________________\n",
            "bn3d_branch2b (BatchNormalizati (None, 8, 8, 128)    512         res3d_branch2b[0][0]             \n",
            "__________________________________________________________________________________________________\n",
            "activation_121 (Activation)     (None, 8, 8, 128)    0           bn3d_branch2b[0][0]              \n",
            "__________________________________________________________________________________________________\n",
            "res3d_branch2c (Conv2D)         (None, 8, 8, 512)    66048       activation_121[0][0]             \n",
            "__________________________________________________________________________________________________\n",
            "bn3d_branch2c (BatchNormalizati (None, 8, 8, 512)    2048        res3d_branch2c[0][0]             \n",
            "__________________________________________________________________________________________________\n",
            "add_39 (Add)                    (None, 8, 8, 512)    0           bn3d_branch2c[0][0]              \n",
            "                                                                 activation_119[0][0]             \n",
            "__________________________________________________________________________________________________\n",
            "activation_122 (Activation)     (None, 8, 8, 512)    0           add_39[0][0]                     \n",
            "__________________________________________________________________________________________________\n",
            "res4a_branch2a (Conv2D)         (None, 4, 4, 256)    131328      activation_122[0][0]             \n",
            "__________________________________________________________________________________________________\n",
            "bn4a_branch2a (BatchNormalizati (None, 4, 4, 256)    1024        res4a_branch2a[0][0]             \n",
            "__________________________________________________________________________________________________\n",
            "activation_123 (Activation)     (None, 4, 4, 256)    0           bn4a_branch2a[0][0]              \n",
            "__________________________________________________________________________________________________\n",
            "res4a_branch2b (Conv2D)         (None, 4, 4, 256)    590080      activation_123[0][0]             \n",
            "__________________________________________________________________________________________________\n",
            "bn4a_branch2b (BatchNormalizati (None, 4, 4, 256)    1024        res4a_branch2b[0][0]             \n",
            "__________________________________________________________________________________________________\n",
            "activation_124 (Activation)     (None, 4, 4, 256)    0           bn4a_branch2b[0][0]              \n",
            "__________________________________________________________________________________________________\n",
            "res4a_branch2c (Conv2D)         (None, 4, 4, 1024)   263168      activation_124[0][0]             \n",
            "__________________________________________________________________________________________________\n",
            "res4a_branch1 (Conv2D)          (None, 4, 4, 1024)   525312      activation_122[0][0]             \n",
            "__________________________________________________________________________________________________\n",
            "bn4a_branch2c (BatchNormalizati (None, 4, 4, 1024)   4096        res4a_branch2c[0][0]             \n",
            "__________________________________________________________________________________________________\n",
            "bn4a_branch1 (BatchNormalizatio (None, 4, 4, 1024)   4096        res4a_branch1[0][0]              \n",
            "__________________________________________________________________________________________________\n",
            "add_40 (Add)                    (None, 4, 4, 1024)   0           bn4a_branch2c[0][0]              \n",
            "                                                                 bn4a_branch1[0][0]               \n",
            "__________________________________________________________________________________________________\n",
            "activation_125 (Activation)     (None, 4, 4, 1024)   0           add_40[0][0]                     \n",
            "__________________________________________________________________________________________________\n",
            "res4b_branch2a (Conv2D)         (None, 4, 4, 256)    262400      activation_125[0][0]             \n",
            "__________________________________________________________________________________________________\n",
            "bn4b_branch2a (BatchNormalizati (None, 4, 4, 256)    1024        res4b_branch2a[0][0]             \n",
            "__________________________________________________________________________________________________\n",
            "activation_126 (Activation)     (None, 4, 4, 256)    0           bn4b_branch2a[0][0]              \n",
            "__________________________________________________________________________________________________\n",
            "res4b_branch2b (Conv2D)         (None, 4, 4, 256)    590080      activation_126[0][0]             \n",
            "__________________________________________________________________________________________________\n",
            "bn4b_branch2b (BatchNormalizati (None, 4, 4, 256)    1024        res4b_branch2b[0][0]             \n",
            "__________________________________________________________________________________________________\n",
            "activation_127 (Activation)     (None, 4, 4, 256)    0           bn4b_branch2b[0][0]              \n",
            "__________________________________________________________________________________________________\n",
            "res4b_branch2c (Conv2D)         (None, 4, 4, 1024)   263168      activation_127[0][0]             \n",
            "__________________________________________________________________________________________________\n",
            "bn4b_branch2c (BatchNormalizati (None, 4, 4, 1024)   4096        res4b_branch2c[0][0]             \n",
            "__________________________________________________________________________________________________\n",
            "add_41 (Add)                    (None, 4, 4, 1024)   0           bn4b_branch2c[0][0]              \n",
            "                                                                 activation_125[0][0]             \n",
            "__________________________________________________________________________________________________\n",
            "activation_128 (Activation)     (None, 4, 4, 1024)   0           add_41[0][0]                     \n",
            "__________________________________________________________________________________________________\n",
            "res4c_branch2a (Conv2D)         (None, 4, 4, 256)    262400      activation_128[0][0]             \n",
            "__________________________________________________________________________________________________\n",
            "bn4c_branch2a (BatchNormalizati (None, 4, 4, 256)    1024        res4c_branch2a[0][0]             \n",
            "__________________________________________________________________________________________________\n",
            "activation_129 (Activation)     (None, 4, 4, 256)    0           bn4c_branch2a[0][0]              \n",
            "__________________________________________________________________________________________________\n",
            "res4c_branch2b (Conv2D)         (None, 4, 4, 256)    590080      activation_129[0][0]             \n",
            "__________________________________________________________________________________________________\n",
            "bn4c_branch2b (BatchNormalizati (None, 4, 4, 256)    1024        res4c_branch2b[0][0]             \n",
            "__________________________________________________________________________________________________\n",
            "activation_130 (Activation)     (None, 4, 4, 256)    0           bn4c_branch2b[0][0]              \n",
            "__________________________________________________________________________________________________\n",
            "res4c_branch2c (Conv2D)         (None, 4, 4, 1024)   263168      activation_130[0][0]             \n",
            "__________________________________________________________________________________________________\n",
            "bn4c_branch2c (BatchNormalizati (None, 4, 4, 1024)   4096        res4c_branch2c[0][0]             \n",
            "__________________________________________________________________________________________________\n",
            "add_42 (Add)                    (None, 4, 4, 1024)   0           bn4c_branch2c[0][0]              \n",
            "                                                                 activation_128[0][0]             \n",
            "__________________________________________________________________________________________________\n",
            "activation_131 (Activation)     (None, 4, 4, 1024)   0           add_42[0][0]                     \n",
            "__________________________________________________________________________________________________\n",
            "res4d_branch2a (Conv2D)         (None, 4, 4, 256)    262400      activation_131[0][0]             \n",
            "__________________________________________________________________________________________________\n",
            "bn4d_branch2a (BatchNormalizati (None, 4, 4, 256)    1024        res4d_branch2a[0][0]             \n",
            "__________________________________________________________________________________________________\n",
            "activation_132 (Activation)     (None, 4, 4, 256)    0           bn4d_branch2a[0][0]              \n",
            "__________________________________________________________________________________________________\n",
            "res4d_branch2b (Conv2D)         (None, 4, 4, 256)    590080      activation_132[0][0]             \n",
            "__________________________________________________________________________________________________\n",
            "bn4d_branch2b (BatchNormalizati (None, 4, 4, 256)    1024        res4d_branch2b[0][0]             \n",
            "__________________________________________________________________________________________________\n",
            "activation_133 (Activation)     (None, 4, 4, 256)    0           bn4d_branch2b[0][0]              \n",
            "__________________________________________________________________________________________________\n",
            "res4d_branch2c (Conv2D)         (None, 4, 4, 1024)   263168      activation_133[0][0]             \n",
            "__________________________________________________________________________________________________\n",
            "bn4d_branch2c (BatchNormalizati (None, 4, 4, 1024)   4096        res4d_branch2c[0][0]             \n",
            "__________________________________________________________________________________________________\n",
            "add_43 (Add)                    (None, 4, 4, 1024)   0           bn4d_branch2c[0][0]              \n",
            "                                                                 activation_131[0][0]             \n",
            "__________________________________________________________________________________________________\n",
            "activation_134 (Activation)     (None, 4, 4, 1024)   0           add_43[0][0]                     \n",
            "__________________________________________________________________________________________________\n",
            "res4e_branch2a (Conv2D)         (None, 4, 4, 256)    262400      activation_134[0][0]             \n",
            "__________________________________________________________________________________________________\n",
            "bn4e_branch2a (BatchNormalizati (None, 4, 4, 256)    1024        res4e_branch2a[0][0]             \n",
            "__________________________________________________________________________________________________\n",
            "activation_135 (Activation)     (None, 4, 4, 256)    0           bn4e_branch2a[0][0]              \n",
            "__________________________________________________________________________________________________\n",
            "res4e_branch2b (Conv2D)         (None, 4, 4, 256)    590080      activation_135[0][0]             \n",
            "__________________________________________________________________________________________________\n",
            "bn4e_branch2b (BatchNormalizati (None, 4, 4, 256)    1024        res4e_branch2b[0][0]             \n",
            "__________________________________________________________________________________________________\n",
            "activation_136 (Activation)     (None, 4, 4, 256)    0           bn4e_branch2b[0][0]              \n",
            "__________________________________________________________________________________________________\n",
            "res4e_branch2c (Conv2D)         (None, 4, 4, 1024)   263168      activation_136[0][0]             \n",
            "__________________________________________________________________________________________________\n",
            "bn4e_branch2c (BatchNormalizati (None, 4, 4, 1024)   4096        res4e_branch2c[0][0]             \n",
            "__________________________________________________________________________________________________\n",
            "add_44 (Add)                    (None, 4, 4, 1024)   0           bn4e_branch2c[0][0]              \n",
            "                                                                 activation_134[0][0]             \n",
            "__________________________________________________________________________________________________\n",
            "activation_137 (Activation)     (None, 4, 4, 1024)   0           add_44[0][0]                     \n",
            "__________________________________________________________________________________________________\n",
            "res4f_branch2a (Conv2D)         (None, 4, 4, 256)    262400      activation_137[0][0]             \n",
            "__________________________________________________________________________________________________\n",
            "bn4f_branch2a (BatchNormalizati (None, 4, 4, 256)    1024        res4f_branch2a[0][0]             \n",
            "__________________________________________________________________________________________________\n",
            "activation_138 (Activation)     (None, 4, 4, 256)    0           bn4f_branch2a[0][0]              \n",
            "__________________________________________________________________________________________________\n",
            "res4f_branch2b (Conv2D)         (None, 4, 4, 256)    590080      activation_138[0][0]             \n",
            "__________________________________________________________________________________________________\n",
            "bn4f_branch2b (BatchNormalizati (None, 4, 4, 256)    1024        res4f_branch2b[0][0]             \n",
            "__________________________________________________________________________________________________\n",
            "activation_139 (Activation)     (None, 4, 4, 256)    0           bn4f_branch2b[0][0]              \n",
            "__________________________________________________________________________________________________\n",
            "res4f_branch2c (Conv2D)         (None, 4, 4, 1024)   263168      activation_139[0][0]             \n",
            "__________________________________________________________________________________________________\n",
            "bn4f_branch2c (BatchNormalizati (None, 4, 4, 1024)   4096        res4f_branch2c[0][0]             \n",
            "__________________________________________________________________________________________________\n",
            "add_45 (Add)                    (None, 4, 4, 1024)   0           bn4f_branch2c[0][0]              \n",
            "                                                                 activation_137[0][0]             \n",
            "__________________________________________________________________________________________________\n",
            "activation_140 (Activation)     (None, 4, 4, 1024)   0           add_45[0][0]                     \n",
            "__________________________________________________________________________________________________\n",
            "res5a_branch2a (Conv2D)         (None, 2, 2, 512)    524800      activation_140[0][0]             \n",
            "__________________________________________________________________________________________________\n",
            "bn5a_branch2a (BatchNormalizati (None, 2, 2, 512)    2048        res5a_branch2a[0][0]             \n",
            "__________________________________________________________________________________________________\n",
            "activation_141 (Activation)     (None, 2, 2, 512)    0           bn5a_branch2a[0][0]              \n",
            "__________________________________________________________________________________________________\n",
            "res5a_branch2b (Conv2D)         (None, 2, 2, 512)    2359808     activation_141[0][0]             \n",
            "__________________________________________________________________________________________________\n",
            "bn5a_branch2b (BatchNormalizati (None, 2, 2, 512)    2048        res5a_branch2b[0][0]             \n",
            "__________________________________________________________________________________________________\n",
            "activation_142 (Activation)     (None, 2, 2, 512)    0           bn5a_branch2b[0][0]              \n",
            "__________________________________________________________________________________________________\n",
            "res5a_branch2c (Conv2D)         (None, 2, 2, 2048)   1050624     activation_142[0][0]             \n",
            "__________________________________________________________________________________________________\n",
            "res5a_branch1 (Conv2D)          (None, 2, 2, 2048)   2099200     activation_140[0][0]             \n",
            "__________________________________________________________________________________________________\n",
            "bn5a_branch2c (BatchNormalizati (None, 2, 2, 2048)   8192        res5a_branch2c[0][0]             \n",
            "__________________________________________________________________________________________________\n",
            "bn5a_branch1 (BatchNormalizatio (None, 2, 2, 2048)   8192        res5a_branch1[0][0]              \n",
            "__________________________________________________________________________________________________\n",
            "add_46 (Add)                    (None, 2, 2, 2048)   0           bn5a_branch2c[0][0]              \n",
            "                                                                 bn5a_branch1[0][0]               \n",
            "__________________________________________________________________________________________________\n",
            "activation_143 (Activation)     (None, 2, 2, 2048)   0           add_46[0][0]                     \n",
            "__________________________________________________________________________________________________\n",
            "res5b_branch2a (Conv2D)         (None, 2, 2, 512)    1049088     activation_143[0][0]             \n",
            "__________________________________________________________________________________________________\n",
            "bn5b_branch2a (BatchNormalizati (None, 2, 2, 512)    2048        res5b_branch2a[0][0]             \n",
            "__________________________________________________________________________________________________\n",
            "activation_144 (Activation)     (None, 2, 2, 512)    0           bn5b_branch2a[0][0]              \n",
            "__________________________________________________________________________________________________\n",
            "res5b_branch2b (Conv2D)         (None, 2, 2, 512)    2359808     activation_144[0][0]             \n",
            "__________________________________________________________________________________________________\n",
            "bn5b_branch2b (BatchNormalizati (None, 2, 2, 512)    2048        res5b_branch2b[0][0]             \n",
            "__________________________________________________________________________________________________\n",
            "activation_145 (Activation)     (None, 2, 2, 512)    0           bn5b_branch2b[0][0]              \n",
            "__________________________________________________________________________________________________\n",
            "res5b_branch2c (Conv2D)         (None, 2, 2, 2048)   1050624     activation_145[0][0]             \n",
            "__________________________________________________________________________________________________\n",
            "bn5b_branch2c (BatchNormalizati (None, 2, 2, 2048)   8192        res5b_branch2c[0][0]             \n",
            "__________________________________________________________________________________________________\n",
            "add_47 (Add)                    (None, 2, 2, 2048)   0           bn5b_branch2c[0][0]              \n",
            "                                                                 activation_143[0][0]             \n",
            "__________________________________________________________________________________________________\n",
            "activation_146 (Activation)     (None, 2, 2, 2048)   0           add_47[0][0]                     \n",
            "__________________________________________________________________________________________________\n",
            "res5c_branch2a (Conv2D)         (None, 2, 2, 512)    1049088     activation_146[0][0]             \n",
            "__________________________________________________________________________________________________\n",
            "bn5c_branch2a (BatchNormalizati (None, 2, 2, 512)    2048        res5c_branch2a[0][0]             \n",
            "__________________________________________________________________________________________________\n",
            "activation_147 (Activation)     (None, 2, 2, 512)    0           bn5c_branch2a[0][0]              \n",
            "__________________________________________________________________________________________________\n",
            "res5c_branch2b (Conv2D)         (None, 2, 2, 512)    2359808     activation_147[0][0]             \n",
            "__________________________________________________________________________________________________\n",
            "bn5c_branch2b (BatchNormalizati (None, 2, 2, 512)    2048        res5c_branch2b[0][0]             \n",
            "__________________________________________________________________________________________________\n",
            "activation_148 (Activation)     (None, 2, 2, 512)    0           bn5c_branch2b[0][0]              \n",
            "__________________________________________________________________________________________________\n",
            "res5c_branch2c (Conv2D)         (None, 2, 2, 2048)   1050624     activation_148[0][0]             \n",
            "__________________________________________________________________________________________________\n",
            "bn5c_branch2c (BatchNormalizati (None, 2, 2, 2048)   8192        res5c_branch2c[0][0]             \n",
            "__________________________________________________________________________________________________\n",
            "add_48 (Add)                    (None, 2, 2, 2048)   0           bn5c_branch2c[0][0]              \n",
            "                                                                 activation_146[0][0]             \n",
            "__________________________________________________________________________________________________\n",
            "activation_149 (Activation)     (None, 2, 2, 2048)   0           add_48[0][0]                     \n",
            "__________________________________________________________________________________________________\n",
            "average_pooling2d_2 (AveragePoo (None, 1, 1, 2048)   0           activation_149[0][0]             \n",
            "__________________________________________________________________________________________________\n",
            "flatten_2 (Flatten)             (None, 2048)         0           average_pooling2d_2[0][0]        \n",
            "__________________________________________________________________________________________________\n",
            "fc6 (Dense)                     (None, 6)            12294       flatten_2[0][0]                  \n",
            "==================================================================================================\n",
            "Total params: 23,600,843\n",
            "Trainable params: 23,547,721\n",
            "Non-trainable params: 53,122\n",
            "__________________________________________________________________________________________________\n"
          ],
          "name": "stdout"
        }
      ]
    },
    {
      "cell_type": "markdown",
      "metadata": {
        "id": "QOt5Yz4MnEOH"
      },
      "source": [
        "**Visualize the RESNET50**"
      ]
    },
    {
      "cell_type": "code",
      "metadata": {
        "id": "OoexqP-nnCvd",
        "outputId": "847f4de8-2e01-4e0d-d93c-a0cea0f5506a",
        "colab": {
          "base_uri": "https://localhost:8080/",
          "height": 1000
        }
      },
      "source": [
        "plot_model(model, to_file='model.png')\n",
        "SVG(model_to_dot(model).create(prog='dot', format='svg'))"
      ],
      "execution_count": 58,
      "outputs": [
        {
          "output_type": "execute_result",
          "data": {
            "text/plain": [
              "<IPython.core.display.SVG object>"
            ],
            "image/svg+xml": "<svg height=\"16412pt\" viewBox=\"0.00 0.00 482.00 12309.00\" width=\"643pt\" xmlns=\"http://www.w3.org/2000/svg\" xmlns:xlink=\"http://www.w3.org/1999/xlink\">\n<g class=\"graph\" id=\"graph0\" transform=\"scale(1.3333 1.3333) rotate(0) translate(4 12305)\">\n<title>G</title>\n<polygon fill=\"#ffffff\" points=\"-4,4 -4,-12305 478,-12305 478,4 -4,4\" stroke=\"transparent\"/>\n<!-- 139942187007280 -->\n<g class=\"node\" id=\"node1\">\n<title>139942187007280</title>\n<polygon fill=\"none\" points=\"163,-12264.5 163,-12300.5 296,-12300.5 296,-12264.5 163,-12264.5\" stroke=\"#000000\"/>\n<text fill=\"#000000\" font-family=\"Times,serif\" font-size=\"14.00\" text-anchor=\"middle\" x=\"229.5\" y=\"-12278.8\">input_3: InputLayer</text>\n</g>\n<!-- 139942187185936 -->\n<g class=\"node\" id=\"node2\">\n<title>139942187185936</title>\n<polygon fill=\"none\" points=\"116.5,-12191.5 116.5,-12227.5 342.5,-12227.5 342.5,-12191.5 116.5,-12191.5\" stroke=\"#000000\"/>\n<text fill=\"#000000\" font-family=\"Times,serif\" font-size=\"14.00\" text-anchor=\"middle\" x=\"229.5\" y=\"-12205.8\">zero_padding2d_2: ZeroPadding2D</text>\n</g>\n<!-- 139942187007280&#45;&gt;139942187185936 -->\n<g class=\"edge\" id=\"edge1\">\n<title>139942187007280-&gt;139942187185936</title>\n<path d=\"M229.5,-12264.4551C229.5,-12256.3828 229.5,-12246.6764 229.5,-12237.6817\" fill=\"none\" stroke=\"#000000\"/>\n<polygon fill=\"#000000\" points=\"233.0001,-12237.5903 229.5,-12227.5904 226.0001,-12237.5904 233.0001,-12237.5903\" stroke=\"#000000\"/>\n</g>\n<!-- 139942186729656 -->\n<g class=\"node\" id=\"node3\">\n<title>139942186729656</title>\n<polygon fill=\"none\" points=\"174.5,-12118.5 174.5,-12154.5 284.5,-12154.5 284.5,-12118.5 174.5,-12118.5\" stroke=\"#000000\"/>\n<text fill=\"#000000\" font-family=\"Times,serif\" font-size=\"14.00\" text-anchor=\"middle\" x=\"229.5\" y=\"-12132.8\">conv1: Conv2D</text>\n</g>\n<!-- 139942187185936&#45;&gt;139942186729656 -->\n<g class=\"edge\" id=\"edge2\">\n<title>139942187185936-&gt;139942186729656</title>\n<path d=\"M229.5,-12191.4551C229.5,-12183.3828 229.5,-12173.6764 229.5,-12164.6817\" fill=\"none\" stroke=\"#000000\"/>\n<polygon fill=\"#000000\" points=\"233.0001,-12164.5903 229.5,-12154.5904 226.0001,-12164.5904 233.0001,-12164.5903\" stroke=\"#000000\"/>\n</g>\n<!-- 139942186730944 -->\n<g class=\"node\" id=\"node4\">\n<title>139942186730944</title>\n<polygon fill=\"none\" points=\"131,-12045.5 131,-12081.5 328,-12081.5 328,-12045.5 131,-12045.5\" stroke=\"#000000\"/>\n<text fill=\"#000000\" font-family=\"Times,serif\" font-size=\"14.00\" text-anchor=\"middle\" x=\"229.5\" y=\"-12059.8\">bn_conv1: BatchNormalization</text>\n</g>\n<!-- 139942186729656&#45;&gt;139942186730944 -->\n<g class=\"edge\" id=\"edge3\">\n<title>139942186729656-&gt;139942186730944</title>\n<path d=\"M229.5,-12118.4551C229.5,-12110.3828 229.5,-12100.6764 229.5,-12091.6817\" fill=\"none\" stroke=\"#000000\"/>\n<polygon fill=\"#000000\" points=\"233.0001,-12091.5903 229.5,-12081.5904 226.0001,-12091.5904 233.0001,-12091.5903\" stroke=\"#000000\"/>\n</g>\n<!-- 139942186732456 -->\n<g class=\"node\" id=\"node5\">\n<title>139942186732456</title>\n<polygon fill=\"none\" points=\"145,-11972.5 145,-12008.5 314,-12008.5 314,-11972.5 145,-11972.5\" stroke=\"#000000\"/>\n<text fill=\"#000000\" font-family=\"Times,serif\" font-size=\"14.00\" text-anchor=\"middle\" x=\"229.5\" y=\"-11986.8\">activation_101: Activation</text>\n</g>\n<!-- 139942186730944&#45;&gt;139942186732456 -->\n<g class=\"edge\" id=\"edge4\">\n<title>139942186730944-&gt;139942186732456</title>\n<path d=\"M229.5,-12045.4551C229.5,-12037.3828 229.5,-12027.6764 229.5,-12018.6817\" fill=\"none\" stroke=\"#000000\"/>\n<polygon fill=\"#000000\" points=\"233.0001,-12018.5903 229.5,-12008.5904 226.0001,-12018.5904 233.0001,-12018.5903\" stroke=\"#000000\"/>\n</g>\n<!-- 139942186732848 -->\n<g class=\"node\" id=\"node6\">\n<title>139942186732848</title>\n<polygon fill=\"none\" points=\"119,-11899.5 119,-11935.5 340,-11935.5 340,-11899.5 119,-11899.5\" stroke=\"#000000\"/>\n<text fill=\"#000000\" font-family=\"Times,serif\" font-size=\"14.00\" text-anchor=\"middle\" x=\"229.5\" y=\"-11913.8\">max_pooling2d_2: MaxPooling2D</text>\n</g>\n<!-- 139942186732456&#45;&gt;139942186732848 -->\n<g class=\"edge\" id=\"edge5\">\n<title>139942186732456-&gt;139942186732848</title>\n<path d=\"M229.5,-11972.4551C229.5,-11964.3828 229.5,-11954.6764 229.5,-11945.6817\" fill=\"none\" stroke=\"#000000\"/>\n<polygon fill=\"#000000\" points=\"233.0001,-11945.5903 229.5,-11935.5904 226.0001,-11945.5904 233.0001,-11945.5903\" stroke=\"#000000\"/>\n</g>\n<!-- 139942186949040 -->\n<g class=\"node\" id=\"node7\">\n<title>139942186949040</title>\n<polygon fill=\"none\" points=\"92.5,-11826.5 92.5,-11862.5 256.5,-11862.5 256.5,-11826.5 92.5,-11826.5\" stroke=\"#000000\"/>\n<text fill=\"#000000\" font-family=\"Times,serif\" font-size=\"14.00\" text-anchor=\"middle\" x=\"174.5\" y=\"-11840.8\">res2a_branch2a: Conv2D</text>\n</g>\n<!-- 139942186732848&#45;&gt;139942186949040 -->\n<g class=\"edge\" id=\"edge6\">\n<title>139942186732848-&gt;139942186949040</title>\n<path d=\"M215.9045,-11899.4551C209.3599,-11890.7686 201.3896,-11880.1898 194.196,-11870.642\" fill=\"none\" stroke=\"#000000\"/>\n<polygon fill=\"#000000\" points=\"196.9427,-11868.4711 188.1297,-11862.5904 191.3518,-11872.6834 196.9427,-11868.4711\" stroke=\"#000000\"/>\n</g>\n<!-- 139942186359272 -->\n<g class=\"node\" id=\"node14\">\n<title>139942186359272</title>\n<polygon fill=\"none\" points=\"256.5,-11753.5 256.5,-11789.5 414.5,-11789.5 414.5,-11753.5 256.5,-11753.5\" stroke=\"#000000\"/>\n<text fill=\"#000000\" font-family=\"Times,serif\" font-size=\"14.00\" text-anchor=\"middle\" x=\"335.5\" y=\"-11767.8\">res2a_branch1: Conv2D</text>\n</g>\n<!-- 139942186732848&#45;&gt;139942186359272 -->\n<g class=\"edge\" id=\"edge13\">\n<title>139942186732848-&gt;139942186359272</title>\n<path d=\"M242.7106,-11899.3042C261.1981,-11873.8403 294.9072,-11827.4108 316.2051,-11798.0759\" fill=\"none\" stroke=\"#000000\"/>\n<polygon fill=\"#000000\" points=\"319.08,-11800.0736 322.1229,-11789.9251 313.4154,-11795.961 319.08,-11800.0736\" stroke=\"#000000\"/>\n</g>\n<!-- 139942186950216 -->\n<g class=\"node\" id=\"node8\">\n<title>139942186950216</title>\n<polygon fill=\"none\" points=\"11,-11753.5 11,-11789.5 238,-11789.5 238,-11753.5 11,-11753.5\" stroke=\"#000000\"/>\n<text fill=\"#000000\" font-family=\"Times,serif\" font-size=\"14.00\" text-anchor=\"middle\" x=\"124.5\" y=\"-11767.8\">bn2a_branch2a: BatchNormalization</text>\n</g>\n<!-- 139942186949040&#45;&gt;139942186950216 -->\n<g class=\"edge\" id=\"edge7\">\n<title>139942186949040-&gt;139942186950216</title>\n<path d=\"M162.1404,-11826.4551C156.2509,-11817.8564 149.0913,-11807.4034 142.6039,-11797.9316\" fill=\"none\" stroke=\"#000000\"/>\n<polygon fill=\"#000000\" points=\"145.4292,-11795.8628 136.8907,-11789.5904 139.654,-11799.8185 145.4292,-11795.8628\" stroke=\"#000000\"/>\n</g>\n<!-- 139942186451744 -->\n<g class=\"node\" id=\"node9\">\n<title>139942186451744</title>\n<polygon fill=\"none\" points=\"39,-11680.5 39,-11716.5 208,-11716.5 208,-11680.5 39,-11680.5\" stroke=\"#000000\"/>\n<text fill=\"#000000\" font-family=\"Times,serif\" font-size=\"14.00\" text-anchor=\"middle\" x=\"123.5\" y=\"-11694.8\">activation_102: Activation</text>\n</g>\n<!-- 139942186950216&#45;&gt;139942186451744 -->\n<g class=\"edge\" id=\"edge8\">\n<title>139942186950216-&gt;139942186451744</title>\n<path d=\"M124.2528,-11753.4551C124.1422,-11745.3828 124.0093,-11735.6764 123.8861,-11726.6817\" fill=\"none\" stroke=\"#000000\"/>\n<polygon fill=\"#000000\" points=\"127.3846,-11726.5414 123.7478,-11716.5904 120.3852,-11726.6374 127.3846,-11726.5414\" stroke=\"#000000\"/>\n</g>\n<!-- 139942186451968 -->\n<g class=\"node\" id=\"node10\">\n<title>139942186451968</title>\n<polygon fill=\"none\" points=\"58,-11607.5 58,-11643.5 223,-11643.5 223,-11607.5 58,-11607.5\" stroke=\"#000000\"/>\n<text fill=\"#000000\" font-family=\"Times,serif\" font-size=\"14.00\" text-anchor=\"middle\" x=\"140.5\" y=\"-11621.8\">res2a_branch2b: Conv2D</text>\n</g>\n<!-- 139942186451744&#45;&gt;139942186451968 -->\n<g class=\"edge\" id=\"edge9\">\n<title>139942186451744-&gt;139942186451968</title>\n<path d=\"M127.7022,-11680.4551C129.6025,-11672.2951 131.8917,-11662.4652 134.0054,-11653.3887\" fill=\"none\" stroke=\"#000000\"/>\n<polygon fill=\"#000000\" points=\"137.4278,-11654.1236 136.2872,-11643.5904 130.6102,-11652.5359 137.4278,-11654.1236\" stroke=\"#000000\"/>\n</g>\n<!-- 139942186622256 -->\n<g class=\"node\" id=\"node11\">\n<title>139942186622256</title>\n<polygon fill=\"none\" points=\"61,-11534.5 61,-11570.5 290,-11570.5 290,-11534.5 61,-11534.5\" stroke=\"#000000\"/>\n<text fill=\"#000000\" font-family=\"Times,serif\" font-size=\"14.00\" text-anchor=\"middle\" x=\"175.5\" y=\"-11548.8\">bn2a_branch2b: BatchNormalization</text>\n</g>\n<!-- 139942186451968&#45;&gt;139942186622256 -->\n<g class=\"edge\" id=\"edge10\">\n<title>139942186451968-&gt;139942186622256</title>\n<path d=\"M149.1517,-11607.4551C153.1481,-11599.1196 157.9801,-11589.0416 162.409,-11579.8042\" fill=\"none\" stroke=\"#000000\"/>\n<polygon fill=\"#000000\" points=\"165.6592,-11581.1207 166.8265,-11570.5904 159.3472,-11578.0944 165.6592,-11581.1207\" stroke=\"#000000\"/>\n</g>\n<!-- 139942186661648 -->\n<g class=\"node\" id=\"node12\">\n<title>139942186661648</title>\n<polygon fill=\"none\" points=\"96,-11461.5 96,-11497.5 265,-11497.5 265,-11461.5 96,-11461.5\" stroke=\"#000000\"/>\n<text fill=\"#000000\" font-family=\"Times,serif\" font-size=\"14.00\" text-anchor=\"middle\" x=\"180.5\" y=\"-11475.8\">activation_103: Activation</text>\n</g>\n<!-- 139942186622256&#45;&gt;139942186661648 -->\n<g class=\"edge\" id=\"edge11\">\n<title>139942186622256-&gt;139942186661648</title>\n<path d=\"M176.736,-11534.4551C177.2888,-11526.3828 177.9537,-11516.6764 178.5697,-11507.6817\" fill=\"none\" stroke=\"#000000\"/>\n<polygon fill=\"#000000\" points=\"182.0693,-11507.8062 179.2609,-11497.5904 175.0857,-11507.3278 182.0693,-11507.8062\" stroke=\"#000000\"/>\n</g>\n<!-- 139942186660528 -->\n<g class=\"node\" id=\"node13\">\n<title>139942186660528</title>\n<polygon fill=\"none\" points=\"98.5,-11388.5 98.5,-11424.5 262.5,-11424.5 262.5,-11388.5 98.5,-11388.5\" stroke=\"#000000\"/>\n<text fill=\"#000000\" font-family=\"Times,serif\" font-size=\"14.00\" text-anchor=\"middle\" x=\"180.5\" y=\"-11402.8\">res2a_branch2c: Conv2D</text>\n</g>\n<!-- 139942186661648&#45;&gt;139942186660528 -->\n<g class=\"edge\" id=\"edge12\">\n<title>139942186661648-&gt;139942186660528</title>\n<path d=\"M180.5,-11461.4551C180.5,-11453.3828 180.5,-11443.6764 180.5,-11434.6817\" fill=\"none\" stroke=\"#000000\"/>\n<polygon fill=\"#000000\" points=\"184.0001,-11434.5903 180.5,-11424.5904 177.0001,-11434.5904 184.0001,-11434.5903\" stroke=\"#000000\"/>\n</g>\n<!-- 139942186328584 -->\n<g class=\"node\" id=\"node15\">\n<title>139942186328584</title>\n<polygon fill=\"none\" points=\"67,-11315.5 67,-11351.5 294,-11351.5 294,-11315.5 67,-11315.5\" stroke=\"#000000\"/>\n<text fill=\"#000000\" font-family=\"Times,serif\" font-size=\"14.00\" text-anchor=\"middle\" x=\"180.5\" y=\"-11329.8\">bn2a_branch2c: BatchNormalization</text>\n</g>\n<!-- 139942186660528&#45;&gt;139942186328584 -->\n<g class=\"edge\" id=\"edge14\">\n<title>139942186660528-&gt;139942186328584</title>\n<path d=\"M180.5,-11388.4551C180.5,-11380.3828 180.5,-11370.6764 180.5,-11361.6817\" fill=\"none\" stroke=\"#000000\"/>\n<polygon fill=\"#000000\" points=\"184.0001,-11361.5903 180.5,-11351.5904 177.0001,-11361.5904 184.0001,-11361.5903\" stroke=\"#000000\"/>\n</g>\n<!-- 139942186038272 -->\n<g class=\"node\" id=\"node16\">\n<title>139942186038272</title>\n<polygon fill=\"none\" points=\"226,-11680.5 226,-11716.5 447,-11716.5 447,-11680.5 226,-11680.5\" stroke=\"#000000\"/>\n<text fill=\"#000000\" font-family=\"Times,serif\" font-size=\"14.00\" text-anchor=\"middle\" x=\"336.5\" y=\"-11694.8\">bn2a_branch1: BatchNormalization</text>\n</g>\n<!-- 139942186359272&#45;&gt;139942186038272 -->\n<g class=\"edge\" id=\"edge15\">\n<title>139942186359272-&gt;139942186038272</title>\n<path d=\"M335.7472,-11753.4551C335.8578,-11745.3828 335.9907,-11735.6764 336.1139,-11726.6817\" fill=\"none\" stroke=\"#000000\"/>\n<polygon fill=\"#000000\" points=\"339.6148,-11726.6374 336.2522,-11716.5904 332.6154,-11726.5414 339.6148,-11726.6374\" stroke=\"#000000\"/>\n</g>\n<!-- 139942186061160 -->\n<g class=\"node\" id=\"node17\">\n<title>139942186061160</title>\n<polygon fill=\"none\" points=\"205.5,-11242.5 205.5,-11278.5 297.5,-11278.5 297.5,-11242.5 205.5,-11242.5\" stroke=\"#000000\"/>\n<text fill=\"#000000\" font-family=\"Times,serif\" font-size=\"14.00\" text-anchor=\"middle\" x=\"251.5\" y=\"-11256.8\">add_33: Add</text>\n</g>\n<!-- 139942186328584&#45;&gt;139942186061160 -->\n<g class=\"edge\" id=\"edge16\">\n<title>139942186328584-&gt;139942186061160</title>\n<path d=\"M198.0506,-11315.4551C206.755,-11306.5054 217.4132,-11295.547 226.9156,-11285.7769\" fill=\"none\" stroke=\"#000000\"/>\n<polygon fill=\"#000000\" points=\"229.4421,-11288.1992 233.9053,-11278.5904 224.424,-11283.3187 229.4421,-11288.1992\" stroke=\"#000000\"/>\n</g>\n<!-- 139942186038272&#45;&gt;139942186061160 -->\n<g class=\"edge\" id=\"edge17\">\n<title>139942186038272-&gt;139942186061160</title>\n<path d=\"M334.6352,-11680.0845C331.999,-11652.4173 327.5,-11598.4656 327.5,-11552.5 327.5,-11552.5 327.5,-11552.5 327.5,-11406.5 327.5,-11364.3427 323.0609,-11351.8033 302.5,-11315 296.5853,-11304.4128 288.1793,-11294.2829 279.8941,-11285.6908\" fill=\"none\" stroke=\"#000000\"/>\n<polygon fill=\"#000000\" points=\"282.2739,-11283.1216 272.7098,-11278.5632 277.3437,-11288.0909 282.2739,-11283.1216\" stroke=\"#000000\"/>\n</g>\n<!-- 139942186105488 -->\n<g class=\"node\" id=\"node18\">\n<title>139942186105488</title>\n<polygon fill=\"none\" points=\"167,-11169.5 167,-11205.5 336,-11205.5 336,-11169.5 167,-11169.5\" stroke=\"#000000\"/>\n<text fill=\"#000000\" font-family=\"Times,serif\" font-size=\"14.00\" text-anchor=\"middle\" x=\"251.5\" y=\"-11183.8\">activation_104: Activation</text>\n</g>\n<!-- 139942186061160&#45;&gt;139942186105488 -->\n<g class=\"edge\" id=\"edge18\">\n<title>139942186061160-&gt;139942186105488</title>\n<path d=\"M251.5,-11242.4551C251.5,-11234.3828 251.5,-11224.6764 251.5,-11215.6817\" fill=\"none\" stroke=\"#000000\"/>\n<polygon fill=\"#000000\" points=\"255.0001,-11215.5903 251.5,-11205.5904 248.0001,-11215.5904 255.0001,-11215.5903\" stroke=\"#000000\"/>\n</g>\n<!-- 139942185740888 -->\n<g class=\"node\" id=\"node19\">\n<title>139942185740888</title>\n<polygon fill=\"none\" points=\"98,-11096.5 98,-11132.5 263,-11132.5 263,-11096.5 98,-11096.5\" stroke=\"#000000\"/>\n<text fill=\"#000000\" font-family=\"Times,serif\" font-size=\"14.00\" text-anchor=\"middle\" x=\"180.5\" y=\"-11110.8\">res2b_branch2a: Conv2D</text>\n</g>\n<!-- 139942186105488&#45;&gt;139942185740888 -->\n<g class=\"edge\" id=\"edge19\">\n<title>139942186105488-&gt;139942185740888</title>\n<path d=\"M233.9494,-11169.4551C225.245,-11160.5054 214.5868,-11149.547 205.0844,-11139.7769\" fill=\"none\" stroke=\"#000000\"/>\n<polygon fill=\"#000000\" points=\"207.576,-11137.3187 198.0947,-11132.5904 202.5579,-11142.1992 207.576,-11137.3187\" stroke=\"#000000\"/>\n</g>\n<!-- 139942185163576 -->\n<g class=\"node\" id=\"node27\">\n<title>139942185163576</title>\n<polygon fill=\"none\" points=\"189.5,-10512.5 189.5,-10548.5 281.5,-10548.5 281.5,-10512.5 189.5,-10512.5\" stroke=\"#000000\"/>\n<text fill=\"#000000\" font-family=\"Times,serif\" font-size=\"14.00\" text-anchor=\"middle\" x=\"235.5\" y=\"-10526.8\">add_34: Add</text>\n</g>\n<!-- 139942186105488&#45;&gt;139942185163576 -->\n<g class=\"edge\" id=\"edge28\">\n<title>139942186105488-&gt;139942185163576</title>\n<path d=\"M263.3762,-11169.4575C279.8145,-11142.6944 307.5,-11090.366 307.5,-11041.5 307.5,-11041.5 307.5,-11041.5 307.5,-10676.5 307.5,-10634.8732 307.0378,-10621.7568 287.5,-10585 281.8031,-10574.2823 273.402,-10564.1724 265.0064,-10555.6383\" fill=\"none\" stroke=\"#000000\"/>\n<polygon fill=\"#000000\" points=\"267.3189,-10553.0057 257.6979,-10548.5687 262.452,-10558.037 267.3189,-10553.0057\" stroke=\"#000000\"/>\n</g>\n<!-- 139942185741280 -->\n<g class=\"node\" id=\"node20\">\n<title>139942185741280</title>\n<polygon fill=\"none\" points=\"50,-11023.5 50,-11059.5 279,-11059.5 279,-11023.5 50,-11023.5\" stroke=\"#000000\"/>\n<text fill=\"#000000\" font-family=\"Times,serif\" font-size=\"14.00\" text-anchor=\"middle\" x=\"164.5\" y=\"-11037.8\">bn2b_branch2a: BatchNormalization</text>\n</g>\n<!-- 139942185740888&#45;&gt;139942185741280 -->\n<g class=\"edge\" id=\"edge20\">\n<title>139942185740888-&gt;139942185741280</title>\n<path d=\"M176.5449,-11096.4551C174.7565,-11088.2951 172.602,-11078.4652 170.6126,-11069.3887\" fill=\"none\" stroke=\"#000000\"/>\n<polygon fill=\"#000000\" points=\"174.0249,-11068.6091 168.465,-11059.5904 167.1872,-11070.1079 174.0249,-11068.6091\" stroke=\"#000000\"/>\n</g>\n<!-- 139942185768384 -->\n<g class=\"node\" id=\"node21\">\n<title>139942185768384</title>\n<polygon fill=\"none\" points=\"80,-10950.5 80,-10986.5 249,-10986.5 249,-10950.5 80,-10950.5\" stroke=\"#000000\"/>\n<text fill=\"#000000\" font-family=\"Times,serif\" font-size=\"14.00\" text-anchor=\"middle\" x=\"164.5\" y=\"-10964.8\">activation_105: Activation</text>\n</g>\n<!-- 139942185741280&#45;&gt;139942185768384 -->\n<g class=\"edge\" id=\"edge21\">\n<title>139942185741280-&gt;139942185768384</title>\n<path d=\"M164.5,-11023.4551C164.5,-11015.3828 164.5,-11005.6764 164.5,-10996.6817\" fill=\"none\" stroke=\"#000000\"/>\n<polygon fill=\"#000000\" points=\"168.0001,-10996.5903 164.5,-10986.5904 161.0001,-10996.5904 168.0001,-10996.5903\" stroke=\"#000000\"/>\n</g>\n<!-- 139942185766984 -->\n<g class=\"node\" id=\"node22\">\n<title>139942185766984</title>\n<polygon fill=\"none\" points=\"81,-10877.5 81,-10913.5 248,-10913.5 248,-10877.5 81,-10877.5\" stroke=\"#000000\"/>\n<text fill=\"#000000\" font-family=\"Times,serif\" font-size=\"14.00\" text-anchor=\"middle\" x=\"164.5\" y=\"-10891.8\">res2b_branch2b: Conv2D</text>\n</g>\n<!-- 139942185768384&#45;&gt;139942185766984 -->\n<g class=\"edge\" id=\"edge22\">\n<title>139942185768384-&gt;139942185766984</title>\n<path d=\"M164.5,-10950.4551C164.5,-10942.3828 164.5,-10932.6764 164.5,-10923.6817\" fill=\"none\" stroke=\"#000000\"/>\n<polygon fill=\"#000000\" points=\"168.0001,-10923.5903 164.5,-10913.5904 161.0001,-10923.5904 168.0001,-10923.5903\" stroke=\"#000000\"/>\n</g>\n<!-- 139942185418200 -->\n<g class=\"node\" id=\"node23\">\n<title>139942185418200</title>\n<polygon fill=\"none\" points=\"49.5,-10804.5 49.5,-10840.5 279.5,-10840.5 279.5,-10804.5 49.5,-10804.5\" stroke=\"#000000\"/>\n<text fill=\"#000000\" font-family=\"Times,serif\" font-size=\"14.00\" text-anchor=\"middle\" x=\"164.5\" y=\"-10818.8\">bn2b_branch2b: BatchNormalization</text>\n</g>\n<!-- 139942185766984&#45;&gt;139942185418200 -->\n<g class=\"edge\" id=\"edge23\">\n<title>139942185766984-&gt;139942185418200</title>\n<path d=\"M164.5,-10877.4551C164.5,-10869.3828 164.5,-10859.6764 164.5,-10850.6817\" fill=\"none\" stroke=\"#000000\"/>\n<polygon fill=\"#000000\" points=\"168.0001,-10850.5903 164.5,-10840.5904 161.0001,-10850.5904 168.0001,-10850.5903\" stroke=\"#000000\"/>\n</g>\n<!-- 139942185458096 -->\n<g class=\"node\" id=\"node24\">\n<title>139942185458096</title>\n<polygon fill=\"none\" points=\"80,-10731.5 80,-10767.5 249,-10767.5 249,-10731.5 80,-10731.5\" stroke=\"#000000\"/>\n<text fill=\"#000000\" font-family=\"Times,serif\" font-size=\"14.00\" text-anchor=\"middle\" x=\"164.5\" y=\"-10745.8\">activation_106: Activation</text>\n</g>\n<!-- 139942185418200&#45;&gt;139942185458096 -->\n<g class=\"edge\" id=\"edge24\">\n<title>139942185418200-&gt;139942185458096</title>\n<path d=\"M164.5,-10804.4551C164.5,-10796.3828 164.5,-10786.6764 164.5,-10777.6817\" fill=\"none\" stroke=\"#000000\"/>\n<polygon fill=\"#000000\" points=\"168.0001,-10777.5903 164.5,-10767.5904 161.0001,-10777.5904 168.0001,-10777.5903\" stroke=\"#000000\"/>\n</g>\n<!-- 139942185456472 -->\n<g class=\"node\" id=\"node25\">\n<title>139942185456472</title>\n<polygon fill=\"none\" points=\"82,-10658.5 82,-10694.5 247,-10694.5 247,-10658.5 82,-10658.5\" stroke=\"#000000\"/>\n<text fill=\"#000000\" font-family=\"Times,serif\" font-size=\"14.00\" text-anchor=\"middle\" x=\"164.5\" y=\"-10672.8\">res2b_branch2c: Conv2D</text>\n</g>\n<!-- 139942185458096&#45;&gt;139942185456472 -->\n<g class=\"edge\" id=\"edge25\">\n<title>139942185458096-&gt;139942185456472</title>\n<path d=\"M164.5,-10731.4551C164.5,-10723.3828 164.5,-10713.6764 164.5,-10704.6817\" fill=\"none\" stroke=\"#000000\"/>\n<polygon fill=\"#000000\" points=\"168.0001,-10704.5903 164.5,-10694.5904 161.0001,-10704.5904 168.0001,-10704.5903\" stroke=\"#000000\"/>\n</g>\n<!-- 139942185652912 -->\n<g class=\"node\" id=\"node26\">\n<title>139942185652912</title>\n<polygon fill=\"none\" points=\"50,-10585.5 50,-10621.5 279,-10621.5 279,-10585.5 50,-10585.5\" stroke=\"#000000\"/>\n<text fill=\"#000000\" font-family=\"Times,serif\" font-size=\"14.00\" text-anchor=\"middle\" x=\"164.5\" y=\"-10599.8\">bn2b_branch2c: BatchNormalization</text>\n</g>\n<!-- 139942185456472&#45;&gt;139942185652912 -->\n<g class=\"edge\" id=\"edge26\">\n<title>139942185456472-&gt;139942185652912</title>\n<path d=\"M164.5,-10658.4551C164.5,-10650.3828 164.5,-10640.6764 164.5,-10631.6817\" fill=\"none\" stroke=\"#000000\"/>\n<polygon fill=\"#000000\" points=\"168.0001,-10631.5903 164.5,-10621.5904 161.0001,-10631.5904 168.0001,-10631.5903\" stroke=\"#000000\"/>\n</g>\n<!-- 139942185652912&#45;&gt;139942185163576 -->\n<g class=\"edge\" id=\"edge27\">\n<title>139942185652912-&gt;139942185163576</title>\n<path d=\"M182.0506,-10585.4551C190.755,-10576.5054 201.4132,-10565.547 210.9156,-10555.7769\" fill=\"none\" stroke=\"#000000\"/>\n<polygon fill=\"#000000\" points=\"213.4421,-10558.1992 217.9053,-10548.5904 208.424,-10553.3187 213.4421,-10558.1992\" stroke=\"#000000\"/>\n</g>\n<!-- 139942185208072 -->\n<g class=\"node\" id=\"node28\">\n<title>139942185208072</title>\n<polygon fill=\"none\" points=\"151,-10439.5 151,-10475.5 320,-10475.5 320,-10439.5 151,-10439.5\" stroke=\"#000000\"/>\n<text fill=\"#000000\" font-family=\"Times,serif\" font-size=\"14.00\" text-anchor=\"middle\" x=\"235.5\" y=\"-10453.8\">activation_107: Activation</text>\n</g>\n<!-- 139942185163576&#45;&gt;139942185208072 -->\n<g class=\"edge\" id=\"edge29\">\n<title>139942185163576-&gt;139942185208072</title>\n<path d=\"M235.5,-10512.4551C235.5,-10504.3828 235.5,-10494.6764 235.5,-10485.6817\" fill=\"none\" stroke=\"#000000\"/>\n<polygon fill=\"#000000\" points=\"239.0001,-10485.5903 235.5,-10475.5904 232.0001,-10485.5904 239.0001,-10485.5903\" stroke=\"#000000\"/>\n</g>\n<!-- 139942185376176 -->\n<g class=\"node\" id=\"node29\">\n<title>139942185376176</title>\n<polygon fill=\"none\" points=\"82.5,-10366.5 82.5,-10402.5 246.5,-10402.5 246.5,-10366.5 82.5,-10366.5\" stroke=\"#000000\"/>\n<text fill=\"#000000\" font-family=\"Times,serif\" font-size=\"14.00\" text-anchor=\"middle\" x=\"164.5\" y=\"-10380.8\">res2c_branch2a: Conv2D</text>\n</g>\n<!-- 139942185208072&#45;&gt;139942185376176 -->\n<g class=\"edge\" id=\"edge30\">\n<title>139942185208072-&gt;139942185376176</title>\n<path d=\"M217.9494,-10439.4551C209.245,-10430.5054 198.5868,-10419.547 189.0844,-10409.7769\" fill=\"none\" stroke=\"#000000\"/>\n<polygon fill=\"#000000\" points=\"191.576,-10407.3187 182.0947,-10402.5904 186.5579,-10412.1992 191.576,-10407.3187\" stroke=\"#000000\"/>\n</g>\n<!-- 139942184782480 -->\n<g class=\"node\" id=\"node37\">\n<title>139942184782480</title>\n<polygon fill=\"none\" points=\"172.5,-9782.5 172.5,-9818.5 264.5,-9818.5 264.5,-9782.5 172.5,-9782.5\" stroke=\"#000000\"/>\n<text fill=\"#000000\" font-family=\"Times,serif\" font-size=\"14.00\" text-anchor=\"middle\" x=\"218.5\" y=\"-9796.8\">add_35: Add</text>\n</g>\n<!-- 139942185208072&#45;&gt;139942184782480 -->\n<g class=\"edge\" id=\"edge39\">\n<title>139942185208072-&gt;139942184782480</title>\n<path d=\"M247.1641,-10439.4282C263.3088,-10412.6285 290.5,-10360.255 290.5,-10311.5 290.5,-10311.5 290.5,-10311.5 290.5,-9946.5 290.5,-9904.776 289.0965,-9891.8356 269.5,-9855 263.8512,-9844.382 255.5948,-9834.2995 247.3641,-9825.7599\" fill=\"none\" stroke=\"#000000\"/>\n<polygon fill=\"#000000\" points=\"249.7749,-9823.2216 240.2038,-9818.6779 244.8524,-9828.1984 249.7749,-9823.2216\" stroke=\"#000000\"/>\n</g>\n<!-- 139942185377632 -->\n<g class=\"node\" id=\"node30\">\n<title>139942185377632</title>\n<polygon fill=\"none\" points=\"35,-10293.5 35,-10329.5 262,-10329.5 262,-10293.5 35,-10293.5\" stroke=\"#000000\"/>\n<text fill=\"#000000\" font-family=\"Times,serif\" font-size=\"14.00\" text-anchor=\"middle\" x=\"148.5\" y=\"-10307.8\">bn2c_branch2a: BatchNormalization</text>\n</g>\n<!-- 139942185376176&#45;&gt;139942185377632 -->\n<g class=\"edge\" id=\"edge31\">\n<title>139942185376176-&gt;139942185377632</title>\n<path d=\"M160.5449,-10366.4551C158.7565,-10358.2951 156.602,-10348.4652 154.6126,-10339.3887\" fill=\"none\" stroke=\"#000000\"/>\n<polygon fill=\"#000000\" points=\"158.0249,-10338.6091 152.465,-10329.5904 151.1872,-10340.1079 158.0249,-10338.6091\" stroke=\"#000000\"/>\n</g>\n<!-- 139942185399072 -->\n<g class=\"node\" id=\"node31\">\n<title>139942185399072</title>\n<polygon fill=\"none\" points=\"63,-10220.5 63,-10256.5 232,-10256.5 232,-10220.5 63,-10220.5\" stroke=\"#000000\"/>\n<text fill=\"#000000\" font-family=\"Times,serif\" font-size=\"14.00\" text-anchor=\"middle\" x=\"147.5\" y=\"-10234.8\">activation_108: Activation</text>\n</g>\n<!-- 139942185377632&#45;&gt;139942185399072 -->\n<g class=\"edge\" id=\"edge32\">\n<title>139942185377632-&gt;139942185399072</title>\n<path d=\"M148.2528,-10293.4551C148.1422,-10285.3828 148.0093,-10275.6764 147.8861,-10266.6817\" fill=\"none\" stroke=\"#000000\"/>\n<polygon fill=\"#000000\" points=\"151.3846,-10266.5414 147.7478,-10256.5904 144.3852,-10266.6374 151.3846,-10266.5414\" stroke=\"#000000\"/>\n</g>\n<!-- 139942185399296 -->\n<g class=\"node\" id=\"node32\">\n<title>139942185399296</title>\n<polygon fill=\"none\" points=\"65,-10147.5 65,-10183.5 230,-10183.5 230,-10147.5 65,-10147.5\" stroke=\"#000000\"/>\n<text fill=\"#000000\" font-family=\"Times,serif\" font-size=\"14.00\" text-anchor=\"middle\" x=\"147.5\" y=\"-10161.8\">res2c_branch2b: Conv2D</text>\n</g>\n<!-- 139942185399072&#45;&gt;139942185399296 -->\n<g class=\"edge\" id=\"edge33\">\n<title>139942185399072-&gt;139942185399296</title>\n<path d=\"M147.5,-10220.4551C147.5,-10212.3828 147.5,-10202.6764 147.5,-10193.6817\" fill=\"none\" stroke=\"#000000\"/>\n<polygon fill=\"#000000\" points=\"151.0001,-10193.5903 147.5,-10183.5904 144.0001,-10193.5904 151.0001,-10193.5903\" stroke=\"#000000\"/>\n</g>\n<!-- 139942185033008 -->\n<g class=\"node\" id=\"node33\">\n<title>139942185033008</title>\n<polygon fill=\"none\" points=\"33,-10074.5 33,-10110.5 262,-10110.5 262,-10074.5 33,-10074.5\" stroke=\"#000000\"/>\n<text fill=\"#000000\" font-family=\"Times,serif\" font-size=\"14.00\" text-anchor=\"middle\" x=\"147.5\" y=\"-10088.8\">bn2c_branch2b: BatchNormalization</text>\n</g>\n<!-- 139942185399296&#45;&gt;139942185033008 -->\n<g class=\"edge\" id=\"edge34\">\n<title>139942185399296-&gt;139942185033008</title>\n<path d=\"M147.5,-10147.4551C147.5,-10139.3828 147.5,-10129.6764 147.5,-10120.6817\" fill=\"none\" stroke=\"#000000\"/>\n<polygon fill=\"#000000\" points=\"151.0001,-10120.5903 147.5,-10110.5904 144.0001,-10120.5904 151.0001,-10120.5903\" stroke=\"#000000\"/>\n</g>\n<!-- 139942185084688 -->\n<g class=\"node\" id=\"node34\">\n<title>139942185084688</title>\n<polygon fill=\"none\" points=\"63,-10001.5 63,-10037.5 232,-10037.5 232,-10001.5 63,-10001.5\" stroke=\"#000000\"/>\n<text fill=\"#000000\" font-family=\"Times,serif\" font-size=\"14.00\" text-anchor=\"middle\" x=\"147.5\" y=\"-10015.8\">activation_109: Activation</text>\n</g>\n<!-- 139942185033008&#45;&gt;139942185084688 -->\n<g class=\"edge\" id=\"edge35\">\n<title>139942185033008-&gt;139942185084688</title>\n<path d=\"M147.5,-10074.4551C147.5,-10066.3828 147.5,-10056.6764 147.5,-10047.6817\" fill=\"none\" stroke=\"#000000\"/>\n<polygon fill=\"#000000\" points=\"151.0001,-10047.5903 147.5,-10037.5904 144.0001,-10047.5904 151.0001,-10047.5903\" stroke=\"#000000\"/>\n</g>\n<!-- 139942185083568 -->\n<g class=\"node\" id=\"node35\">\n<title>139942185083568</title>\n<polygon fill=\"none\" points=\"65.5,-9928.5 65.5,-9964.5 229.5,-9964.5 229.5,-9928.5 65.5,-9928.5\" stroke=\"#000000\"/>\n<text fill=\"#000000\" font-family=\"Times,serif\" font-size=\"14.00\" text-anchor=\"middle\" x=\"147.5\" y=\"-9942.8\">res2c_branch2c: Conv2D</text>\n</g>\n<!-- 139942185084688&#45;&gt;139942185083568 -->\n<g class=\"edge\" id=\"edge36\">\n<title>139942185084688-&gt;139942185083568</title>\n<path d=\"M147.5,-10001.4551C147.5,-9993.3828 147.5,-9983.6764 147.5,-9974.6817\" fill=\"none\" stroke=\"#000000\"/>\n<polygon fill=\"#000000\" points=\"151.0001,-9974.5903 147.5,-9964.5904 144.0001,-9974.5904 151.0001,-9974.5903\" stroke=\"#000000\"/>\n</g>\n<!-- 139942184759816 -->\n<g class=\"node\" id=\"node36\">\n<title>139942184759816</title>\n<polygon fill=\"none\" points=\"34,-9855.5 34,-9891.5 261,-9891.5 261,-9855.5 34,-9855.5\" stroke=\"#000000\"/>\n<text fill=\"#000000\" font-family=\"Times,serif\" font-size=\"14.00\" text-anchor=\"middle\" x=\"147.5\" y=\"-9869.8\">bn2c_branch2c: BatchNormalization</text>\n</g>\n<!-- 139942185083568&#45;&gt;139942184759816 -->\n<g class=\"edge\" id=\"edge37\">\n<title>139942185083568-&gt;139942184759816</title>\n<path d=\"M147.5,-9928.4551C147.5,-9920.3828 147.5,-9910.6764 147.5,-9901.6817\" fill=\"none\" stroke=\"#000000\"/>\n<polygon fill=\"#000000\" points=\"151.0001,-9901.5903 147.5,-9891.5904 144.0001,-9901.5904 151.0001,-9901.5903\" stroke=\"#000000\"/>\n</g>\n<!-- 139942184759816&#45;&gt;139942184782480 -->\n<g class=\"edge\" id=\"edge38\">\n<title>139942184759816-&gt;139942184782480</title>\n<path d=\"M165.0506,-9855.4551C173.755,-9846.5054 184.4132,-9835.547 193.9156,-9825.7769\" fill=\"none\" stroke=\"#000000\"/>\n<polygon fill=\"#000000\" points=\"196.4421,-9828.1992 200.9053,-9818.5904 191.424,-9823.3187 196.4421,-9828.1992\" stroke=\"#000000\"/>\n</g>\n<!-- 139942184839264 -->\n<g class=\"node\" id=\"node38\">\n<title>139942184839264</title>\n<polygon fill=\"none\" points=\"134.5,-9709.5 134.5,-9745.5 302.5,-9745.5 302.5,-9709.5 134.5,-9709.5\" stroke=\"#000000\"/>\n<text fill=\"#000000\" font-family=\"Times,serif\" font-size=\"14.00\" text-anchor=\"middle\" x=\"218.5\" y=\"-9723.8\">activation_110: Activation</text>\n</g>\n<!-- 139942184782480&#45;&gt;139942184839264 -->\n<g class=\"edge\" id=\"edge40\">\n<title>139942184782480-&gt;139942184839264</title>\n<path d=\"M218.5,-9782.4551C218.5,-9774.3828 218.5,-9764.6764 218.5,-9755.6817\" fill=\"none\" stroke=\"#000000\"/>\n<polygon fill=\"#000000\" points=\"222.0001,-9755.5903 218.5,-9745.5904 215.0001,-9755.5904 222.0001,-9755.5903\" stroke=\"#000000\"/>\n</g>\n<!-- 139942184474888 -->\n<g class=\"node\" id=\"node39\">\n<title>139942184474888</title>\n<polygon fill=\"none\" points=\"81.5,-9636.5 81.5,-9672.5 245.5,-9672.5 245.5,-9636.5 81.5,-9636.5\" stroke=\"#000000\"/>\n<text fill=\"#000000\" font-family=\"Times,serif\" font-size=\"14.00\" text-anchor=\"middle\" x=\"163.5\" y=\"-9650.8\">res3a_branch2a: Conv2D</text>\n</g>\n<!-- 139942184839264&#45;&gt;139942184474888 -->\n<g class=\"edge\" id=\"edge41\">\n<title>139942184839264-&gt;139942184474888</title>\n<path d=\"M204.9045,-9709.4551C198.3599,-9700.7686 190.3896,-9690.1898 183.196,-9680.642\" fill=\"none\" stroke=\"#000000\"/>\n<polygon fill=\"#000000\" points=\"185.9427,-9678.4711 177.1297,-9672.5904 180.3518,-9682.6834 185.9427,-9678.4711\" stroke=\"#000000\"/>\n</g>\n<!-- 139942183872832 -->\n<g class=\"node\" id=\"node46\">\n<title>139942183872832</title>\n<polygon fill=\"none\" points=\"245.5,-9563.5 245.5,-9599.5 403.5,-9599.5 403.5,-9563.5 245.5,-9563.5\" stroke=\"#000000\"/>\n<text fill=\"#000000\" font-family=\"Times,serif\" font-size=\"14.00\" text-anchor=\"middle\" x=\"324.5\" y=\"-9577.8\">res3a_branch1: Conv2D</text>\n</g>\n<!-- 139942184839264&#45;&gt;139942183872832 -->\n<g class=\"edge\" id=\"edge48\">\n<title>139942184839264-&gt;139942183872832</title>\n<path d=\"M231.7106,-9709.3042C250.1981,-9683.8403 283.9072,-9637.4108 305.2051,-9608.0759\" fill=\"none\" stroke=\"#000000\"/>\n<polygon fill=\"#000000\" points=\"308.08,-9610.0736 311.1229,-9599.9251 302.4154,-9605.961 308.08,-9610.0736\" stroke=\"#000000\"/>\n</g>\n<!-- 139942184476344 -->\n<g class=\"node\" id=\"node40\">\n<title>139942184476344</title>\n<polygon fill=\"none\" points=\"0,-9563.5 0,-9599.5 227,-9599.5 227,-9563.5 0,-9563.5\" stroke=\"#000000\"/>\n<text fill=\"#000000\" font-family=\"Times,serif\" font-size=\"14.00\" text-anchor=\"middle\" x=\"113.5\" y=\"-9577.8\">bn3a_branch2a: BatchNormalization</text>\n</g>\n<!-- 139942184474888&#45;&gt;139942184476344 -->\n<g class=\"edge\" id=\"edge42\">\n<title>139942184474888-&gt;139942184476344</title>\n<path d=\"M151.1404,-9636.4551C145.2509,-9627.8564 138.0913,-9617.4034 131.6039,-9607.9316\" fill=\"none\" stroke=\"#000000\"/>\n<polygon fill=\"#000000\" points=\"134.4292,-9605.8628 125.8907,-9599.5904 128.654,-9609.8185 134.4292,-9605.8628\" stroke=\"#000000\"/>\n</g>\n<!-- 139942184489592 -->\n<g class=\"node\" id=\"node41\">\n<title>139942184489592</title>\n<polygon fill=\"none\" points=\"30,-9490.5 30,-9526.5 197,-9526.5 197,-9490.5 30,-9490.5\" stroke=\"#000000\"/>\n<text fill=\"#000000\" font-family=\"Times,serif\" font-size=\"14.00\" text-anchor=\"middle\" x=\"113.5\" y=\"-9504.8\">activation_111: Activation</text>\n</g>\n<!-- 139942184476344&#45;&gt;139942184489592 -->\n<g class=\"edge\" id=\"edge43\">\n<title>139942184476344-&gt;139942184489592</title>\n<path d=\"M113.5,-9563.4551C113.5,-9555.3828 113.5,-9545.6764 113.5,-9536.6817\" fill=\"none\" stroke=\"#000000\"/>\n<polygon fill=\"#000000\" points=\"117.0001,-9536.5903 113.5,-9526.5904 110.0001,-9536.5904 117.0001,-9536.5903\" stroke=\"#000000\"/>\n</g>\n<!-- 139942184489816 -->\n<g class=\"node\" id=\"node42\">\n<title>139942184489816</title>\n<polygon fill=\"none\" points=\"65,-9417.5 65,-9453.5 230,-9453.5 230,-9417.5 65,-9417.5\" stroke=\"#000000\"/>\n<text fill=\"#000000\" font-family=\"Times,serif\" font-size=\"14.00\" text-anchor=\"middle\" x=\"147.5\" y=\"-9431.8\">res3a_branch2b: Conv2D</text>\n</g>\n<!-- 139942184489592&#45;&gt;139942184489816 -->\n<g class=\"edge\" id=\"edge44\">\n<title>139942184489592-&gt;139942184489816</title>\n<path d=\"M121.9045,-9490.4551C125.7868,-9482.1196 130.4806,-9472.0416 134.783,-9462.8042\" fill=\"none\" stroke=\"#000000\"/>\n<polygon fill=\"#000000\" points=\"138.025,-9464.1331 139.0744,-9453.5904 131.6795,-9461.1776 138.025,-9464.1331\" stroke=\"#000000\"/>\n</g>\n<!-- 139942184148104 -->\n<g class=\"node\" id=\"node43\">\n<title>139942184148104</title>\n<polygon fill=\"none\" points=\"50,-9344.5 50,-9380.5 279,-9380.5 279,-9344.5 50,-9344.5\" stroke=\"#000000\"/>\n<text fill=\"#000000\" font-family=\"Times,serif\" font-size=\"14.00\" text-anchor=\"middle\" x=\"164.5\" y=\"-9358.8\">bn3a_branch2b: BatchNormalization</text>\n</g>\n<!-- 139942184489816&#45;&gt;139942184148104 -->\n<g class=\"edge\" id=\"edge45\">\n<title>139942184489816-&gt;139942184148104</title>\n<path d=\"M151.7022,-9417.4551C153.6025,-9409.2951 155.8917,-9399.4652 158.0054,-9390.3887\" fill=\"none\" stroke=\"#000000\"/>\n<polygon fill=\"#000000\" points=\"161.4278,-9391.1236 160.2872,-9380.5904 154.6102,-9389.5359 161.4278,-9391.1236\" stroke=\"#000000\"/>\n</g>\n<!-- 139942184187496 -->\n<g class=\"node\" id=\"node44\">\n<title>139942184187496</title>\n<polygon fill=\"none\" points=\"90.5,-9271.5 90.5,-9307.5 258.5,-9307.5 258.5,-9271.5 90.5,-9271.5\" stroke=\"#000000\"/>\n<text fill=\"#000000\" font-family=\"Times,serif\" font-size=\"14.00\" text-anchor=\"middle\" x=\"174.5\" y=\"-9285.8\">activation_112: Activation</text>\n</g>\n<!-- 139942184148104&#45;&gt;139942184187496 -->\n<g class=\"edge\" id=\"edge46\">\n<title>139942184148104-&gt;139942184187496</title>\n<path d=\"M166.9719,-9344.4551C168.0777,-9336.3828 169.4073,-9326.6764 170.6395,-9317.6817\" fill=\"none\" stroke=\"#000000\"/>\n<polygon fill=\"#000000\" points=\"174.1322,-9317.9729 172.0219,-9307.5904 167.197,-9317.0228 174.1322,-9317.9729\" stroke=\"#000000\"/>\n</g>\n<!-- 139942184186376 -->\n<g class=\"node\" id=\"node45\">\n<title>139942184186376</title>\n<polygon fill=\"none\" points=\"92.5,-9198.5 92.5,-9234.5 256.5,-9234.5 256.5,-9198.5 92.5,-9198.5\" stroke=\"#000000\"/>\n<text fill=\"#000000\" font-family=\"Times,serif\" font-size=\"14.00\" text-anchor=\"middle\" x=\"174.5\" y=\"-9212.8\">res3a_branch2c: Conv2D</text>\n</g>\n<!-- 139942184187496&#45;&gt;139942184186376 -->\n<g class=\"edge\" id=\"edge47\">\n<title>139942184187496-&gt;139942184186376</title>\n<path d=\"M174.5,-9271.4551C174.5,-9263.3828 174.5,-9253.6764 174.5,-9244.6817\" fill=\"none\" stroke=\"#000000\"/>\n<polygon fill=\"#000000\" points=\"178.0001,-9244.5903 174.5,-9234.5904 171.0001,-9244.5904 178.0001,-9244.5903\" stroke=\"#000000\"/>\n</g>\n<!-- 139942183850336 -->\n<g class=\"node\" id=\"node47\">\n<title>139942183850336</title>\n<polygon fill=\"none\" points=\"61,-9125.5 61,-9161.5 288,-9161.5 288,-9125.5 61,-9125.5\" stroke=\"#000000\"/>\n<text fill=\"#000000\" font-family=\"Times,serif\" font-size=\"14.00\" text-anchor=\"middle\" x=\"174.5\" y=\"-9139.8\">bn3a_branch2c: BatchNormalization</text>\n</g>\n<!-- 139942184186376&#45;&gt;139942183850336 -->\n<g class=\"edge\" id=\"edge49\">\n<title>139942184186376-&gt;139942183850336</title>\n<path d=\"M174.5,-9198.4551C174.5,-9190.3828 174.5,-9180.6764 174.5,-9171.6817\" fill=\"none\" stroke=\"#000000\"/>\n<polygon fill=\"#000000\" points=\"178.0001,-9171.5903 174.5,-9161.5904 171.0001,-9171.5904 178.0001,-9171.5903\" stroke=\"#000000\"/>\n</g>\n<!-- 139942184072024 -->\n<g class=\"node\" id=\"node48\">\n<title>139942184072024</title>\n<polygon fill=\"none\" points=\"215,-9490.5 215,-9526.5 436,-9526.5 436,-9490.5 215,-9490.5\" stroke=\"#000000\"/>\n<text fill=\"#000000\" font-family=\"Times,serif\" font-size=\"14.00\" text-anchor=\"middle\" x=\"325.5\" y=\"-9504.8\">bn3a_branch1: BatchNormalization</text>\n</g>\n<!-- 139942183872832&#45;&gt;139942184072024 -->\n<g class=\"edge\" id=\"edge50\">\n<title>139942183872832-&gt;139942184072024</title>\n<path d=\"M324.7472,-9563.4551C324.8578,-9555.3828 324.9907,-9545.6764 325.1139,-9536.6817\" fill=\"none\" stroke=\"#000000\"/>\n<polygon fill=\"#000000\" points=\"328.6148,-9536.6374 325.2522,-9526.5904 321.6154,-9536.5414 328.6148,-9536.6374\" stroke=\"#000000\"/>\n</g>\n<!-- 139942184090816 -->\n<g class=\"node\" id=\"node49\">\n<title>139942184090816</title>\n<polygon fill=\"none\" points=\"199.5,-9052.5 199.5,-9088.5 291.5,-9088.5 291.5,-9052.5 199.5,-9052.5\" stroke=\"#000000\"/>\n<text fill=\"#000000\" font-family=\"Times,serif\" font-size=\"14.00\" text-anchor=\"middle\" x=\"245.5\" y=\"-9066.8\">add_36: Add</text>\n</g>\n<!-- 139942183850336&#45;&gt;139942184090816 -->\n<g class=\"edge\" id=\"edge51\">\n<title>139942183850336-&gt;139942184090816</title>\n<path d=\"M192.0506,-9125.4551C200.755,-9116.5054 211.4132,-9105.547 220.9156,-9095.7769\" fill=\"none\" stroke=\"#000000\"/>\n<polygon fill=\"#000000\" points=\"223.4421,-9098.1992 227.9053,-9088.5904 218.424,-9093.3187 223.4421,-9098.1992\" stroke=\"#000000\"/>\n</g>\n<!-- 139942184072024&#45;&gt;139942184090816 -->\n<g class=\"edge\" id=\"edge52\">\n<title>139942184072024-&gt;139942184090816</title>\n<path d=\"M323.6352,-9490.0845C320.999,-9462.4173 316.5,-9408.4656 316.5,-9362.5 316.5,-9362.5 316.5,-9362.5 316.5,-9216.5 316.5,-9174.8732 315.8594,-9161.8511 296.5,-9125 290.9066,-9114.3527 282.6654,-9104.2622 274.4315,-9095.7242\" fill=\"none\" stroke=\"#000000\"/>\n<polygon fill=\"#000000\" points=\"276.8388,-9093.1825 267.2644,-9088.6458 271.92,-9098.163 276.8388,-9093.1825\" stroke=\"#000000\"/>\n</g>\n<!-- 139942183627240 -->\n<g class=\"node\" id=\"node50\">\n<title>139942183627240</title>\n<polygon fill=\"none\" points=\"161.5,-8979.5 161.5,-9015.5 329.5,-9015.5 329.5,-8979.5 161.5,-8979.5\" stroke=\"#000000\"/>\n<text fill=\"#000000\" font-family=\"Times,serif\" font-size=\"14.00\" text-anchor=\"middle\" x=\"245.5\" y=\"-8993.8\">activation_113: Activation</text>\n</g>\n<!-- 139942184090816&#45;&gt;139942183627240 -->\n<g class=\"edge\" id=\"edge53\">\n<title>139942184090816-&gt;139942183627240</title>\n<path d=\"M245.5,-9052.4551C245.5,-9044.3828 245.5,-9034.6764 245.5,-9025.6817\" fill=\"none\" stroke=\"#000000\"/>\n<polygon fill=\"#000000\" points=\"249.0001,-9025.5903 245.5,-9015.5904 242.0001,-9025.5904 249.0001,-9025.5903\" stroke=\"#000000\"/>\n</g>\n<!-- 139942183786928 -->\n<g class=\"node\" id=\"node51\">\n<title>139942183786928</title>\n<polygon fill=\"none\" points=\"92,-8906.5 92,-8942.5 257,-8942.5 257,-8906.5 92,-8906.5\" stroke=\"#000000\"/>\n<text fill=\"#000000\" font-family=\"Times,serif\" font-size=\"14.00\" text-anchor=\"middle\" x=\"174.5\" y=\"-8920.8\">res3b_branch2a: Conv2D</text>\n</g>\n<!-- 139942183627240&#45;&gt;139942183786928 -->\n<g class=\"edge\" id=\"edge54\">\n<title>139942183627240-&gt;139942183786928</title>\n<path d=\"M227.9494,-8979.4551C219.245,-8970.5054 208.5868,-8959.547 199.0844,-8949.7769\" fill=\"none\" stroke=\"#000000\"/>\n<polygon fill=\"#000000\" points=\"201.576,-8947.3187 192.0947,-8942.5904 196.5579,-8952.1992 201.576,-8947.3187\" stroke=\"#000000\"/>\n</g>\n<!-- 139942183201424 -->\n<g class=\"node\" id=\"node59\">\n<title>139942183201424</title>\n<polygon fill=\"none\" points=\"183.5,-8322.5 183.5,-8358.5 275.5,-8358.5 275.5,-8322.5 183.5,-8322.5\" stroke=\"#000000\"/>\n<text fill=\"#000000\" font-family=\"Times,serif\" font-size=\"14.00\" text-anchor=\"middle\" x=\"229.5\" y=\"-8336.8\">add_37: Add</text>\n</g>\n<!-- 139942183627240&#45;&gt;139942183201424 -->\n<g class=\"edge\" id=\"edge63\">\n<title>139942183627240-&gt;139942183201424</title>\n<path d=\"M257.3762,-8979.4575C273.8145,-8952.6944 301.5,-8900.366 301.5,-8851.5 301.5,-8851.5 301.5,-8851.5 301.5,-8486.5 301.5,-8444.8732 301.0378,-8431.7568 281.5,-8395 275.8031,-8384.2823 267.402,-8374.1724 259.0064,-8365.6383\" fill=\"none\" stroke=\"#000000\"/>\n<polygon fill=\"#000000\" points=\"261.3189,-8363.0057 251.6979,-8358.5687 256.452,-8368.037 261.3189,-8363.0057\" stroke=\"#000000\"/>\n</g>\n<!-- 139942183788384 -->\n<g class=\"node\" id=\"node52\">\n<title>139942183788384</title>\n<polygon fill=\"none\" points=\"44,-8833.5 44,-8869.5 273,-8869.5 273,-8833.5 44,-8833.5\" stroke=\"#000000\"/>\n<text fill=\"#000000\" font-family=\"Times,serif\" font-size=\"14.00\" text-anchor=\"middle\" x=\"158.5\" y=\"-8847.8\">bn3b_branch2a: BatchNormalization</text>\n</g>\n<!-- 139942183786928&#45;&gt;139942183788384 -->\n<g class=\"edge\" id=\"edge55\">\n<title>139942183786928-&gt;139942183788384</title>\n<path d=\"M170.5449,-8906.4551C168.7565,-8898.2951 166.602,-8888.4652 164.6126,-8879.3887\" fill=\"none\" stroke=\"#000000\"/>\n<polygon fill=\"#000000\" points=\"168.0249,-8878.6091 162.465,-8869.5904 161.1872,-8880.1079 168.0249,-8878.6091\" stroke=\"#000000\"/>\n</g>\n<!-- 139942183809824 -->\n<g class=\"node\" id=\"node53\">\n<title>139942183809824</title>\n<polygon fill=\"none\" points=\"74.5,-8760.5 74.5,-8796.5 242.5,-8796.5 242.5,-8760.5 74.5,-8760.5\" stroke=\"#000000\"/>\n<text fill=\"#000000\" font-family=\"Times,serif\" font-size=\"14.00\" text-anchor=\"middle\" x=\"158.5\" y=\"-8774.8\">activation_114: Activation</text>\n</g>\n<!-- 139942183788384&#45;&gt;139942183809824 -->\n<g class=\"edge\" id=\"edge56\">\n<title>139942183788384-&gt;139942183809824</title>\n<path d=\"M158.5,-8833.4551C158.5,-8825.3828 158.5,-8815.6764 158.5,-8806.6817\" fill=\"none\" stroke=\"#000000\"/>\n<polygon fill=\"#000000\" points=\"162.0001,-8806.5903 158.5,-8796.5904 155.0001,-8806.5904 162.0001,-8806.5903\" stroke=\"#000000\"/>\n</g>\n<!-- 139942183810048 -->\n<g class=\"node\" id=\"node54\">\n<title>139942183810048</title>\n<polygon fill=\"none\" points=\"75,-8687.5 75,-8723.5 242,-8723.5 242,-8687.5 75,-8687.5\" stroke=\"#000000\"/>\n<text fill=\"#000000\" font-family=\"Times,serif\" font-size=\"14.00\" text-anchor=\"middle\" x=\"158.5\" y=\"-8701.8\">res3b_branch2b: Conv2D</text>\n</g>\n<!-- 139942183809824&#45;&gt;139942183810048 -->\n<g class=\"edge\" id=\"edge57\">\n<title>139942183809824-&gt;139942183810048</title>\n<path d=\"M158.5,-8760.4551C158.5,-8752.3828 158.5,-8742.6764 158.5,-8733.6817\" fill=\"none\" stroke=\"#000000\"/>\n<polygon fill=\"#000000\" points=\"162.0001,-8733.5903 158.5,-8723.5904 155.0001,-8733.5904 162.0001,-8733.5903\" stroke=\"#000000\"/>\n</g>\n<!-- 139942183468336 -->\n<g class=\"node\" id=\"node55\">\n<title>139942183468336</title>\n<polygon fill=\"none\" points=\"43.5,-8614.5 43.5,-8650.5 273.5,-8650.5 273.5,-8614.5 43.5,-8614.5\" stroke=\"#000000\"/>\n<text fill=\"#000000\" font-family=\"Times,serif\" font-size=\"14.00\" text-anchor=\"middle\" x=\"158.5\" y=\"-8628.8\">bn3b_branch2b: BatchNormalization</text>\n</g>\n<!-- 139942183810048&#45;&gt;139942183468336 -->\n<g class=\"edge\" id=\"edge58\">\n<title>139942183810048-&gt;139942183468336</title>\n<path d=\"M158.5,-8687.4551C158.5,-8679.3828 158.5,-8669.6764 158.5,-8660.6817\" fill=\"none\" stroke=\"#000000\"/>\n<polygon fill=\"#000000\" points=\"162.0001,-8660.5903 158.5,-8650.5904 155.0001,-8660.5904 162.0001,-8660.5903\" stroke=\"#000000\"/>\n</g>\n<!-- 139942183507728 -->\n<g class=\"node\" id=\"node56\">\n<title>139942183507728</title>\n<polygon fill=\"none\" points=\"74.5,-8541.5 74.5,-8577.5 242.5,-8577.5 242.5,-8541.5 74.5,-8541.5\" stroke=\"#000000\"/>\n<text fill=\"#000000\" font-family=\"Times,serif\" font-size=\"14.00\" text-anchor=\"middle\" x=\"158.5\" y=\"-8555.8\">activation_115: Activation</text>\n</g>\n<!-- 139942183468336&#45;&gt;139942183507728 -->\n<g class=\"edge\" id=\"edge59\">\n<title>139942183468336-&gt;139942183507728</title>\n<path d=\"M158.5,-8614.4551C158.5,-8606.3828 158.5,-8596.6764 158.5,-8587.6817\" fill=\"none\" stroke=\"#000000\"/>\n<polygon fill=\"#000000\" points=\"162.0001,-8587.5903 158.5,-8577.5904 155.0001,-8587.5904 162.0001,-8587.5903\" stroke=\"#000000\"/>\n</g>\n<!-- 139942183506608 -->\n<g class=\"node\" id=\"node57\">\n<title>139942183506608</title>\n<polygon fill=\"none\" points=\"76,-8468.5 76,-8504.5 241,-8504.5 241,-8468.5 76,-8468.5\" stroke=\"#000000\"/>\n<text fill=\"#000000\" font-family=\"Times,serif\" font-size=\"14.00\" text-anchor=\"middle\" x=\"158.5\" y=\"-8482.8\">res3b_branch2c: Conv2D</text>\n</g>\n<!-- 139942183507728&#45;&gt;139942183506608 -->\n<g class=\"edge\" id=\"edge60\">\n<title>139942183507728-&gt;139942183506608</title>\n<path d=\"M158.5,-8541.4551C158.5,-8533.3828 158.5,-8523.6764 158.5,-8514.6817\" fill=\"none\" stroke=\"#000000\"/>\n<polygon fill=\"#000000\" points=\"162.0001,-8514.5903 158.5,-8504.5904 155.0001,-8514.5904 162.0001,-8514.5903\" stroke=\"#000000\"/>\n</g>\n<!-- 139942183150088 -->\n<g class=\"node\" id=\"node58\">\n<title>139942183150088</title>\n<polygon fill=\"none\" points=\"44,-8395.5 44,-8431.5 273,-8431.5 273,-8395.5 44,-8395.5\" stroke=\"#000000\"/>\n<text fill=\"#000000\" font-family=\"Times,serif\" font-size=\"14.00\" text-anchor=\"middle\" x=\"158.5\" y=\"-8409.8\">bn3b_branch2c: BatchNormalization</text>\n</g>\n<!-- 139942183506608&#45;&gt;139942183150088 -->\n<g class=\"edge\" id=\"edge61\">\n<title>139942183506608-&gt;139942183150088</title>\n<path d=\"M158.5,-8468.4551C158.5,-8460.3828 158.5,-8450.6764 158.5,-8441.6817\" fill=\"none\" stroke=\"#000000\"/>\n<polygon fill=\"#000000\" points=\"162.0001,-8441.5903 158.5,-8431.5904 155.0001,-8441.5904 162.0001,-8441.5903\" stroke=\"#000000\"/>\n</g>\n<!-- 139942183150088&#45;&gt;139942183201424 -->\n<g class=\"edge\" id=\"edge62\">\n<title>139942183150088-&gt;139942183201424</title>\n<path d=\"M176.0506,-8395.4551C184.755,-8386.5054 195.4132,-8375.547 204.9156,-8365.7769\" fill=\"none\" stroke=\"#000000\"/>\n<polygon fill=\"#000000\" points=\"207.4421,-8368.1992 211.9053,-8358.5904 202.424,-8363.3187 207.4421,-8368.1992\" stroke=\"#000000\"/>\n</g>\n<!-- 139942183258208 -->\n<g class=\"node\" id=\"node60\">\n<title>139942183258208</title>\n<polygon fill=\"none\" points=\"145.5,-8249.5 145.5,-8285.5 313.5,-8285.5 313.5,-8249.5 145.5,-8249.5\" stroke=\"#000000\"/>\n<text fill=\"#000000\" font-family=\"Times,serif\" font-size=\"14.00\" text-anchor=\"middle\" x=\"229.5\" y=\"-8263.8\">activation_116: Activation</text>\n</g>\n<!-- 139942183201424&#45;&gt;139942183258208 -->\n<g class=\"edge\" id=\"edge64\">\n<title>139942183201424-&gt;139942183258208</title>\n<path d=\"M229.5,-8322.4551C229.5,-8314.3828 229.5,-8304.6764 229.5,-8295.6817\" fill=\"none\" stroke=\"#000000\"/>\n<polygon fill=\"#000000\" points=\"233.0001,-8295.5903 229.5,-8285.5904 226.0001,-8295.5904 233.0001,-8295.5903\" stroke=\"#000000\"/>\n</g>\n<!-- 139942182893832 -->\n<g class=\"node\" id=\"node61\">\n<title>139942182893832</title>\n<polygon fill=\"none\" points=\"92.5,-8176.5 92.5,-8212.5 256.5,-8212.5 256.5,-8176.5 92.5,-8176.5\" stroke=\"#000000\"/>\n<text fill=\"#000000\" font-family=\"Times,serif\" font-size=\"14.00\" text-anchor=\"middle\" x=\"174.5\" y=\"-8190.8\">res3c_branch2a: Conv2D</text>\n</g>\n<!-- 139942183258208&#45;&gt;139942182893832 -->\n<g class=\"edge\" id=\"edge65\">\n<title>139942183258208-&gt;139942182893832</title>\n<path d=\"M215.9045,-8249.4551C209.3599,-8240.7686 201.3896,-8230.1898 194.196,-8220.642\" fill=\"none\" stroke=\"#000000\"/>\n<polygon fill=\"#000000\" points=\"196.9427,-8218.4711 188.1297,-8212.5904 191.3518,-8222.6834 196.9427,-8218.4711\" stroke=\"#000000\"/>\n</g>\n<!-- 139942182304232 -->\n<g class=\"node\" id=\"node69\">\n<title>139942182304232</title>\n<polygon fill=\"none\" points=\"183.5,-7592.5 183.5,-7628.5 275.5,-7628.5 275.5,-7592.5 183.5,-7592.5\" stroke=\"#000000\"/>\n<text fill=\"#000000\" font-family=\"Times,serif\" font-size=\"14.00\" text-anchor=\"middle\" x=\"229.5\" y=\"-7606.8\">add_38: Add</text>\n</g>\n<!-- 139942183258208&#45;&gt;139942182304232 -->\n<g class=\"edge\" id=\"edge74\">\n<title>139942183258208-&gt;139942182304232</title>\n<path d=\"M245.2572,-8249.0704C266.1744,-8222.6575 300.5,-8171.6702 300.5,-8121.5 300.5,-8121.5 300.5,-8121.5 300.5,-7756.5 300.5,-7714.8732 299.8594,-7701.8511 280.5,-7665 274.9066,-7654.3527 266.6654,-7644.2622 258.4315,-7635.7242\" fill=\"none\" stroke=\"#000000\"/>\n<polygon fill=\"#000000\" points=\"260.8388,-7633.1825 251.2644,-7628.6458 255.92,-7638.163 260.8388,-7633.1825\" stroke=\"#000000\"/>\n</g>\n<!-- 139942182895288 -->\n<g class=\"node\" id=\"node62\">\n<title>139942182895288</title>\n<polygon fill=\"none\" points=\"45,-8103.5 45,-8139.5 272,-8139.5 272,-8103.5 45,-8103.5\" stroke=\"#000000\"/>\n<text fill=\"#000000\" font-family=\"Times,serif\" font-size=\"14.00\" text-anchor=\"middle\" x=\"158.5\" y=\"-8117.8\">bn3c_branch2a: BatchNormalization</text>\n</g>\n<!-- 139942182893832&#45;&gt;139942182895288 -->\n<g class=\"edge\" id=\"edge66\">\n<title>139942182893832-&gt;139942182895288</title>\n<path d=\"M170.5449,-8176.4551C168.7565,-8168.2951 166.602,-8158.4652 164.6126,-8149.3887\" fill=\"none\" stroke=\"#000000\"/>\n<polygon fill=\"#000000\" points=\"168.0249,-8148.6091 162.465,-8139.5904 161.1872,-8150.1079 168.0249,-8148.6091\" stroke=\"#000000\"/>\n</g>\n<!-- 139942182920824 -->\n<g class=\"node\" id=\"node63\">\n<title>139942182920824</title>\n<polygon fill=\"none\" points=\"74.5,-8030.5 74.5,-8066.5 242.5,-8066.5 242.5,-8030.5 74.5,-8030.5\" stroke=\"#000000\"/>\n<text fill=\"#000000\" font-family=\"Times,serif\" font-size=\"14.00\" text-anchor=\"middle\" x=\"158.5\" y=\"-8044.8\">activation_117: Activation</text>\n</g>\n<!-- 139942182895288&#45;&gt;139942182920824 -->\n<g class=\"edge\" id=\"edge67\">\n<title>139942182895288-&gt;139942182920824</title>\n<path d=\"M158.5,-8103.4551C158.5,-8095.3828 158.5,-8085.6764 158.5,-8076.6817\" fill=\"none\" stroke=\"#000000\"/>\n<polygon fill=\"#000000\" points=\"162.0001,-8076.5903 158.5,-8066.5904 155.0001,-8076.5904 162.0001,-8076.5903\" stroke=\"#000000\"/>\n</g>\n<!-- 139942182921048 -->\n<g class=\"node\" id=\"node64\">\n<title>139942182921048</title>\n<polygon fill=\"none\" points=\"76,-7957.5 76,-7993.5 241,-7993.5 241,-7957.5 76,-7957.5\" stroke=\"#000000\"/>\n<text fill=\"#000000\" font-family=\"Times,serif\" font-size=\"14.00\" text-anchor=\"middle\" x=\"158.5\" y=\"-7971.8\">res3c_branch2b: Conv2D</text>\n</g>\n<!-- 139942182920824&#45;&gt;139942182921048 -->\n<g class=\"edge\" id=\"edge68\">\n<title>139942182920824-&gt;139942182921048</title>\n<path d=\"M158.5,-8030.4551C158.5,-8022.3828 158.5,-8012.6764 158.5,-8003.6817\" fill=\"none\" stroke=\"#000000\"/>\n<polygon fill=\"#000000\" points=\"162.0001,-8003.5903 158.5,-7993.5904 155.0001,-8003.5904 162.0001,-8003.5903\" stroke=\"#000000\"/>\n</g>\n<!-- 139942182558856 -->\n<g class=\"node\" id=\"node65\">\n<title>139942182558856</title>\n<polygon fill=\"none\" points=\"43,-7884.5 43,-7920.5 272,-7920.5 272,-7884.5 43,-7884.5\" stroke=\"#000000\"/>\n<text fill=\"#000000\" font-family=\"Times,serif\" font-size=\"14.00\" text-anchor=\"middle\" x=\"157.5\" y=\"-7898.8\">bn3c_branch2b: BatchNormalization</text>\n</g>\n<!-- 139942182921048&#45;&gt;139942182558856 -->\n<g class=\"edge\" id=\"edge69\">\n<title>139942182921048-&gt;139942182558856</title>\n<path d=\"M158.2528,-7957.4551C158.1422,-7949.3828 158.0093,-7939.6764 157.8861,-7930.6817\" fill=\"none\" stroke=\"#000000\"/>\n<polygon fill=\"#000000\" points=\"161.3846,-7930.5414 157.7478,-7920.5904 154.3852,-7930.6374 161.3846,-7930.5414\" stroke=\"#000000\"/>\n</g>\n<!-- 139942182602344 -->\n<g class=\"node\" id=\"node66\">\n<title>139942182602344</title>\n<polygon fill=\"none\" points=\"73.5,-7811.5 73.5,-7847.5 241.5,-7847.5 241.5,-7811.5 73.5,-7811.5\" stroke=\"#000000\"/>\n<text fill=\"#000000\" font-family=\"Times,serif\" font-size=\"14.00\" text-anchor=\"middle\" x=\"157.5\" y=\"-7825.8\">activation_118: Activation</text>\n</g>\n<!-- 139942182558856&#45;&gt;139942182602344 -->\n<g class=\"edge\" id=\"edge70\">\n<title>139942182558856-&gt;139942182602344</title>\n<path d=\"M157.5,-7884.4551C157.5,-7876.3828 157.5,-7866.6764 157.5,-7857.6817\" fill=\"none\" stroke=\"#000000\"/>\n<polygon fill=\"#000000\" points=\"161.0001,-7857.5903 157.5,-7847.5904 154.0001,-7857.5904 161.0001,-7857.5903\" stroke=\"#000000\"/>\n</g>\n<!-- 139942182601224 -->\n<g class=\"node\" id=\"node67\">\n<title>139942182601224</title>\n<polygon fill=\"none\" points=\"75.5,-7738.5 75.5,-7774.5 239.5,-7774.5 239.5,-7738.5 75.5,-7738.5\" stroke=\"#000000\"/>\n<text fill=\"#000000\" font-family=\"Times,serif\" font-size=\"14.00\" text-anchor=\"middle\" x=\"157.5\" y=\"-7752.8\">res3c_branch2c: Conv2D</text>\n</g>\n<!-- 139942182602344&#45;&gt;139942182601224 -->\n<g class=\"edge\" id=\"edge71\">\n<title>139942182602344-&gt;139942182601224</title>\n<path d=\"M157.5,-7811.4551C157.5,-7803.3828 157.5,-7793.6764 157.5,-7784.6817\" fill=\"none\" stroke=\"#000000\"/>\n<polygon fill=\"#000000\" points=\"161.0001,-7784.5903 157.5,-7774.5904 154.0001,-7784.5904 161.0001,-7784.5903\" stroke=\"#000000\"/>\n</g>\n<!-- 139942182277472 -->\n<g class=\"node\" id=\"node68\">\n<title>139942182277472</title>\n<polygon fill=\"none\" points=\"45,-7665.5 45,-7701.5 272,-7701.5 272,-7665.5 45,-7665.5\" stroke=\"#000000\"/>\n<text fill=\"#000000\" font-family=\"Times,serif\" font-size=\"14.00\" text-anchor=\"middle\" x=\"158.5\" y=\"-7679.8\">bn3c_branch2c: BatchNormalization</text>\n</g>\n<!-- 139942182601224&#45;&gt;139942182277472 -->\n<g class=\"edge\" id=\"edge72\">\n<title>139942182601224-&gt;139942182277472</title>\n<path d=\"M157.7472,-7738.4551C157.8578,-7730.3828 157.9907,-7720.6764 158.1139,-7711.6817\" fill=\"none\" stroke=\"#000000\"/>\n<polygon fill=\"#000000\" points=\"161.6148,-7711.6374 158.2522,-7701.5904 154.6154,-7711.5414 161.6148,-7711.6374\" stroke=\"#000000\"/>\n</g>\n<!-- 139942182277472&#45;&gt;139942182304232 -->\n<g class=\"edge\" id=\"edge73\">\n<title>139942182277472-&gt;139942182304232</title>\n<path d=\"M176.0506,-7665.4551C184.755,-7656.5054 195.4132,-7645.547 204.9156,-7635.7769\" fill=\"none\" stroke=\"#000000\"/>\n<polygon fill=\"#000000\" points=\"207.4421,-7638.1992 211.9053,-7628.5904 202.424,-7633.3187 207.4421,-7638.1992\" stroke=\"#000000\"/>\n</g>\n<!-- 139942182365112 -->\n<g class=\"node\" id=\"node70\">\n<title>139942182365112</title>\n<polygon fill=\"none\" points=\"145.5,-7519.5 145.5,-7555.5 313.5,-7555.5 313.5,-7519.5 145.5,-7519.5\" stroke=\"#000000\"/>\n<text fill=\"#000000\" font-family=\"Times,serif\" font-size=\"14.00\" text-anchor=\"middle\" x=\"229.5\" y=\"-7533.8\">activation_119: Activation</text>\n</g>\n<!-- 139942182304232&#45;&gt;139942182365112 -->\n<g class=\"edge\" id=\"edge75\">\n<title>139942182304232-&gt;139942182365112</title>\n<path d=\"M229.5,-7592.4551C229.5,-7584.3828 229.5,-7574.6764 229.5,-7565.6817\" fill=\"none\" stroke=\"#000000\"/>\n<polygon fill=\"#000000\" points=\"233.0001,-7565.5903 229.5,-7555.5904 226.0001,-7565.5904 233.0001,-7565.5903\" stroke=\"#000000\"/>\n</g>\n<!-- 139942182000736 -->\n<g class=\"node\" id=\"node71\">\n<title>139942182000736</title>\n<polygon fill=\"none\" points=\"92,-7446.5 92,-7482.5 257,-7482.5 257,-7446.5 92,-7446.5\" stroke=\"#000000\"/>\n<text fill=\"#000000\" font-family=\"Times,serif\" font-size=\"14.00\" text-anchor=\"middle\" x=\"174.5\" y=\"-7460.8\">res3d_branch2a: Conv2D</text>\n</g>\n<!-- 139942182365112&#45;&gt;139942182000736 -->\n<g class=\"edge\" id=\"edge76\">\n<title>139942182365112-&gt;139942182000736</title>\n<path d=\"M215.9045,-7519.4551C209.3599,-7510.7686 201.3896,-7500.1898 194.196,-7490.642\" fill=\"none\" stroke=\"#000000\"/>\n<polygon fill=\"#000000\" points=\"196.9427,-7488.4711 188.1297,-7482.5904 191.3518,-7492.6834 196.9427,-7488.4711\" stroke=\"#000000\"/>\n</g>\n<!-- 139942181927568 -->\n<g class=\"node\" id=\"node79\">\n<title>139942181927568</title>\n<polygon fill=\"none\" points=\"183.5,-6862.5 183.5,-6898.5 275.5,-6898.5 275.5,-6862.5 183.5,-6862.5\" stroke=\"#000000\"/>\n<text fill=\"#000000\" font-family=\"Times,serif\" font-size=\"14.00\" text-anchor=\"middle\" x=\"229.5\" y=\"-6876.8\">add_39: Add</text>\n</g>\n<!-- 139942182365112&#45;&gt;139942181927568 -->\n<g class=\"edge\" id=\"edge85\">\n<title>139942182365112-&gt;139942181927568</title>\n<path d=\"M245.4791,-7519.1083C266.6909,-7492.7403 301.5,-7441.8061 301.5,-7391.5 301.5,-7391.5 301.5,-7391.5 301.5,-7026.5 301.5,-6984.8732 301.0378,-6971.7568 281.5,-6935 275.8031,-6924.2823 267.402,-6914.1724 259.0064,-6905.6383\" fill=\"none\" stroke=\"#000000\"/>\n<polygon fill=\"#000000\" points=\"261.3189,-6903.0057 251.6979,-6898.5687 256.452,-6908.037 261.3189,-6903.0057\" stroke=\"#000000\"/>\n</g>\n<!-- 139942182002192 -->\n<g class=\"node\" id=\"node72\">\n<title>139942182002192</title>\n<polygon fill=\"none\" points=\"44,-7373.5 44,-7409.5 273,-7409.5 273,-7373.5 44,-7373.5\" stroke=\"#000000\"/>\n<text fill=\"#000000\" font-family=\"Times,serif\" font-size=\"14.00\" text-anchor=\"middle\" x=\"158.5\" y=\"-7387.8\">bn3d_branch2a: BatchNormalization</text>\n</g>\n<!-- 139942182000736&#45;&gt;139942182002192 -->\n<g class=\"edge\" id=\"edge77\">\n<title>139942182000736-&gt;139942182002192</title>\n<path d=\"M170.5449,-7446.4551C168.7565,-7438.2951 166.602,-7428.4652 164.6126,-7419.3887\" fill=\"none\" stroke=\"#000000\"/>\n<polygon fill=\"#000000\" points=\"168.0249,-7418.6091 162.465,-7409.5904 161.1872,-7420.1079 168.0249,-7418.6091\" stroke=\"#000000\"/>\n</g>\n<!-- 139942182031824 -->\n<g class=\"node\" id=\"node73\">\n<title>139942182031824</title>\n<polygon fill=\"none\" points=\"74,-7300.5 74,-7336.5 243,-7336.5 243,-7300.5 74,-7300.5\" stroke=\"#000000\"/>\n<text fill=\"#000000\" font-family=\"Times,serif\" font-size=\"14.00\" text-anchor=\"middle\" x=\"158.5\" y=\"-7314.8\">activation_120: Activation</text>\n</g>\n<!-- 139942182002192&#45;&gt;139942182031824 -->\n<g class=\"edge\" id=\"edge78\">\n<title>139942182002192-&gt;139942182031824</title>\n<path d=\"M158.5,-7373.4551C158.5,-7365.3828 158.5,-7355.6764 158.5,-7346.6817\" fill=\"none\" stroke=\"#000000\"/>\n<polygon fill=\"#000000\" points=\"162.0001,-7346.5903 158.5,-7336.5904 155.0001,-7346.5904 162.0001,-7346.5903\" stroke=\"#000000\"/>\n</g>\n<!-- 139942182032048 -->\n<g class=\"node\" id=\"node74\">\n<title>139942182032048</title>\n<polygon fill=\"none\" points=\"75,-7227.5 75,-7263.5 242,-7263.5 242,-7227.5 75,-7227.5\" stroke=\"#000000\"/>\n<text fill=\"#000000\" font-family=\"Times,serif\" font-size=\"14.00\" text-anchor=\"middle\" x=\"158.5\" y=\"-7241.8\">res3d_branch2b: Conv2D</text>\n</g>\n<!-- 139942182031824&#45;&gt;139942182032048 -->\n<g class=\"edge\" id=\"edge79\">\n<title>139942182031824-&gt;139942182032048</title>\n<path d=\"M158.5,-7300.4551C158.5,-7292.3828 158.5,-7282.6764 158.5,-7273.6817\" fill=\"none\" stroke=\"#000000\"/>\n<polygon fill=\"#000000\" points=\"162.0001,-7273.5903 158.5,-7263.5904 155.0001,-7273.5904 162.0001,-7273.5903\" stroke=\"#000000\"/>\n</g>\n<!-- 139942182194312 -->\n<g class=\"node\" id=\"node75\">\n<title>139942182194312</title>\n<polygon fill=\"none\" points=\"43.5,-7154.5 43.5,-7190.5 273.5,-7190.5 273.5,-7154.5 43.5,-7154.5\" stroke=\"#000000\"/>\n<text fill=\"#000000\" font-family=\"Times,serif\" font-size=\"14.00\" text-anchor=\"middle\" x=\"158.5\" y=\"-7168.8\">bn3d_branch2b: BatchNormalization</text>\n</g>\n<!-- 139942182032048&#45;&gt;139942182194312 -->\n<g class=\"edge\" id=\"edge80\">\n<title>139942182032048-&gt;139942182194312</title>\n<path d=\"M158.5,-7227.4551C158.5,-7219.3828 158.5,-7209.6764 158.5,-7200.6817\" fill=\"none\" stroke=\"#000000\"/>\n<polygon fill=\"#000000\" points=\"162.0001,-7200.5903 158.5,-7190.5904 155.0001,-7200.5904 162.0001,-7200.5903\" stroke=\"#000000\"/>\n</g>\n<!-- 139942182245824 -->\n<g class=\"node\" id=\"node76\">\n<title>139942182245824</title>\n<polygon fill=\"none\" points=\"74,-7081.5 74,-7117.5 243,-7117.5 243,-7081.5 74,-7081.5\" stroke=\"#000000\"/>\n<text fill=\"#000000\" font-family=\"Times,serif\" font-size=\"14.00\" text-anchor=\"middle\" x=\"158.5\" y=\"-7095.8\">activation_121: Activation</text>\n</g>\n<!-- 139942182194312&#45;&gt;139942182245824 -->\n<g class=\"edge\" id=\"edge81\">\n<title>139942182194312-&gt;139942182245824</title>\n<path d=\"M158.5,-7154.4551C158.5,-7146.3828 158.5,-7136.6764 158.5,-7127.6817\" fill=\"none\" stroke=\"#000000\"/>\n<polygon fill=\"#000000\" points=\"162.0001,-7127.5903 158.5,-7117.5904 155.0001,-7127.5904 162.0001,-7127.5903\" stroke=\"#000000\"/>\n</g>\n<!-- 139942182244704 -->\n<g class=\"node\" id=\"node77\">\n<title>139942182244704</title>\n<polygon fill=\"none\" points=\"76,-7008.5 76,-7044.5 241,-7044.5 241,-7008.5 76,-7008.5\" stroke=\"#000000\"/>\n<text fill=\"#000000\" font-family=\"Times,serif\" font-size=\"14.00\" text-anchor=\"middle\" x=\"158.5\" y=\"-7022.8\">res3d_branch2c: Conv2D</text>\n</g>\n<!-- 139942182245824&#45;&gt;139942182244704 -->\n<g class=\"edge\" id=\"edge82\">\n<title>139942182245824-&gt;139942182244704</title>\n<path d=\"M158.5,-7081.4551C158.5,-7073.3828 158.5,-7063.6764 158.5,-7054.6817\" fill=\"none\" stroke=\"#000000\"/>\n<polygon fill=\"#000000\" points=\"162.0001,-7054.5903 158.5,-7044.5904 155.0001,-7054.5904 162.0001,-7054.5903\" stroke=\"#000000\"/>\n</g>\n<!-- 139942181912024 -->\n<g class=\"node\" id=\"node78\">\n<title>139942181912024</title>\n<polygon fill=\"none\" points=\"44,-6935.5 44,-6971.5 273,-6971.5 273,-6935.5 44,-6935.5\" stroke=\"#000000\"/>\n<text fill=\"#000000\" font-family=\"Times,serif\" font-size=\"14.00\" text-anchor=\"middle\" x=\"158.5\" y=\"-6949.8\">bn3d_branch2c: BatchNormalization</text>\n</g>\n<!-- 139942182244704&#45;&gt;139942181912024 -->\n<g class=\"edge\" id=\"edge83\">\n<title>139942182244704-&gt;139942181912024</title>\n<path d=\"M158.5,-7008.4551C158.5,-7000.3828 158.5,-6990.6764 158.5,-6981.6817\" fill=\"none\" stroke=\"#000000\"/>\n<polygon fill=\"#000000\" points=\"162.0001,-6981.5903 158.5,-6971.5904 155.0001,-6981.5904 162.0001,-6981.5903\" stroke=\"#000000\"/>\n</g>\n<!-- 139942181912024&#45;&gt;139942181927568 -->\n<g class=\"edge\" id=\"edge84\">\n<title>139942181912024-&gt;139942181927568</title>\n<path d=\"M176.0506,-6935.4551C184.755,-6926.5054 195.4132,-6915.547 204.9156,-6905.7769\" fill=\"none\" stroke=\"#000000\"/>\n<polygon fill=\"#000000\" points=\"207.4421,-6908.1992 211.9053,-6898.5904 202.424,-6903.3187 207.4421,-6908.1992\" stroke=\"#000000\"/>\n</g>\n<!-- 139942181988336 -->\n<g class=\"node\" id=\"node80\">\n<title>139942181988336</title>\n<polygon fill=\"none\" points=\"145,-6789.5 145,-6825.5 314,-6825.5 314,-6789.5 145,-6789.5\" stroke=\"#000000\"/>\n<text fill=\"#000000\" font-family=\"Times,serif\" font-size=\"14.00\" text-anchor=\"middle\" x=\"229.5\" y=\"-6803.8\">activation_122: Activation</text>\n</g>\n<!-- 139942181927568&#45;&gt;139942181988336 -->\n<g class=\"edge\" id=\"edge86\">\n<title>139942181927568-&gt;139942181988336</title>\n<path d=\"M229.5,-6862.4551C229.5,-6854.3828 229.5,-6844.6764 229.5,-6835.6817\" fill=\"none\" stroke=\"#000000\"/>\n<polygon fill=\"#000000\" points=\"233.0001,-6835.5903 229.5,-6825.5904 226.0001,-6835.5904 233.0001,-6835.5903\" stroke=\"#000000\"/>\n</g>\n<!-- 139942181619640 -->\n<g class=\"node\" id=\"node81\">\n<title>139942181619640</title>\n<polygon fill=\"none\" points=\"92.5,-6716.5 92.5,-6752.5 256.5,-6752.5 256.5,-6716.5 92.5,-6716.5\" stroke=\"#000000\"/>\n<text fill=\"#000000\" font-family=\"Times,serif\" font-size=\"14.00\" text-anchor=\"middle\" x=\"174.5\" y=\"-6730.8\">res4a_branch2a: Conv2D</text>\n</g>\n<!-- 139942181988336&#45;&gt;139942181619640 -->\n<g class=\"edge\" id=\"edge87\">\n<title>139942181988336-&gt;139942181619640</title>\n<path d=\"M215.9045,-6789.4551C209.3599,-6780.7686 201.3896,-6770.1898 194.196,-6760.642\" fill=\"none\" stroke=\"#000000\"/>\n<polygon fill=\"#000000\" points=\"196.9427,-6758.4711 188.1297,-6752.5904 191.3518,-6762.6834 196.9427,-6758.4711\" stroke=\"#000000\"/>\n</g>\n<!-- 139942046800192 -->\n<g class=\"node\" id=\"node88\">\n<title>139942046800192</title>\n<polygon fill=\"none\" points=\"256.5,-6643.5 256.5,-6679.5 414.5,-6679.5 414.5,-6643.5 256.5,-6643.5\" stroke=\"#000000\"/>\n<text fill=\"#000000\" font-family=\"Times,serif\" font-size=\"14.00\" text-anchor=\"middle\" x=\"335.5\" y=\"-6657.8\">res4a_branch1: Conv2D</text>\n</g>\n<!-- 139942181988336&#45;&gt;139942046800192 -->\n<g class=\"edge\" id=\"edge94\">\n<title>139942181988336-&gt;139942046800192</title>\n<path d=\"M242.7106,-6789.3042C261.1981,-6763.8403 294.9072,-6717.4108 316.2051,-6688.0759\" fill=\"none\" stroke=\"#000000\"/>\n<polygon fill=\"#000000\" points=\"319.08,-6690.0736 322.1229,-6679.9251 313.4154,-6685.961 319.08,-6690.0736\" stroke=\"#000000\"/>\n</g>\n<!-- 139942181621096 -->\n<g class=\"node\" id=\"node82\">\n<title>139942181621096</title>\n<polygon fill=\"none\" points=\"11,-6643.5 11,-6679.5 238,-6679.5 238,-6643.5 11,-6643.5\" stroke=\"#000000\"/>\n<text fill=\"#000000\" font-family=\"Times,serif\" font-size=\"14.00\" text-anchor=\"middle\" x=\"124.5\" y=\"-6657.8\">bn4a_branch2a: BatchNormalization</text>\n</g>\n<!-- 139942181619640&#45;&gt;139942181621096 -->\n<g class=\"edge\" id=\"edge88\">\n<title>139942181619640-&gt;139942181621096</title>\n<path d=\"M162.1404,-6716.4551C156.2509,-6707.8564 149.0913,-6697.4034 142.6039,-6687.9316\" fill=\"none\" stroke=\"#000000\"/>\n<polygon fill=\"#000000\" points=\"145.4292,-6685.8628 136.8907,-6679.5904 139.654,-6689.8185 145.4292,-6685.8628\" stroke=\"#000000\"/>\n</g>\n<!-- 139942181663016 -->\n<g class=\"node\" id=\"node83\">\n<title>139942181663016</title>\n<polygon fill=\"none\" points=\"39,-6570.5 39,-6606.5 208,-6606.5 208,-6570.5 39,-6570.5\" stroke=\"#000000\"/>\n<text fill=\"#000000\" font-family=\"Times,serif\" font-size=\"14.00\" text-anchor=\"middle\" x=\"123.5\" y=\"-6584.8\">activation_123: Activation</text>\n</g>\n<!-- 139942181621096&#45;&gt;139942181663016 -->\n<g class=\"edge\" id=\"edge89\">\n<title>139942181621096-&gt;139942181663016</title>\n<path d=\"M124.2528,-6643.4551C124.1422,-6635.3828 124.0093,-6625.6764 123.8861,-6616.6817\" fill=\"none\" stroke=\"#000000\"/>\n<polygon fill=\"#000000\" points=\"127.3846,-6616.5414 123.7478,-6606.5904 120.3852,-6616.6374 127.3846,-6616.5414\" stroke=\"#000000\"/>\n</g>\n<!-- 139942181663240 -->\n<g class=\"node\" id=\"node84\">\n<title>139942181663240</title>\n<polygon fill=\"none\" points=\"76,-6497.5 76,-6533.5 241,-6533.5 241,-6497.5 76,-6497.5\" stroke=\"#000000\"/>\n<text fill=\"#000000\" font-family=\"Times,serif\" font-size=\"14.00\" text-anchor=\"middle\" x=\"158.5\" y=\"-6511.8\">res4a_branch2b: Conv2D</text>\n</g>\n<!-- 139942181663016&#45;&gt;139942181663240 -->\n<g class=\"edge\" id=\"edge90\">\n<title>139942181663016-&gt;139942181663240</title>\n<path d=\"M132.1517,-6570.4551C136.1481,-6562.1196 140.9801,-6552.0416 145.409,-6542.8042\" fill=\"none\" stroke=\"#000000\"/>\n<polygon fill=\"#000000\" points=\"148.6592,-6544.1207 149.8265,-6533.5904 142.3472,-6541.0944 148.6592,-6544.1207\" stroke=\"#000000\"/>\n</g>\n<!-- 139942181293024 -->\n<g class=\"node\" id=\"node85\">\n<title>139942181293024</title>\n<polygon fill=\"none\" points=\"61,-6424.5 61,-6460.5 290,-6460.5 290,-6424.5 61,-6424.5\" stroke=\"#000000\"/>\n<text fill=\"#000000\" font-family=\"Times,serif\" font-size=\"14.00\" text-anchor=\"middle\" x=\"175.5\" y=\"-6438.8\">bn4a_branch2b: BatchNormalization</text>\n</g>\n<!-- 139942181663240&#45;&gt;139942181293024 -->\n<g class=\"edge\" id=\"edge91\">\n<title>139942181663240-&gt;139942181293024</title>\n<path d=\"M162.7022,-6497.4551C164.6025,-6489.2951 166.8917,-6479.4652 169.0054,-6470.3887\" fill=\"none\" stroke=\"#000000\"/>\n<polygon fill=\"#000000\" points=\"172.4278,-6471.1236 171.2872,-6460.5904 165.6102,-6469.5359 172.4278,-6471.1236\" stroke=\"#000000\"/>\n</g>\n<!-- 139942181344536 -->\n<g class=\"node\" id=\"node86\">\n<title>139942181344536</title>\n<polygon fill=\"none\" points=\"101,-6351.5 101,-6387.5 270,-6387.5 270,-6351.5 101,-6351.5\" stroke=\"#000000\"/>\n<text fill=\"#000000\" font-family=\"Times,serif\" font-size=\"14.00\" text-anchor=\"middle\" x=\"185.5\" y=\"-6365.8\">activation_124: Activation</text>\n</g>\n<!-- 139942181293024&#45;&gt;139942181344536 -->\n<g class=\"edge\" id=\"edge92\">\n<title>139942181293024-&gt;139942181344536</title>\n<path d=\"M177.9719,-6424.4551C179.0777,-6416.3828 180.4073,-6406.6764 181.6395,-6397.6817\" fill=\"none\" stroke=\"#000000\"/>\n<polygon fill=\"#000000\" points=\"185.1322,-6397.9729 183.0219,-6387.5904 178.197,-6397.0228 185.1322,-6397.9729\" stroke=\"#000000\"/>\n</g>\n<!-- 139942181343416 -->\n<g class=\"node\" id=\"node87\">\n<title>139942181343416</title>\n<polygon fill=\"none\" points=\"103.5,-6278.5 103.5,-6314.5 267.5,-6314.5 267.5,-6278.5 103.5,-6278.5\" stroke=\"#000000\"/>\n<text fill=\"#000000\" font-family=\"Times,serif\" font-size=\"14.00\" text-anchor=\"middle\" x=\"185.5\" y=\"-6292.8\">res4a_branch2c: Conv2D</text>\n</g>\n<!-- 139942181344536&#45;&gt;139942181343416 -->\n<g class=\"edge\" id=\"edge93\">\n<title>139942181344536-&gt;139942181343416</title>\n<path d=\"M185.5,-6351.4551C185.5,-6343.3828 185.5,-6333.6764 185.5,-6324.6817\" fill=\"none\" stroke=\"#000000\"/>\n<polygon fill=\"#000000\" points=\"189.0001,-6324.5903 185.5,-6314.5904 182.0001,-6324.5904 189.0001,-6324.5903\" stroke=\"#000000\"/>\n</g>\n<!-- 139942046781512 -->\n<g class=\"node\" id=\"node89\">\n<title>139942046781512</title>\n<polygon fill=\"none\" points=\"72,-6205.5 72,-6241.5 299,-6241.5 299,-6205.5 72,-6205.5\" stroke=\"#000000\"/>\n<text fill=\"#000000\" font-family=\"Times,serif\" font-size=\"14.00\" text-anchor=\"middle\" x=\"185.5\" y=\"-6219.8\">bn4a_branch2c: BatchNormalization</text>\n</g>\n<!-- 139942181343416&#45;&gt;139942046781512 -->\n<g class=\"edge\" id=\"edge95\">\n<title>139942181343416-&gt;139942046781512</title>\n<path d=\"M185.5,-6278.4551C185.5,-6270.3828 185.5,-6260.6764 185.5,-6251.6817\" fill=\"none\" stroke=\"#000000\"/>\n<polygon fill=\"#000000\" points=\"189.0001,-6251.5903 185.5,-6241.5904 182.0001,-6251.5904 189.0001,-6251.5903\" stroke=\"#000000\"/>\n</g>\n<!-- 139942046495128 -->\n<g class=\"node\" id=\"node90\">\n<title>139942046495128</title>\n<polygon fill=\"none\" points=\"226,-6570.5 226,-6606.5 447,-6606.5 447,-6570.5 226,-6570.5\" stroke=\"#000000\"/>\n<text fill=\"#000000\" font-family=\"Times,serif\" font-size=\"14.00\" text-anchor=\"middle\" x=\"336.5\" y=\"-6584.8\">bn4a_branch1: BatchNormalization</text>\n</g>\n<!-- 139942046800192&#45;&gt;139942046495128 -->\n<g class=\"edge\" id=\"edge96\">\n<title>139942046800192-&gt;139942046495128</title>\n<path d=\"M335.7472,-6643.4551C335.8578,-6635.3828 335.9907,-6625.6764 336.1139,-6616.6817\" fill=\"none\" stroke=\"#000000\"/>\n<polygon fill=\"#000000\" points=\"339.6148,-6616.6374 336.2522,-6606.5904 332.6154,-6616.5414 339.6148,-6616.6374\" stroke=\"#000000\"/>\n</g>\n<!-- 139942046517456 -->\n<g class=\"node\" id=\"node91\">\n<title>139942046517456</title>\n<polygon fill=\"none\" points=\"210.5,-6132.5 210.5,-6168.5 302.5,-6168.5 302.5,-6132.5 210.5,-6132.5\" stroke=\"#000000\"/>\n<text fill=\"#000000\" font-family=\"Times,serif\" font-size=\"14.00\" text-anchor=\"middle\" x=\"256.5\" y=\"-6146.8\">add_40: Add</text>\n</g>\n<!-- 139942046781512&#45;&gt;139942046517456 -->\n<g class=\"edge\" id=\"edge97\">\n<title>139942046781512-&gt;139942046517456</title>\n<path d=\"M203.0506,-6205.4551C211.755,-6196.5054 222.4132,-6185.547 231.9156,-6175.7769\" fill=\"none\" stroke=\"#000000\"/>\n<polygon fill=\"#000000\" points=\"234.4421,-6178.1992 238.9053,-6168.5904 229.424,-6173.3187 234.4421,-6178.1992\" stroke=\"#000000\"/>\n</g>\n<!-- 139942046495128&#45;&gt;139942046517456 -->\n<g class=\"edge\" id=\"edge98\">\n<title>139942046495128-&gt;139942046517456</title>\n<path d=\"M334.6352,-6570.0845C331.999,-6542.4173 327.5,-6488.4656 327.5,-6442.5 327.5,-6442.5 327.5,-6442.5 327.5,-6296.5 327.5,-6254.8732 326.8594,-6241.8511 307.5,-6205 301.9066,-6194.3527 293.6654,-6184.2622 285.4315,-6175.7242\" fill=\"none\" stroke=\"#000000\"/>\n<polygon fill=\"#000000\" points=\"287.8388,-6173.1825 278.2644,-6168.6458 282.92,-6178.163 287.8388,-6173.1825\" stroke=\"#000000\"/>\n</g>\n<!-- 139942046570424 -->\n<g class=\"node\" id=\"node92\">\n<title>139942046570424</title>\n<polygon fill=\"none\" points=\"172,-6059.5 172,-6095.5 341,-6095.5 341,-6059.5 172,-6059.5\" stroke=\"#000000\"/>\n<text fill=\"#000000\" font-family=\"Times,serif\" font-size=\"14.00\" text-anchor=\"middle\" x=\"256.5\" y=\"-6073.8\">activation_125: Activation</text>\n</g>\n<!-- 139942046517456&#45;&gt;139942046570424 -->\n<g class=\"edge\" id=\"edge99\">\n<title>139942046517456-&gt;139942046570424</title>\n<path d=\"M256.5,-6132.4551C256.5,-6124.3828 256.5,-6114.6764 256.5,-6105.6817\" fill=\"none\" stroke=\"#000000\"/>\n<polygon fill=\"#000000\" points=\"260.0001,-6105.5903 256.5,-6095.5904 253.0001,-6105.5904 260.0001,-6105.5903\" stroke=\"#000000\"/>\n</g>\n<!-- 139942046211432 -->\n<g class=\"node\" id=\"node93\">\n<title>139942046211432</title>\n<polygon fill=\"none\" points=\"119,-5986.5 119,-6022.5 284,-6022.5 284,-5986.5 119,-5986.5\" stroke=\"#000000\"/>\n<text fill=\"#000000\" font-family=\"Times,serif\" font-size=\"14.00\" text-anchor=\"middle\" x=\"201.5\" y=\"-6000.8\">res4b_branch2a: Conv2D</text>\n</g>\n<!-- 139942046570424&#45;&gt;139942046211432 -->\n<g class=\"edge\" id=\"edge100\">\n<title>139942046570424-&gt;139942046211432</title>\n<path d=\"M242.9045,-6059.4551C236.3599,-6050.7686 228.3896,-6040.1898 221.196,-6030.642\" fill=\"none\" stroke=\"#000000\"/>\n<polygon fill=\"#000000\" points=\"223.9427,-6028.4711 215.1297,-6022.5904 218.3518,-6032.6834 223.9427,-6028.4711\" stroke=\"#000000\"/>\n</g>\n<!-- 139942046176368 -->\n<g class=\"node\" id=\"node101\">\n<title>139942046176368</title>\n<polygon fill=\"none\" points=\"210.5,-5402.5 210.5,-5438.5 302.5,-5438.5 302.5,-5402.5 210.5,-5402.5\" stroke=\"#000000\"/>\n<text fill=\"#000000\" font-family=\"Times,serif\" font-size=\"14.00\" text-anchor=\"middle\" x=\"256.5\" y=\"-5416.8\">add_41: Add</text>\n</g>\n<!-- 139942046570424&#45;&gt;139942046176368 -->\n<g class=\"edge\" id=\"edge109\">\n<title>139942046570424-&gt;139942046176368</title>\n<path d=\"M272.4791,-6059.1083C293.6909,-6032.7403 328.5,-5981.8061 328.5,-5931.5 328.5,-5931.5 328.5,-5931.5 328.5,-5566.5 328.5,-5524.8732 328.0378,-5511.7568 308.5,-5475 302.8031,-5464.2823 294.402,-5454.1724 286.0064,-5445.6383\" fill=\"none\" stroke=\"#000000\"/>\n<polygon fill=\"#000000\" points=\"288.3189,-5443.0057 278.6979,-5438.5687 283.452,-5448.037 288.3189,-5443.0057\" stroke=\"#000000\"/>\n</g>\n<!-- 139942046234832 -->\n<g class=\"node\" id=\"node94\">\n<title>139942046234832</title>\n<polygon fill=\"none\" points=\"71,-5913.5 71,-5949.5 300,-5949.5 300,-5913.5 71,-5913.5\" stroke=\"#000000\"/>\n<text fill=\"#000000\" font-family=\"Times,serif\" font-size=\"14.00\" text-anchor=\"middle\" x=\"185.5\" y=\"-5927.8\">bn4b_branch2a: BatchNormalization</text>\n</g>\n<!-- 139942046211432&#45;&gt;139942046234832 -->\n<g class=\"edge\" id=\"edge101\">\n<title>139942046211432-&gt;139942046234832</title>\n<path d=\"M197.5449,-5986.4551C195.7565,-5978.2951 193.602,-5968.4652 191.6126,-5959.3887\" fill=\"none\" stroke=\"#000000\"/>\n<polygon fill=\"#000000\" points=\"195.0249,-5958.6091 189.465,-5949.5904 188.1872,-5960.1079 195.0249,-5958.6091\" stroke=\"#000000\"/>\n</g>\n<!-- 139942046236064 -->\n<g class=\"node\" id=\"node95\">\n<title>139942046236064</title>\n<polygon fill=\"none\" points=\"101,-5840.5 101,-5876.5 270,-5876.5 270,-5840.5 101,-5840.5\" stroke=\"#000000\"/>\n<text fill=\"#000000\" font-family=\"Times,serif\" font-size=\"14.00\" text-anchor=\"middle\" x=\"185.5\" y=\"-5854.8\">activation_126: Activation</text>\n</g>\n<!-- 139942046234832&#45;&gt;139942046236064 -->\n<g class=\"edge\" id=\"edge102\">\n<title>139942046234832-&gt;139942046236064</title>\n<path d=\"M185.5,-5913.4551C185.5,-5905.3828 185.5,-5895.6764 185.5,-5886.6817\" fill=\"none\" stroke=\"#000000\"/>\n<polygon fill=\"#000000\" points=\"189.0001,-5886.5903 185.5,-5876.5904 182.0001,-5886.5904 189.0001,-5886.5903\" stroke=\"#000000\"/>\n</g>\n<!-- 139942046234944 -->\n<g class=\"node\" id=\"node96\">\n<title>139942046234944</title>\n<polygon fill=\"none\" points=\"102,-5767.5 102,-5803.5 269,-5803.5 269,-5767.5 102,-5767.5\" stroke=\"#000000\"/>\n<text fill=\"#000000\" font-family=\"Times,serif\" font-size=\"14.00\" text-anchor=\"middle\" x=\"185.5\" y=\"-5781.8\">res4b_branch2b: Conv2D</text>\n</g>\n<!-- 139942046236064&#45;&gt;139942046234944 -->\n<g class=\"edge\" id=\"edge103\">\n<title>139942046236064-&gt;139942046234944</title>\n<path d=\"M185.5,-5840.4551C185.5,-5832.3828 185.5,-5822.6764 185.5,-5813.6817\" fill=\"none\" stroke=\"#000000\"/>\n<polygon fill=\"#000000\" points=\"189.0001,-5813.5903 185.5,-5803.5904 182.0001,-5813.5904 189.0001,-5813.5903\" stroke=\"#000000\"/>\n</g>\n<!-- 139942045936216 -->\n<g class=\"node\" id=\"node97\">\n<title>139942045936216</title>\n<polygon fill=\"none\" points=\"70.5,-5694.5 70.5,-5730.5 300.5,-5730.5 300.5,-5694.5 70.5,-5694.5\" stroke=\"#000000\"/>\n<text fill=\"#000000\" font-family=\"Times,serif\" font-size=\"14.00\" text-anchor=\"middle\" x=\"185.5\" y=\"-5708.8\">bn4b_branch2b: BatchNormalization</text>\n</g>\n<!-- 139942046234944&#45;&gt;139942045936216 -->\n<g class=\"edge\" id=\"edge104\">\n<title>139942046234944-&gt;139942045936216</title>\n<path d=\"M185.5,-5767.4551C185.5,-5759.3828 185.5,-5749.6764 185.5,-5740.6817\" fill=\"none\" stroke=\"#000000\"/>\n<polygon fill=\"#000000\" points=\"189.0001,-5740.5903 185.5,-5730.5904 182.0001,-5740.5904 189.0001,-5740.5903\" stroke=\"#000000\"/>\n</g>\n<!-- 139942045962368 -->\n<g class=\"node\" id=\"node98\">\n<title>139942045962368</title>\n<polygon fill=\"none\" points=\"101,-5621.5 101,-5657.5 270,-5657.5 270,-5621.5 101,-5621.5\" stroke=\"#000000\"/>\n<text fill=\"#000000\" font-family=\"Times,serif\" font-size=\"14.00\" text-anchor=\"middle\" x=\"185.5\" y=\"-5635.8\">activation_127: Activation</text>\n</g>\n<!-- 139942045936216&#45;&gt;139942045962368 -->\n<g class=\"edge\" id=\"edge105\">\n<title>139942045936216-&gt;139942045962368</title>\n<path d=\"M185.5,-5694.4551C185.5,-5686.3828 185.5,-5676.6764 185.5,-5667.6817\" fill=\"none\" stroke=\"#000000\"/>\n<polygon fill=\"#000000\" points=\"189.0001,-5667.5903 185.5,-5657.5904 182.0001,-5667.5904 189.0001,-5667.5903\" stroke=\"#000000\"/>\n</g>\n<!-- 139942045962592 -->\n<g class=\"node\" id=\"node99\">\n<title>139942045962592</title>\n<polygon fill=\"none\" points=\"103,-5548.5 103,-5584.5 268,-5584.5 268,-5548.5 103,-5548.5\" stroke=\"#000000\"/>\n<text fill=\"#000000\" font-family=\"Times,serif\" font-size=\"14.00\" text-anchor=\"middle\" x=\"185.5\" y=\"-5562.8\">res4b_branch2c: Conv2D</text>\n</g>\n<!-- 139942045962368&#45;&gt;139942045962592 -->\n<g class=\"edge\" id=\"edge106\">\n<title>139942045962368-&gt;139942045962592</title>\n<path d=\"M185.5,-5621.4551C185.5,-5613.3828 185.5,-5603.6764 185.5,-5594.6817\" fill=\"none\" stroke=\"#000000\"/>\n<polygon fill=\"#000000\" points=\"189.0001,-5594.5903 185.5,-5584.5904 182.0001,-5594.5904 189.0001,-5594.5903\" stroke=\"#000000\"/>\n</g>\n<!-- 139942046124856 -->\n<g class=\"node\" id=\"node100\">\n<title>139942046124856</title>\n<polygon fill=\"none\" points=\"71,-5475.5 71,-5511.5 300,-5511.5 300,-5475.5 71,-5475.5\" stroke=\"#000000\"/>\n<text fill=\"#000000\" font-family=\"Times,serif\" font-size=\"14.00\" text-anchor=\"middle\" x=\"185.5\" y=\"-5489.8\">bn4b_branch2c: BatchNormalization</text>\n</g>\n<!-- 139942045962592&#45;&gt;139942046124856 -->\n<g class=\"edge\" id=\"edge107\">\n<title>139942045962592-&gt;139942046124856</title>\n<path d=\"M185.5,-5548.4551C185.5,-5540.3828 185.5,-5530.6764 185.5,-5521.6817\" fill=\"none\" stroke=\"#000000\"/>\n<polygon fill=\"#000000\" points=\"189.0001,-5521.5903 185.5,-5511.5904 182.0001,-5521.5904 189.0001,-5521.5903\" stroke=\"#000000\"/>\n</g>\n<!-- 139942046124856&#45;&gt;139942046176368 -->\n<g class=\"edge\" id=\"edge108\">\n<title>139942046124856-&gt;139942046176368</title>\n<path d=\"M203.0506,-5475.4551C211.755,-5466.5054 222.4132,-5455.547 231.9156,-5445.7769\" fill=\"none\" stroke=\"#000000\"/>\n<polygon fill=\"#000000\" points=\"234.4421,-5448.1992 238.9053,-5438.5904 229.424,-5443.3187 234.4421,-5448.1992\" stroke=\"#000000\"/>\n</g>\n<!-- 139942045709312 -->\n<g class=\"node\" id=\"node102\">\n<title>139942045709312</title>\n<polygon fill=\"none\" points=\"172,-5329.5 172,-5365.5 341,-5365.5 341,-5329.5 172,-5329.5\" stroke=\"#000000\"/>\n<text fill=\"#000000\" font-family=\"Times,serif\" font-size=\"14.00\" text-anchor=\"middle\" x=\"256.5\" y=\"-5343.8\">activation_128: Activation</text>\n</g>\n<!-- 139942046176368&#45;&gt;139942045709312 -->\n<g class=\"edge\" id=\"edge110\">\n<title>139942046176368-&gt;139942045709312</title>\n<path d=\"M256.5,-5402.4551C256.5,-5394.3828 256.5,-5384.6764 256.5,-5375.6817\" fill=\"none\" stroke=\"#000000\"/>\n<polygon fill=\"#000000\" points=\"260.0001,-5375.5903 256.5,-5365.5904 253.0001,-5375.5904 260.0001,-5375.5903\" stroke=\"#000000\"/>\n</g>\n<!-- 139942045838528 -->\n<g class=\"node\" id=\"node103\">\n<title>139942045838528</title>\n<polygon fill=\"none\" points=\"119.5,-5256.5 119.5,-5292.5 283.5,-5292.5 283.5,-5256.5 119.5,-5256.5\" stroke=\"#000000\"/>\n<text fill=\"#000000\" font-family=\"Times,serif\" font-size=\"14.00\" text-anchor=\"middle\" x=\"201.5\" y=\"-5270.8\">res4c_branch2a: Conv2D</text>\n</g>\n<!-- 139942045709312&#45;&gt;139942045838528 -->\n<g class=\"edge\" id=\"edge111\">\n<title>139942045709312-&gt;139942045838528</title>\n<path d=\"M242.9045,-5329.4551C236.3599,-5320.7686 228.3896,-5310.1898 221.196,-5300.642\" fill=\"none\" stroke=\"#000000\"/>\n<polygon fill=\"#000000\" points=\"223.9427,-5298.4711 215.1297,-5292.5904 218.3518,-5302.6834 223.9427,-5298.4711\" stroke=\"#000000\"/>\n</g>\n<!-- 139942045305488 -->\n<g class=\"node\" id=\"node111\">\n<title>139942045305488</title>\n<polygon fill=\"none\" points=\"210.5,-4672.5 210.5,-4708.5 302.5,-4708.5 302.5,-4672.5 210.5,-4672.5\" stroke=\"#000000\"/>\n<text fill=\"#000000\" font-family=\"Times,serif\" font-size=\"14.00\" text-anchor=\"middle\" x=\"256.5\" y=\"-4686.8\">add_42: Add</text>\n</g>\n<!-- 139942045709312&#45;&gt;139942045305488 -->\n<g class=\"edge\" id=\"edge120\">\n<title>139942045709312-&gt;139942045305488</title>\n<path d=\"M272.2572,-5329.0704C293.1744,-5302.6575 327.5,-5251.6702 327.5,-5201.5 327.5,-5201.5 327.5,-5201.5 327.5,-4836.5 327.5,-4794.8732 326.8594,-4781.8511 307.5,-4745 301.9066,-4734.3527 293.6654,-4724.2622 285.4315,-4715.7242\" fill=\"none\" stroke=\"#000000\"/>\n<polygon fill=\"#000000\" points=\"287.8388,-4713.1825 278.2644,-4708.6458 282.92,-4718.163 287.8388,-4713.1825\" stroke=\"#000000\"/>\n</g>\n<!-- 139942045881456 -->\n<g class=\"node\" id=\"node104\">\n<title>139942045881456</title>\n<polygon fill=\"none\" points=\"72,-5183.5 72,-5219.5 299,-5219.5 299,-5183.5 72,-5183.5\" stroke=\"#000000\"/>\n<text fill=\"#000000\" font-family=\"Times,serif\" font-size=\"14.00\" text-anchor=\"middle\" x=\"185.5\" y=\"-5197.8\">bn4c_branch2a: BatchNormalization</text>\n</g>\n<!-- 139942045838528&#45;&gt;139942045881456 -->\n<g class=\"edge\" id=\"edge112\">\n<title>139942045838528-&gt;139942045881456</title>\n<path d=\"M197.5449,-5256.4551C195.7565,-5248.2951 193.602,-5238.4652 191.6126,-5229.3887\" fill=\"none\" stroke=\"#000000\"/>\n<polygon fill=\"#000000\" points=\"195.0249,-5228.6091 189.465,-5219.5904 188.1872,-5230.1079 195.0249,-5228.6091\" stroke=\"#000000\"/>\n</g>\n<!-- 139942045882800 -->\n<g class=\"node\" id=\"node105\">\n<title>139942045882800</title>\n<polygon fill=\"none\" points=\"101,-5110.5 101,-5146.5 270,-5146.5 270,-5110.5 101,-5110.5\" stroke=\"#000000\"/>\n<text fill=\"#000000\" font-family=\"Times,serif\" font-size=\"14.00\" text-anchor=\"middle\" x=\"185.5\" y=\"-5124.8\">activation_129: Activation</text>\n</g>\n<!-- 139942045881456&#45;&gt;139942045882800 -->\n<g class=\"edge\" id=\"edge113\">\n<title>139942045881456-&gt;139942045882800</title>\n<path d=\"M185.5,-5183.4551C185.5,-5175.3828 185.5,-5165.6764 185.5,-5156.6817\" fill=\"none\" stroke=\"#000000\"/>\n<polygon fill=\"#000000\" points=\"189.0001,-5156.5903 185.5,-5146.5904 182.0001,-5156.5904 189.0001,-5156.5903\" stroke=\"#000000\"/>\n</g>\n<!-- 139942045881400 -->\n<g class=\"node\" id=\"node106\">\n<title>139942045881400</title>\n<polygon fill=\"none\" points=\"103,-5037.5 103,-5073.5 268,-5073.5 268,-5037.5 103,-5037.5\" stroke=\"#000000\"/>\n<text fill=\"#000000\" font-family=\"Times,serif\" font-size=\"14.00\" text-anchor=\"middle\" x=\"185.5\" y=\"-5051.8\">res4c_branch2b: Conv2D</text>\n</g>\n<!-- 139942045882800&#45;&gt;139942045881400 -->\n<g class=\"edge\" id=\"edge114\">\n<title>139942045882800-&gt;139942045881400</title>\n<path d=\"M185.5,-5110.4551C185.5,-5102.3828 185.5,-5092.6764 185.5,-5083.6817\" fill=\"none\" stroke=\"#000000\"/>\n<polygon fill=\"#000000\" points=\"189.0001,-5083.5903 185.5,-5073.5904 182.0001,-5083.5904 189.0001,-5083.5903\" stroke=\"#000000\"/>\n</g>\n<!-- 139942045570832 -->\n<g class=\"node\" id=\"node107\">\n<title>139942045570832</title>\n<polygon fill=\"none\" points=\"70,-4964.5 70,-5000.5 299,-5000.5 299,-4964.5 70,-4964.5\" stroke=\"#000000\"/>\n<text fill=\"#000000\" font-family=\"Times,serif\" font-size=\"14.00\" text-anchor=\"middle\" x=\"184.5\" y=\"-4978.8\">bn4c_branch2b: BatchNormalization</text>\n</g>\n<!-- 139942045881400&#45;&gt;139942045570832 -->\n<g class=\"edge\" id=\"edge115\">\n<title>139942045881400-&gt;139942045570832</title>\n<path d=\"M185.2528,-5037.4551C185.1422,-5029.3828 185.0093,-5019.6764 184.8861,-5010.6817\" fill=\"none\" stroke=\"#000000\"/>\n<polygon fill=\"#000000\" points=\"188.3846,-5010.5414 184.7478,-5000.5904 181.3852,-5010.6374 188.3846,-5010.5414\" stroke=\"#000000\"/>\n</g>\n<!-- 139942045572960 -->\n<g class=\"node\" id=\"node108\">\n<title>139942045572960</title>\n<polygon fill=\"none\" points=\"100,-4891.5 100,-4927.5 269,-4927.5 269,-4891.5 100,-4891.5\" stroke=\"#000000\"/>\n<text fill=\"#000000\" font-family=\"Times,serif\" font-size=\"14.00\" text-anchor=\"middle\" x=\"184.5\" y=\"-4905.8\">activation_130: Activation</text>\n</g>\n<!-- 139942045570832&#45;&gt;139942045572960 -->\n<g class=\"edge\" id=\"edge116\">\n<title>139942045570832-&gt;139942045572960</title>\n<path d=\"M184.5,-4964.4551C184.5,-4956.3828 184.5,-4946.6764 184.5,-4937.6817\" fill=\"none\" stroke=\"#000000\"/>\n<polygon fill=\"#000000\" points=\"188.0001,-4937.5903 184.5,-4927.5904 181.0001,-4937.5904 188.0001,-4937.5903\" stroke=\"#000000\"/>\n</g>\n<!-- 139942045571224 -->\n<g class=\"node\" id=\"node109\">\n<title>139942045571224</title>\n<polygon fill=\"none\" points=\"103.5,-4818.5 103.5,-4854.5 267.5,-4854.5 267.5,-4818.5 103.5,-4818.5\" stroke=\"#000000\"/>\n<text fill=\"#000000\" font-family=\"Times,serif\" font-size=\"14.00\" text-anchor=\"middle\" x=\"185.5\" y=\"-4832.8\">res4c_branch2c: Conv2D</text>\n</g>\n<!-- 139942045572960&#45;&gt;139942045571224 -->\n<g class=\"edge\" id=\"edge117\">\n<title>139942045572960-&gt;139942045571224</title>\n<path d=\"M184.7472,-4891.4551C184.8578,-4883.3828 184.9907,-4873.6764 185.1139,-4864.6817\" fill=\"none\" stroke=\"#000000\"/>\n<polygon fill=\"#000000\" points=\"188.6148,-4864.6374 185.2522,-4854.5904 181.6154,-4864.5414 188.6148,-4864.6374\" stroke=\"#000000\"/>\n</g>\n<!-- 139942045281416 -->\n<g class=\"node\" id=\"node110\">\n<title>139942045281416</title>\n<polygon fill=\"none\" points=\"72,-4745.5 72,-4781.5 299,-4781.5 299,-4745.5 72,-4745.5\" stroke=\"#000000\"/>\n<text fill=\"#000000\" font-family=\"Times,serif\" font-size=\"14.00\" text-anchor=\"middle\" x=\"185.5\" y=\"-4759.8\">bn4c_branch2c: BatchNormalization</text>\n</g>\n<!-- 139942045571224&#45;&gt;139942045281416 -->\n<g class=\"edge\" id=\"edge118\">\n<title>139942045571224-&gt;139942045281416</title>\n<path d=\"M185.5,-4818.4551C185.5,-4810.3828 185.5,-4800.6764 185.5,-4791.6817\" fill=\"none\" stroke=\"#000000\"/>\n<polygon fill=\"#000000\" points=\"189.0001,-4791.5903 185.5,-4781.5904 182.0001,-4791.5904 189.0001,-4791.5903\" stroke=\"#000000\"/>\n</g>\n<!-- 139942045281416&#45;&gt;139942045305488 -->\n<g class=\"edge\" id=\"edge119\">\n<title>139942045281416-&gt;139942045305488</title>\n<path d=\"M203.0506,-4745.4551C211.755,-4736.5054 222.4132,-4725.547 231.9156,-4715.7769\" fill=\"none\" stroke=\"#000000\"/>\n<polygon fill=\"#000000\" points=\"234.4421,-4718.1992 238.9053,-4708.5904 229.424,-4713.3187 234.4421,-4718.1992\" stroke=\"#000000\"/>\n</g>\n<!-- 139942045360592 -->\n<g class=\"node\" id=\"node112\">\n<title>139942045360592</title>\n<polygon fill=\"none\" points=\"172,-4599.5 172,-4635.5 341,-4635.5 341,-4599.5 172,-4599.5\" stroke=\"#000000\"/>\n<text fill=\"#000000\" font-family=\"Times,serif\" font-size=\"14.00\" text-anchor=\"middle\" x=\"256.5\" y=\"-4613.8\">activation_131: Activation</text>\n</g>\n<!-- 139942045305488&#45;&gt;139942045360592 -->\n<g class=\"edge\" id=\"edge121\">\n<title>139942045305488-&gt;139942045360592</title>\n<path d=\"M256.5,-4672.4551C256.5,-4664.3828 256.5,-4654.6764 256.5,-4645.6817\" fill=\"none\" stroke=\"#000000\"/>\n<polygon fill=\"#000000\" points=\"260.0001,-4645.5903 256.5,-4635.5904 253.0001,-4645.5904 260.0001,-4645.5903\" stroke=\"#000000\"/>\n</g>\n<!-- 139942044990544 -->\n<g class=\"node\" id=\"node113\">\n<title>139942044990544</title>\n<polygon fill=\"none\" points=\"119,-4526.5 119,-4562.5 284,-4562.5 284,-4526.5 119,-4526.5\" stroke=\"#000000\"/>\n<text fill=\"#000000\" font-family=\"Times,serif\" font-size=\"14.00\" text-anchor=\"middle\" x=\"201.5\" y=\"-4540.8\">res4d_branch2a: Conv2D</text>\n</g>\n<!-- 139942045360592&#45;&gt;139942044990544 -->\n<g class=\"edge\" id=\"edge122\">\n<title>139942045360592-&gt;139942044990544</title>\n<path d=\"M242.9045,-4599.4551C236.3599,-4590.7686 228.3896,-4580.1898 221.196,-4570.642\" fill=\"none\" stroke=\"#000000\"/>\n<polygon fill=\"#000000\" points=\"223.9427,-4568.4711 215.1297,-4562.5904 218.3518,-4572.6834 223.9427,-4568.4711\" stroke=\"#000000\"/>\n</g>\n<!-- 139942044405152 -->\n<g class=\"node\" id=\"node121\">\n<title>139942044405152</title>\n<polygon fill=\"none\" points=\"210.5,-3942.5 210.5,-3978.5 302.5,-3978.5 302.5,-3942.5 210.5,-3942.5\" stroke=\"#000000\"/>\n<text fill=\"#000000\" font-family=\"Times,serif\" font-size=\"14.00\" text-anchor=\"middle\" x=\"256.5\" y=\"-3956.8\">add_43: Add</text>\n</g>\n<!-- 139942045360592&#45;&gt;139942044405152 -->\n<g class=\"edge\" id=\"edge131\">\n<title>139942045360592-&gt;139942044405152</title>\n<path d=\"M272.4791,-4599.1083C293.6909,-4572.7403 328.5,-4521.8061 328.5,-4471.5 328.5,-4471.5 328.5,-4471.5 328.5,-4106.5 328.5,-4064.8732 328.0378,-4051.7568 308.5,-4015 302.8031,-4004.2823 294.402,-3994.1724 286.0064,-3985.6383\" fill=\"none\" stroke=\"#000000\"/>\n<polygon fill=\"#000000\" points=\"288.3189,-3983.0057 278.6979,-3978.5687 283.452,-3988.037 288.3189,-3983.0057\" stroke=\"#000000\"/>\n</g>\n<!-- 139942045012208 -->\n<g class=\"node\" id=\"node114\">\n<title>139942045012208</title>\n<polygon fill=\"none\" points=\"71,-4453.5 71,-4489.5 300,-4489.5 300,-4453.5 71,-4453.5\" stroke=\"#000000\"/>\n<text fill=\"#000000\" font-family=\"Times,serif\" font-size=\"14.00\" text-anchor=\"middle\" x=\"185.5\" y=\"-4467.8\">bn4d_branch2a: BatchNormalization</text>\n</g>\n<!-- 139942044990544&#45;&gt;139942045012208 -->\n<g class=\"edge\" id=\"edge123\">\n<title>139942044990544-&gt;139942045012208</title>\n<path d=\"M197.5449,-4526.4551C195.7565,-4518.2951 193.602,-4508.4652 191.6126,-4499.3887\" fill=\"none\" stroke=\"#000000\"/>\n<polygon fill=\"#000000\" points=\"195.0249,-4498.6091 189.465,-4489.5904 188.1872,-4500.1079 195.0249,-4498.6091\" stroke=\"#000000\"/>\n</g>\n<!-- 139942045013440 -->\n<g class=\"node\" id=\"node115\">\n<title>139942045013440</title>\n<polygon fill=\"none\" points=\"101,-4380.5 101,-4416.5 270,-4416.5 270,-4380.5 101,-4380.5\" stroke=\"#000000\"/>\n<text fill=\"#000000\" font-family=\"Times,serif\" font-size=\"14.00\" text-anchor=\"middle\" x=\"185.5\" y=\"-4394.8\">activation_132: Activation</text>\n</g>\n<!-- 139942045012208&#45;&gt;139942045013440 -->\n<g class=\"edge\" id=\"edge124\">\n<title>139942045012208-&gt;139942045013440</title>\n<path d=\"M185.5,-4453.4551C185.5,-4445.3828 185.5,-4435.6764 185.5,-4426.6817\" fill=\"none\" stroke=\"#000000\"/>\n<polygon fill=\"#000000\" points=\"189.0001,-4426.5903 185.5,-4416.5904 182.0001,-4426.5904 189.0001,-4426.5903\" stroke=\"#000000\"/>\n</g>\n<!-- 139942045012544 -->\n<g class=\"node\" id=\"node116\">\n<title>139942045012544</title>\n<polygon fill=\"none\" points=\"102,-4307.5 102,-4343.5 269,-4343.5 269,-4307.5 102,-4307.5\" stroke=\"#000000\"/>\n<text fill=\"#000000\" font-family=\"Times,serif\" font-size=\"14.00\" text-anchor=\"middle\" x=\"185.5\" y=\"-4321.8\">res4d_branch2b: Conv2D</text>\n</g>\n<!-- 139942045013440&#45;&gt;139942045012544 -->\n<g class=\"edge\" id=\"edge125\">\n<title>139942045013440-&gt;139942045012544</title>\n<path d=\"M185.5,-4380.4551C185.5,-4372.3828 185.5,-4362.6764 185.5,-4353.6817\" fill=\"none\" stroke=\"#000000\"/>\n<polygon fill=\"#000000\" points=\"189.0001,-4353.5903 185.5,-4343.5904 182.0001,-4353.5904 189.0001,-4353.5903\" stroke=\"#000000\"/>\n</g>\n<!-- 139942044691928 -->\n<g class=\"node\" id=\"node117\">\n<title>139942044691928</title>\n<polygon fill=\"none\" points=\"70.5,-4234.5 70.5,-4270.5 300.5,-4270.5 300.5,-4234.5 70.5,-4234.5\" stroke=\"#000000\"/>\n<text fill=\"#000000\" font-family=\"Times,serif\" font-size=\"14.00\" text-anchor=\"middle\" x=\"185.5\" y=\"-4248.8\">bn4d_branch2b: BatchNormalization</text>\n</g>\n<!-- 139942045012544&#45;&gt;139942044691928 -->\n<g class=\"edge\" id=\"edge126\">\n<title>139942045012544-&gt;139942044691928</title>\n<path d=\"M185.5,-4307.4551C185.5,-4299.3828 185.5,-4289.6764 185.5,-4280.6817\" fill=\"none\" stroke=\"#000000\"/>\n<polygon fill=\"#000000\" points=\"189.0001,-4280.5903 185.5,-4270.5904 182.0001,-4280.5904 189.0001,-4280.5903\" stroke=\"#000000\"/>\n</g>\n<!-- 139942044686488 -->\n<g class=\"node\" id=\"node118\">\n<title>139942044686488</title>\n<polygon fill=\"none\" points=\"101,-4161.5 101,-4197.5 270,-4197.5 270,-4161.5 101,-4161.5\" stroke=\"#000000\"/>\n<text fill=\"#000000\" font-family=\"Times,serif\" font-size=\"14.00\" text-anchor=\"middle\" x=\"185.5\" y=\"-4175.8\">activation_133: Activation</text>\n</g>\n<!-- 139942044691928&#45;&gt;139942044686488 -->\n<g class=\"edge\" id=\"edge127\">\n<title>139942044691928-&gt;139942044686488</title>\n<path d=\"M185.5,-4234.4551C185.5,-4226.3828 185.5,-4216.6764 185.5,-4207.6817\" fill=\"none\" stroke=\"#000000\"/>\n<polygon fill=\"#000000\" points=\"189.0001,-4207.5903 185.5,-4197.5904 182.0001,-4207.5904 189.0001,-4207.5903\" stroke=\"#000000\"/>\n</g>\n<!-- 139942044686824 -->\n<g class=\"node\" id=\"node119\">\n<title>139942044686824</title>\n<polygon fill=\"none\" points=\"103,-4088.5 103,-4124.5 268,-4124.5 268,-4088.5 103,-4088.5\" stroke=\"#000000\"/>\n<text fill=\"#000000\" font-family=\"Times,serif\" font-size=\"14.00\" text-anchor=\"middle\" x=\"185.5\" y=\"-4102.8\">res4d_branch2c: Conv2D</text>\n</g>\n<!-- 139942044686488&#45;&gt;139942044686824 -->\n<g class=\"edge\" id=\"edge128\">\n<title>139942044686488-&gt;139942044686824</title>\n<path d=\"M185.5,-4161.4551C185.5,-4153.3828 185.5,-4143.6764 185.5,-4134.6817\" fill=\"none\" stroke=\"#000000\"/>\n<polygon fill=\"#000000\" points=\"189.0001,-4134.5903 185.5,-4124.5904 182.0001,-4134.5904 189.0001,-4134.5903\" stroke=\"#000000\"/>\n</g>\n<!-- 139942044403640 -->\n<g class=\"node\" id=\"node120\">\n<title>139942044403640</title>\n<polygon fill=\"none\" points=\"71,-4015.5 71,-4051.5 300,-4051.5 300,-4015.5 71,-4015.5\" stroke=\"#000000\"/>\n<text fill=\"#000000\" font-family=\"Times,serif\" font-size=\"14.00\" text-anchor=\"middle\" x=\"185.5\" y=\"-4029.8\">bn4d_branch2c: BatchNormalization</text>\n</g>\n<!-- 139942044686824&#45;&gt;139942044403640 -->\n<g class=\"edge\" id=\"edge129\">\n<title>139942044686824-&gt;139942044403640</title>\n<path d=\"M185.5,-4088.4551C185.5,-4080.3828 185.5,-4070.6764 185.5,-4061.6817\" fill=\"none\" stroke=\"#000000\"/>\n<polygon fill=\"#000000\" points=\"189.0001,-4061.5903 185.5,-4051.5904 182.0001,-4061.5904 189.0001,-4061.5903\" stroke=\"#000000\"/>\n</g>\n<!-- 139942044403640&#45;&gt;139942044405152 -->\n<g class=\"edge\" id=\"edge130\">\n<title>139942044403640-&gt;139942044405152</title>\n<path d=\"M203.0506,-4015.4551C211.755,-4006.5054 222.4132,-3995.547 231.9156,-3985.7769\" fill=\"none\" stroke=\"#000000\"/>\n<polygon fill=\"#000000\" points=\"234.4421,-3988.1992 238.9053,-3978.5904 229.424,-3983.3187 234.4421,-3988.1992\" stroke=\"#000000\"/>\n</g>\n<!-- 139942044458400 -->\n<g class=\"node\" id=\"node122\">\n<title>139942044458400</title>\n<polygon fill=\"none\" points=\"172,-3869.5 172,-3905.5 341,-3905.5 341,-3869.5 172,-3869.5\" stroke=\"#000000\"/>\n<text fill=\"#000000\" font-family=\"Times,serif\" font-size=\"14.00\" text-anchor=\"middle\" x=\"256.5\" y=\"-3883.8\">activation_134: Activation</text>\n</g>\n<!-- 139942044405152&#45;&gt;139942044458400 -->\n<g class=\"edge\" id=\"edge132\">\n<title>139942044405152-&gt;139942044458400</title>\n<path d=\"M256.5,-3942.4551C256.5,-3934.3828 256.5,-3924.6764 256.5,-3915.6817\" fill=\"none\" stroke=\"#000000\"/>\n<polygon fill=\"#000000\" points=\"260.0001,-3915.5903 256.5,-3905.5904 253.0001,-3915.5904 260.0001,-3915.5903\" stroke=\"#000000\"/>\n</g>\n<!-- 139942044125448 -->\n<g class=\"node\" id=\"node123\">\n<title>139942044125448</title>\n<polygon fill=\"none\" points=\"119.5,-3796.5 119.5,-3832.5 283.5,-3832.5 283.5,-3796.5 119.5,-3796.5\" stroke=\"#000000\"/>\n<text fill=\"#000000\" font-family=\"Times,serif\" font-size=\"14.00\" text-anchor=\"middle\" x=\"201.5\" y=\"-3810.8\">res4e_branch2a: Conv2D</text>\n</g>\n<!-- 139942044458400&#45;&gt;139942044125448 -->\n<g class=\"edge\" id=\"edge133\">\n<title>139942044458400-&gt;139942044125448</title>\n<path d=\"M242.9045,-3869.4551C236.3599,-3860.7686 228.3896,-3850.1898 221.196,-3840.642\" fill=\"none\" stroke=\"#000000\"/>\n<polygon fill=\"#000000\" points=\"223.9427,-3838.4711 215.1297,-3832.5904 218.3518,-3842.6834 223.9427,-3838.4711\" stroke=\"#000000\"/>\n</g>\n<!-- 139942044060136 -->\n<g class=\"node\" id=\"node131\">\n<title>139942044060136</title>\n<polygon fill=\"none\" points=\"210.5,-3212.5 210.5,-3248.5 302.5,-3248.5 302.5,-3212.5 210.5,-3212.5\" stroke=\"#000000\"/>\n<text fill=\"#000000\" font-family=\"Times,serif\" font-size=\"14.00\" text-anchor=\"middle\" x=\"256.5\" y=\"-3226.8\">add_44: Add</text>\n</g>\n<!-- 139942044458400&#45;&gt;139942044060136 -->\n<g class=\"edge\" id=\"edge142\">\n<title>139942044458400-&gt;139942044060136</title>\n<path d=\"M272.2572,-3869.0704C293.1744,-3842.6575 327.5,-3791.6702 327.5,-3741.5 327.5,-3741.5 327.5,-3741.5 327.5,-3376.5 327.5,-3334.8732 326.8594,-3321.8511 307.5,-3285 301.9066,-3274.3527 293.6654,-3264.2622 285.4315,-3255.7242\" fill=\"none\" stroke=\"#000000\"/>\n<polygon fill=\"#000000\" points=\"287.8388,-3253.1825 278.2644,-3248.6458 282.92,-3258.163 287.8388,-3253.1825\" stroke=\"#000000\"/>\n</g>\n<!-- 139942044126904 -->\n<g class=\"node\" id=\"node124\">\n<title>139942044126904</title>\n<polygon fill=\"none\" points=\"72,-3723.5 72,-3759.5 299,-3759.5 299,-3723.5 72,-3723.5\" stroke=\"#000000\"/>\n<text fill=\"#000000\" font-family=\"Times,serif\" font-size=\"14.00\" text-anchor=\"middle\" x=\"185.5\" y=\"-3737.8\">bn4e_branch2a: BatchNormalization</text>\n</g>\n<!-- 139942044125448&#45;&gt;139942044126904 -->\n<g class=\"edge\" id=\"edge134\">\n<title>139942044125448-&gt;139942044126904</title>\n<path d=\"M197.5449,-3796.4551C195.7565,-3788.2951 193.602,-3778.4652 191.6126,-3769.3887\" fill=\"none\" stroke=\"#000000\"/>\n<polygon fill=\"#000000\" points=\"195.0249,-3768.6091 189.465,-3759.5904 188.1872,-3770.1079 195.0249,-3768.6091\" stroke=\"#000000\"/>\n</g>\n<!-- 139942044148344 -->\n<g class=\"node\" id=\"node125\">\n<title>139942044148344</title>\n<polygon fill=\"none\" points=\"101,-3650.5 101,-3686.5 270,-3686.5 270,-3650.5 101,-3650.5\" stroke=\"#000000\"/>\n<text fill=\"#000000\" font-family=\"Times,serif\" font-size=\"14.00\" text-anchor=\"middle\" x=\"185.5\" y=\"-3664.8\">activation_135: Activation</text>\n</g>\n<!-- 139942044126904&#45;&gt;139942044148344 -->\n<g class=\"edge\" id=\"edge135\">\n<title>139942044126904-&gt;139942044148344</title>\n<path d=\"M185.5,-3723.4551C185.5,-3715.3828 185.5,-3705.6764 185.5,-3696.6817\" fill=\"none\" stroke=\"#000000\"/>\n<polygon fill=\"#000000\" points=\"189.0001,-3696.5903 185.5,-3686.5904 182.0001,-3696.5904 189.0001,-3696.5903\" stroke=\"#000000\"/>\n</g>\n<!-- 139942044148568 -->\n<g class=\"node\" id=\"node126\">\n<title>139942044148568</title>\n<polygon fill=\"none\" points=\"103,-3577.5 103,-3613.5 268,-3613.5 268,-3577.5 103,-3577.5\" stroke=\"#000000\"/>\n<text fill=\"#000000\" font-family=\"Times,serif\" font-size=\"14.00\" text-anchor=\"middle\" x=\"185.5\" y=\"-3591.8\">res4e_branch2b: Conv2D</text>\n</g>\n<!-- 139942044148344&#45;&gt;139942044148568 -->\n<g class=\"edge\" id=\"edge136\">\n<title>139942044148344-&gt;139942044148568</title>\n<path d=\"M185.5,-3650.4551C185.5,-3642.3828 185.5,-3632.6764 185.5,-3623.6817\" fill=\"none\" stroke=\"#000000\"/>\n<polygon fill=\"#000000\" points=\"189.0001,-3623.5903 185.5,-3613.5904 182.0001,-3623.5904 189.0001,-3623.5903\" stroke=\"#000000\"/>\n</g>\n<!-- 139942044318856 -->\n<g class=\"node\" id=\"node127\">\n<title>139942044318856</title>\n<polygon fill=\"none\" points=\"70,-3504.5 70,-3540.5 299,-3540.5 299,-3504.5 70,-3504.5\" stroke=\"#000000\"/>\n<text fill=\"#000000\" font-family=\"Times,serif\" font-size=\"14.00\" text-anchor=\"middle\" x=\"184.5\" y=\"-3518.8\">bn4e_branch2b: BatchNormalization</text>\n</g>\n<!-- 139942044148568&#45;&gt;139942044318856 -->\n<g class=\"edge\" id=\"edge137\">\n<title>139942044148568-&gt;139942044318856</title>\n<path d=\"M185.2528,-3577.4551C185.1422,-3569.3828 185.0093,-3559.6764 184.8861,-3550.6817\" fill=\"none\" stroke=\"#000000\"/>\n<polygon fill=\"#000000\" points=\"188.3846,-3550.5414 184.7478,-3540.5904 181.3852,-3550.6374 188.3846,-3550.5414\" stroke=\"#000000\"/>\n</g>\n<!-- 139942043846248 -->\n<g class=\"node\" id=\"node128\">\n<title>139942043846248</title>\n<polygon fill=\"none\" points=\"101,-3431.5 101,-3467.5 270,-3467.5 270,-3431.5 101,-3431.5\" stroke=\"#000000\"/>\n<text fill=\"#000000\" font-family=\"Times,serif\" font-size=\"14.00\" text-anchor=\"middle\" x=\"185.5\" y=\"-3445.8\">activation_136: Activation</text>\n</g>\n<!-- 139942044318856&#45;&gt;139942043846248 -->\n<g class=\"edge\" id=\"edge138\">\n<title>139942044318856-&gt;139942043846248</title>\n<path d=\"M184.7472,-3504.4551C184.8578,-3496.3828 184.9907,-3486.6764 185.1139,-3477.6817\" fill=\"none\" stroke=\"#000000\"/>\n<polygon fill=\"#000000\" points=\"188.6148,-3477.6374 185.2522,-3467.5904 181.6154,-3477.5414 188.6148,-3477.6374\" stroke=\"#000000\"/>\n</g>\n<!-- 139942043845128 -->\n<g class=\"node\" id=\"node129\">\n<title>139942043845128</title>\n<polygon fill=\"none\" points=\"103.5,-3358.5 103.5,-3394.5 267.5,-3394.5 267.5,-3358.5 103.5,-3358.5\" stroke=\"#000000\"/>\n<text fill=\"#000000\" font-family=\"Times,serif\" font-size=\"14.00\" text-anchor=\"middle\" x=\"185.5\" y=\"-3372.8\">res4e_branch2c: Conv2D</text>\n</g>\n<!-- 139942043846248&#45;&gt;139942043845128 -->\n<g class=\"edge\" id=\"edge139\">\n<title>139942043846248-&gt;139942043845128</title>\n<path d=\"M185.5,-3431.4551C185.5,-3423.3828 185.5,-3413.6764 185.5,-3404.6817\" fill=\"none\" stroke=\"#000000\"/>\n<polygon fill=\"#000000\" points=\"189.0001,-3404.5903 185.5,-3394.5904 182.0001,-3404.5904 189.0001,-3404.5903\" stroke=\"#000000\"/>\n</g>\n<!-- 139942044037472 -->\n<g class=\"node\" id=\"node130\">\n<title>139942044037472</title>\n<polygon fill=\"none\" points=\"72,-3285.5 72,-3321.5 299,-3321.5 299,-3285.5 72,-3285.5\" stroke=\"#000000\"/>\n<text fill=\"#000000\" font-family=\"Times,serif\" font-size=\"14.00\" text-anchor=\"middle\" x=\"185.5\" y=\"-3299.8\">bn4e_branch2c: BatchNormalization</text>\n</g>\n<!-- 139942043845128&#45;&gt;139942044037472 -->\n<g class=\"edge\" id=\"edge140\">\n<title>139942043845128-&gt;139942044037472</title>\n<path d=\"M185.5,-3358.4551C185.5,-3350.3828 185.5,-3340.6764 185.5,-3331.6817\" fill=\"none\" stroke=\"#000000\"/>\n<polygon fill=\"#000000\" points=\"189.0001,-3331.5903 185.5,-3321.5904 182.0001,-3331.5904 189.0001,-3331.5903\" stroke=\"#000000\"/>\n</g>\n<!-- 139942044037472&#45;&gt;139942044060136 -->\n<g class=\"edge\" id=\"edge141\">\n<title>139942044037472-&gt;139942044060136</title>\n<path d=\"M203.0506,-3285.4551C211.755,-3276.5054 222.4132,-3265.547 231.9156,-3255.7769\" fill=\"none\" stroke=\"#000000\"/>\n<polygon fill=\"#000000\" points=\"234.4421,-3258.1992 238.9053,-3248.5904 229.424,-3253.3187 234.4421,-3258.1992\" stroke=\"#000000\"/>\n</g>\n<!-- 139942043589208 -->\n<g class=\"node\" id=\"node132\">\n<title>139942043589208</title>\n<polygon fill=\"none\" points=\"172,-3139.5 172,-3175.5 341,-3175.5 341,-3139.5 172,-3139.5\" stroke=\"#000000\"/>\n<text fill=\"#000000\" font-family=\"Times,serif\" font-size=\"14.00\" text-anchor=\"middle\" x=\"256.5\" y=\"-3153.8\">activation_137: Activation</text>\n</g>\n<!-- 139942044060136&#45;&gt;139942043589208 -->\n<g class=\"edge\" id=\"edge143\">\n<title>139942044060136-&gt;139942043589208</title>\n<path d=\"M256.5,-3212.4551C256.5,-3204.3828 256.5,-3194.6764 256.5,-3185.6817\" fill=\"none\" stroke=\"#000000\"/>\n<polygon fill=\"#000000\" points=\"260.0001,-3185.5903 256.5,-3175.5904 253.0001,-3185.5904 260.0001,-3185.5903\" stroke=\"#000000\"/>\n</g>\n<!-- 139942044059968 -->\n<g class=\"node\" id=\"node133\">\n<title>139942044059968</title>\n<polygon fill=\"none\" points=\"121.5,-3066.5 121.5,-3102.5 283.5,-3102.5 283.5,-3066.5 121.5,-3066.5\" stroke=\"#000000\"/>\n<text fill=\"#000000\" font-family=\"Times,serif\" font-size=\"14.00\" text-anchor=\"middle\" x=\"202.5\" y=\"-3080.8\">res4f_branch2a: Conv2D</text>\n</g>\n<!-- 139942043589208&#45;&gt;139942044059968 -->\n<g class=\"edge\" id=\"edge144\">\n<title>139942043589208-&gt;139942044059968</title>\n<path d=\"M243.1517,-3139.4551C236.7261,-3130.7686 228.9007,-3120.1898 221.8379,-3110.642\" fill=\"none\" stroke=\"#000000\"/>\n<polygon fill=\"#000000\" points=\"224.6428,-3108.5484 215.8819,-3102.5904 219.0151,-3112.7113 224.6428,-3108.5484\" stroke=\"#000000\"/>\n</g>\n<!-- 139942043183088 -->\n<g class=\"node\" id=\"node141\">\n<title>139942043183088</title>\n<polygon fill=\"none\" points=\"210.5,-2482.5 210.5,-2518.5 302.5,-2518.5 302.5,-2482.5 210.5,-2482.5\" stroke=\"#000000\"/>\n<text fill=\"#000000\" font-family=\"Times,serif\" font-size=\"14.00\" text-anchor=\"middle\" x=\"256.5\" y=\"-2496.8\">add_45: Add</text>\n</g>\n<!-- 139942043589208&#45;&gt;139942043183088 -->\n<g class=\"edge\" id=\"edge153\">\n<title>139942043589208-&gt;139942043183088</title>\n<path d=\"M272.2572,-3139.0704C293.1744,-3112.6575 327.5,-3061.6702 327.5,-3011.5 327.5,-3011.5 327.5,-3011.5 327.5,-2646.5 327.5,-2604.9658 327.8023,-2591.7764 308.5,-2555 302.8592,-2544.2526 294.4735,-2534.1346 286.0748,-2525.6022\" fill=\"none\" stroke=\"#000000\"/>\n<polygon fill=\"#000000\" points=\"288.3836,-2522.9662 278.7593,-2518.5362 283.5204,-2528.0011 288.3836,-2522.9662\" stroke=\"#000000\"/>\n</g>\n<!-- 139942043782000 -->\n<g class=\"node\" id=\"node134\">\n<title>139942043782000</title>\n<polygon fill=\"none\" points=\"73.5,-2993.5 73.5,-3029.5 299.5,-3029.5 299.5,-2993.5 73.5,-2993.5\" stroke=\"#000000\"/>\n<text fill=\"#000000\" font-family=\"Times,serif\" font-size=\"14.00\" text-anchor=\"middle\" x=\"186.5\" y=\"-3007.8\">bn4f_branch2a: BatchNormalization</text>\n</g>\n<!-- 139942044059968&#45;&gt;139942043782000 -->\n<g class=\"edge\" id=\"edge145\">\n<title>139942044059968-&gt;139942043782000</title>\n<path d=\"M198.5449,-3066.4551C196.7565,-3058.2951 194.602,-3048.4652 192.6126,-3039.3887\" fill=\"none\" stroke=\"#000000\"/>\n<polygon fill=\"#000000\" points=\"196.0249,-3038.6091 190.465,-3029.5904 189.1872,-3040.1079 196.0249,-3038.6091\" stroke=\"#000000\"/>\n</g>\n<!-- 139942043783064 -->\n<g class=\"node\" id=\"node135\">\n<title>139942043783064</title>\n<polygon fill=\"none\" points=\"102,-2920.5 102,-2956.5 271,-2956.5 271,-2920.5 102,-2920.5\" stroke=\"#000000\"/>\n<text fill=\"#000000\" font-family=\"Times,serif\" font-size=\"14.00\" text-anchor=\"middle\" x=\"186.5\" y=\"-2934.8\">activation_138: Activation</text>\n</g>\n<!-- 139942043782000&#45;&gt;139942043783064 -->\n<g class=\"edge\" id=\"edge146\">\n<title>139942043782000-&gt;139942043783064</title>\n<path d=\"M186.5,-2993.4551C186.5,-2985.3828 186.5,-2975.6764 186.5,-2966.6817\" fill=\"none\" stroke=\"#000000\"/>\n<polygon fill=\"#000000\" points=\"190.0001,-2966.5903 186.5,-2956.5904 183.0001,-2966.5904 190.0001,-2966.5903\" stroke=\"#000000\"/>\n</g>\n<!-- 139942043782112 -->\n<g class=\"node\" id=\"node136\">\n<title>139942043782112</title>\n<polygon fill=\"none\" points=\"103.5,-2847.5 103.5,-2883.5 267.5,-2883.5 267.5,-2847.5 103.5,-2847.5\" stroke=\"#000000\"/>\n<text fill=\"#000000\" font-family=\"Times,serif\" font-size=\"14.00\" text-anchor=\"middle\" x=\"185.5\" y=\"-2861.8\">res4f_branch2b: Conv2D</text>\n</g>\n<!-- 139942043783064&#45;&gt;139942043782112 -->\n<g class=\"edge\" id=\"edge147\">\n<title>139942043783064-&gt;139942043782112</title>\n<path d=\"M186.2528,-2920.4551C186.1422,-2912.3828 186.0093,-2902.6764 185.8861,-2893.6817\" fill=\"none\" stroke=\"#000000\"/>\n<polygon fill=\"#000000\" points=\"189.3846,-2893.5414 185.7478,-2883.5904 182.3852,-2893.6374 189.3846,-2893.5414\" stroke=\"#000000\"/>\n</g>\n<!-- 139942043475584 -->\n<g class=\"node\" id=\"node137\">\n<title>139942043475584</title>\n<polygon fill=\"none\" points=\"72,-2774.5 72,-2810.5 299,-2810.5 299,-2774.5 72,-2774.5\" stroke=\"#000000\"/>\n<text fill=\"#000000\" font-family=\"Times,serif\" font-size=\"14.00\" text-anchor=\"middle\" x=\"185.5\" y=\"-2788.8\">bn4f_branch2b: BatchNormalization</text>\n</g>\n<!-- 139942043782112&#45;&gt;139942043475584 -->\n<g class=\"edge\" id=\"edge148\">\n<title>139942043782112-&gt;139942043475584</title>\n<path d=\"M185.5,-2847.4551C185.5,-2839.3828 185.5,-2829.6764 185.5,-2820.6817\" fill=\"none\" stroke=\"#000000\"/>\n<polygon fill=\"#000000\" points=\"189.0001,-2820.5903 185.5,-2810.5904 182.0001,-2820.5904 189.0001,-2820.5903\" stroke=\"#000000\"/>\n</g>\n<!-- 139942043489056 -->\n<g class=\"node\" id=\"node138\">\n<title>139942043489056</title>\n<polygon fill=\"none\" points=\"101,-2701.5 101,-2737.5 270,-2737.5 270,-2701.5 101,-2701.5\" stroke=\"#000000\"/>\n<text fill=\"#000000\" font-family=\"Times,serif\" font-size=\"14.00\" text-anchor=\"middle\" x=\"185.5\" y=\"-2715.8\">activation_139: Activation</text>\n</g>\n<!-- 139942043475584&#45;&gt;139942043489056 -->\n<g class=\"edge\" id=\"edge149\">\n<title>139942043475584-&gt;139942043489056</title>\n<path d=\"M185.5,-2774.4551C185.5,-2766.3828 185.5,-2756.6764 185.5,-2747.6817\" fill=\"none\" stroke=\"#000000\"/>\n<polygon fill=\"#000000\" points=\"189.0001,-2747.5903 185.5,-2737.5904 182.0001,-2747.5904 189.0001,-2747.5903\" stroke=\"#000000\"/>\n</g>\n<!-- 139942043489280 -->\n<g class=\"node\" id=\"node139\">\n<title>139942043489280</title>\n<polygon fill=\"none\" points=\"105.5,-2628.5 105.5,-2664.5 267.5,-2664.5 267.5,-2628.5 105.5,-2628.5\" stroke=\"#000000\"/>\n<text fill=\"#000000\" font-family=\"Times,serif\" font-size=\"14.00\" text-anchor=\"middle\" x=\"186.5\" y=\"-2642.8\">res4f_branch2c: Conv2D</text>\n</g>\n<!-- 139942043489056&#45;&gt;139942043489280 -->\n<g class=\"edge\" id=\"edge150\">\n<title>139942043489056-&gt;139942043489280</title>\n<path d=\"M185.7472,-2701.4551C185.8578,-2693.3828 185.9907,-2683.6764 186.1139,-2674.6817\" fill=\"none\" stroke=\"#000000\"/>\n<polygon fill=\"#000000\" points=\"189.6148,-2674.6374 186.2522,-2664.5904 182.6154,-2674.5414 189.6148,-2674.6374\" stroke=\"#000000\"/>\n</g>\n<!-- 139942043165976 -->\n<g class=\"node\" id=\"node140\">\n<title>139942043165976</title>\n<polygon fill=\"none\" points=\"73.5,-2555.5 73.5,-2591.5 299.5,-2591.5 299.5,-2555.5 73.5,-2555.5\" stroke=\"#000000\"/>\n<text fill=\"#000000\" font-family=\"Times,serif\" font-size=\"14.00\" text-anchor=\"middle\" x=\"186.5\" y=\"-2569.8\">bn4f_branch2c: BatchNormalization</text>\n</g>\n<!-- 139942043489280&#45;&gt;139942043165976 -->\n<g class=\"edge\" id=\"edge151\">\n<title>139942043489280-&gt;139942043165976</title>\n<path d=\"M186.5,-2628.4551C186.5,-2620.3828 186.5,-2610.6764 186.5,-2601.6817\" fill=\"none\" stroke=\"#000000\"/>\n<polygon fill=\"#000000\" points=\"190.0001,-2601.5903 186.5,-2591.5904 183.0001,-2601.5904 190.0001,-2601.5903\" stroke=\"#000000\"/>\n</g>\n<!-- 139942043165976&#45;&gt;139942043183088 -->\n<g class=\"edge\" id=\"edge152\">\n<title>139942043165976-&gt;139942043183088</title>\n<path d=\"M203.8034,-2555.4551C212.3011,-2546.5932 222.6875,-2535.7616 231.986,-2526.0646\" fill=\"none\" stroke=\"#000000\"/>\n<polygon fill=\"#000000\" points=\"234.7581,-2528.2306 239.1531,-2518.5904 229.7056,-2523.3858 234.7581,-2528.2306\" stroke=\"#000000\"/>\n</g>\n<!-- 139942043248400 -->\n<g class=\"node\" id=\"node142\">\n<title>139942043248400</title>\n<polygon fill=\"none\" points=\"172,-2409.5 172,-2445.5 341,-2445.5 341,-2409.5 172,-2409.5\" stroke=\"#000000\"/>\n<text fill=\"#000000\" font-family=\"Times,serif\" font-size=\"14.00\" text-anchor=\"middle\" x=\"256.5\" y=\"-2423.8\">activation_140: Activation</text>\n</g>\n<!-- 139942043183088&#45;&gt;139942043248400 -->\n<g class=\"edge\" id=\"edge154\">\n<title>139942043183088-&gt;139942043248400</title>\n<path d=\"M256.5,-2482.4551C256.5,-2474.3828 256.5,-2464.6764 256.5,-2455.6817\" fill=\"none\" stroke=\"#000000\"/>\n<polygon fill=\"#000000\" points=\"260.0001,-2455.5903 256.5,-2445.5904 253.0001,-2455.5904 260.0001,-2455.5903\" stroke=\"#000000\"/>\n</g>\n<!-- 139942042877120 -->\n<g class=\"node\" id=\"node143\">\n<title>139942042877120</title>\n<polygon fill=\"none\" points=\"119.5,-2336.5 119.5,-2372.5 283.5,-2372.5 283.5,-2336.5 119.5,-2336.5\" stroke=\"#000000\"/>\n<text fill=\"#000000\" font-family=\"Times,serif\" font-size=\"14.00\" text-anchor=\"middle\" x=\"201.5\" y=\"-2350.8\">res5a_branch2a: Conv2D</text>\n</g>\n<!-- 139942043248400&#45;&gt;139942042877120 -->\n<g class=\"edge\" id=\"edge155\">\n<title>139942043248400-&gt;139942042877120</title>\n<path d=\"M242.9045,-2409.4551C236.3599,-2400.7686 228.3896,-2390.1898 221.196,-2380.642\" fill=\"none\" stroke=\"#000000\"/>\n<polygon fill=\"#000000\" points=\"223.9427,-2378.4711 215.1297,-2372.5904 218.3518,-2382.6834 223.9427,-2378.4711\" stroke=\"#000000\"/>\n</g>\n<!-- 139942042309744 -->\n<g class=\"node\" id=\"node150\">\n<title>139942042309744</title>\n<polygon fill=\"none\" points=\"283.5,-2263.5 283.5,-2299.5 441.5,-2299.5 441.5,-2263.5 283.5,-2263.5\" stroke=\"#000000\"/>\n<text fill=\"#000000\" font-family=\"Times,serif\" font-size=\"14.00\" text-anchor=\"middle\" x=\"362.5\" y=\"-2277.8\">res5a_branch1: Conv2D</text>\n</g>\n<!-- 139942043248400&#45;&gt;139942042309744 -->\n<g class=\"edge\" id=\"edge162\">\n<title>139942043248400-&gt;139942042309744</title>\n<path d=\"M269.7106,-2409.3042C288.1981,-2383.8403 321.9072,-2337.4108 343.2051,-2308.0759\" fill=\"none\" stroke=\"#000000\"/>\n<polygon fill=\"#000000\" points=\"346.08,-2310.0736 349.1229,-2299.9251 340.4154,-2305.961 346.08,-2310.0736\" stroke=\"#000000\"/>\n</g>\n<!-- 139942042896424 -->\n<g class=\"node\" id=\"node144\">\n<title>139942042896424</title>\n<polygon fill=\"none\" points=\"38,-2263.5 38,-2299.5 265,-2299.5 265,-2263.5 38,-2263.5\" stroke=\"#000000\"/>\n<text fill=\"#000000\" font-family=\"Times,serif\" font-size=\"14.00\" text-anchor=\"middle\" x=\"151.5\" y=\"-2277.8\">bn5a_branch2a: BatchNormalization</text>\n</g>\n<!-- 139942042877120&#45;&gt;139942042896424 -->\n<g class=\"edge\" id=\"edge156\">\n<title>139942042877120-&gt;139942042896424</title>\n<path d=\"M189.1404,-2336.4551C183.2509,-2327.8564 176.0913,-2317.4034 169.6039,-2307.9316\" fill=\"none\" stroke=\"#000000\"/>\n<polygon fill=\"#000000\" points=\"172.4292,-2305.8628 163.8907,-2299.5904 166.654,-2309.8185 172.4292,-2305.8628\" stroke=\"#000000\"/>\n</g>\n<!-- 139942042897656 -->\n<g class=\"node\" id=\"node145\">\n<title>139942042897656</title>\n<polygon fill=\"none\" points=\"66,-2190.5 66,-2226.5 235,-2226.5 235,-2190.5 66,-2190.5\" stroke=\"#000000\"/>\n<text fill=\"#000000\" font-family=\"Times,serif\" font-size=\"14.00\" text-anchor=\"middle\" x=\"150.5\" y=\"-2204.8\">activation_141: Activation</text>\n</g>\n<!-- 139942042896424&#45;&gt;139942042897656 -->\n<g class=\"edge\" id=\"edge157\">\n<title>139942042896424-&gt;139942042897656</title>\n<path d=\"M151.2528,-2263.4551C151.1422,-2255.3828 151.0093,-2245.6764 150.8861,-2236.6817\" fill=\"none\" stroke=\"#000000\"/>\n<polygon fill=\"#000000\" points=\"154.3846,-2236.5414 150.7478,-2226.5904 147.3852,-2236.6374 154.3846,-2236.5414\" stroke=\"#000000\"/>\n</g>\n<!-- 139942042896536 -->\n<g class=\"node\" id=\"node146\">\n<title>139942042896536</title>\n<polygon fill=\"none\" points=\"103,-2117.5 103,-2153.5 268,-2153.5 268,-2117.5 103,-2117.5\" stroke=\"#000000\"/>\n<text fill=\"#000000\" font-family=\"Times,serif\" font-size=\"14.00\" text-anchor=\"middle\" x=\"185.5\" y=\"-2131.8\">res5a_branch2b: Conv2D</text>\n</g>\n<!-- 139942042897656&#45;&gt;139942042896536 -->\n<g class=\"edge\" id=\"edge158\">\n<title>139942042897656-&gt;139942042896536</title>\n<path d=\"M159.1517,-2190.4551C163.1481,-2182.1196 167.9801,-2172.0416 172.409,-2162.8042\" fill=\"none\" stroke=\"#000000\"/>\n<polygon fill=\"#000000\" points=\"175.6592,-2164.1207 176.8265,-2153.5904 169.3472,-2161.0944 175.6592,-2164.1207\" stroke=\"#000000\"/>\n</g>\n<!-- 139942042606000 -->\n<g class=\"node\" id=\"node147\">\n<title>139942042606000</title>\n<polygon fill=\"none\" points=\"88,-2044.5 88,-2080.5 317,-2080.5 317,-2044.5 88,-2044.5\" stroke=\"#000000\"/>\n<text fill=\"#000000\" font-family=\"Times,serif\" font-size=\"14.00\" text-anchor=\"middle\" x=\"202.5\" y=\"-2058.8\">bn5a_branch2b: BatchNormalization</text>\n</g>\n<!-- 139942042896536&#45;&gt;139942042606000 -->\n<g class=\"edge\" id=\"edge159\">\n<title>139942042896536-&gt;139942042606000</title>\n<path d=\"M189.7022,-2117.4551C191.6025,-2109.2951 193.8917,-2099.4652 196.0054,-2090.3887\" fill=\"none\" stroke=\"#000000\"/>\n<polygon fill=\"#000000\" points=\"199.4278,-2091.1236 198.2872,-2080.5904 192.6102,-2089.5359 199.4278,-2091.1236\" stroke=\"#000000\"/>\n</g>\n<!-- 139942042628280 -->\n<g class=\"node\" id=\"node148\">\n<title>139942042628280</title>\n<polygon fill=\"none\" points=\"118,-1971.5 118,-2007.5 287,-2007.5 287,-1971.5 118,-1971.5\" stroke=\"#000000\"/>\n<text fill=\"#000000\" font-family=\"Times,serif\" font-size=\"14.00\" text-anchor=\"middle\" x=\"202.5\" y=\"-1985.8\">activation_142: Activation</text>\n</g>\n<!-- 139942042606000&#45;&gt;139942042628280 -->\n<g class=\"edge\" id=\"edge160\">\n<title>139942042606000-&gt;139942042628280</title>\n<path d=\"M202.5,-2044.4551C202.5,-2036.3828 202.5,-2026.6764 202.5,-2017.6817\" fill=\"none\" stroke=\"#000000\"/>\n<polygon fill=\"#000000\" points=\"206.0001,-2017.5903 202.5,-2007.5904 199.0001,-2017.5904 206.0001,-2017.5903\" stroke=\"#000000\"/>\n</g>\n<!-- 139942042655992 -->\n<g class=\"node\" id=\"node149\">\n<title>139942042655992</title>\n<polygon fill=\"none\" points=\"130.5,-1898.5 130.5,-1934.5 294.5,-1934.5 294.5,-1898.5 130.5,-1898.5\" stroke=\"#000000\"/>\n<text fill=\"#000000\" font-family=\"Times,serif\" font-size=\"14.00\" text-anchor=\"middle\" x=\"212.5\" y=\"-1912.8\">res5a_branch2c: Conv2D</text>\n</g>\n<!-- 139942042628280&#45;&gt;139942042655992 -->\n<g class=\"edge\" id=\"edge161\">\n<title>139942042628280-&gt;139942042655992</title>\n<path d=\"M204.9719,-1971.4551C206.0777,-1963.3828 207.4073,-1953.6764 208.6395,-1944.6817\" fill=\"none\" stroke=\"#000000\"/>\n<polygon fill=\"#000000\" points=\"212.1322,-1944.9729 210.0219,-1934.5904 205.197,-1944.0228 212.1322,-1944.9729\" stroke=\"#000000\"/>\n</g>\n<!-- 139942042287912 -->\n<g class=\"node\" id=\"node151\">\n<title>139942042287912</title>\n<polygon fill=\"none\" points=\"99,-1825.5 99,-1861.5 326,-1861.5 326,-1825.5 99,-1825.5\" stroke=\"#000000\"/>\n<text fill=\"#000000\" font-family=\"Times,serif\" font-size=\"14.00\" text-anchor=\"middle\" x=\"212.5\" y=\"-1839.8\">bn5a_branch2c: BatchNormalization</text>\n</g>\n<!-- 139942042655992&#45;&gt;139942042287912 -->\n<g class=\"edge\" id=\"edge163\">\n<title>139942042655992-&gt;139942042287912</title>\n<path d=\"M212.5,-1898.4551C212.5,-1890.3828 212.5,-1880.6764 212.5,-1871.6817\" fill=\"none\" stroke=\"#000000\"/>\n<polygon fill=\"#000000\" points=\"216.0001,-1871.5903 212.5,-1861.5904 209.0001,-1871.5904 216.0001,-1871.5903\" stroke=\"#000000\"/>\n</g>\n<!-- 139942042511848 -->\n<g class=\"node\" id=\"node152\">\n<title>139942042511848</title>\n<polygon fill=\"none\" points=\"253,-2190.5 253,-2226.5 474,-2226.5 474,-2190.5 253,-2190.5\" stroke=\"#000000\"/>\n<text fill=\"#000000\" font-family=\"Times,serif\" font-size=\"14.00\" text-anchor=\"middle\" x=\"363.5\" y=\"-2204.8\">bn5a_branch1: BatchNormalization</text>\n</g>\n<!-- 139942042309744&#45;&gt;139942042511848 -->\n<g class=\"edge\" id=\"edge164\">\n<title>139942042309744-&gt;139942042511848</title>\n<path d=\"M362.7472,-2263.4551C362.8578,-2255.3828 362.9907,-2245.6764 363.1139,-2236.6817\" fill=\"none\" stroke=\"#000000\"/>\n<polygon fill=\"#000000\" points=\"366.6148,-2236.6374 363.2522,-2226.5904 359.6154,-2236.5414 366.6148,-2236.6374\" stroke=\"#000000\"/>\n</g>\n<!-- 139942042029024 -->\n<g class=\"node\" id=\"node153\">\n<title>139942042029024</title>\n<polygon fill=\"none\" points=\"237.5,-1752.5 237.5,-1788.5 329.5,-1788.5 329.5,-1752.5 237.5,-1752.5\" stroke=\"#000000\"/>\n<text fill=\"#000000\" font-family=\"Times,serif\" font-size=\"14.00\" text-anchor=\"middle\" x=\"283.5\" y=\"-1766.8\">add_46: Add</text>\n</g>\n<!-- 139942042287912&#45;&gt;139942042029024 -->\n<g class=\"edge\" id=\"edge165\">\n<title>139942042287912-&gt;139942042029024</title>\n<path d=\"M230.0506,-1825.4551C238.755,-1816.5054 249.4132,-1805.547 258.9156,-1795.7769\" fill=\"none\" stroke=\"#000000\"/>\n<polygon fill=\"#000000\" points=\"261.4421,-1798.1992 265.9053,-1788.5904 256.424,-1793.3187 261.4421,-1798.1992\" stroke=\"#000000\"/>\n</g>\n<!-- 139942042511848&#45;&gt;139942042029024 -->\n<g class=\"edge\" id=\"edge166\">\n<title>139942042511848-&gt;139942042029024</title>\n<path d=\"M361.6352,-2190.0845C358.999,-2162.4173 354.5,-2108.4656 354.5,-2062.5 354.5,-2062.5 354.5,-2062.5 354.5,-1916.5 354.5,-1874.8732 353.8594,-1861.8511 334.5,-1825 328.9066,-1814.3527 320.6654,-1804.2622 312.4315,-1795.7242\" fill=\"none\" stroke=\"#000000\"/>\n<polygon fill=\"#000000\" points=\"314.8388,-1793.1825 305.2644,-1788.6458 309.92,-1798.163 314.8388,-1793.1825\" stroke=\"#000000\"/>\n</g>\n<!-- 139942042035032 -->\n<g class=\"node\" id=\"node154\">\n<title>139942042035032</title>\n<polygon fill=\"none\" points=\"199,-1679.5 199,-1715.5 368,-1715.5 368,-1679.5 199,-1679.5\" stroke=\"#000000\"/>\n<text fill=\"#000000\" font-family=\"Times,serif\" font-size=\"14.00\" text-anchor=\"middle\" x=\"283.5\" y=\"-1693.8\">activation_143: Activation</text>\n</g>\n<!-- 139942042029024&#45;&gt;139942042035032 -->\n<g class=\"edge\" id=\"edge167\">\n<title>139942042029024-&gt;139942042035032</title>\n<path d=\"M283.5,-1752.4551C283.5,-1744.3828 283.5,-1734.6764 283.5,-1725.6817\" fill=\"none\" stroke=\"#000000\"/>\n<polygon fill=\"#000000\" points=\"287.0001,-1725.5903 283.5,-1715.5904 280.0001,-1725.5904 287.0001,-1725.5903\" stroke=\"#000000\"/>\n</g>\n<!-- 139942042250768 -->\n<g class=\"node\" id=\"node155\">\n<title>139942042250768</title>\n<polygon fill=\"none\" points=\"146,-1606.5 146,-1642.5 311,-1642.5 311,-1606.5 146,-1606.5\" stroke=\"#000000\"/>\n<text fill=\"#000000\" font-family=\"Times,serif\" font-size=\"14.00\" text-anchor=\"middle\" x=\"228.5\" y=\"-1620.8\">res5b_branch2a: Conv2D</text>\n</g>\n<!-- 139942042035032&#45;&gt;139942042250768 -->\n<g class=\"edge\" id=\"edge168\">\n<title>139942042035032-&gt;139942042250768</title>\n<path d=\"M269.9045,-1679.4551C263.3599,-1670.7686 255.3896,-1660.1898 248.196,-1650.642\" fill=\"none\" stroke=\"#000000\"/>\n<polygon fill=\"#000000\" points=\"250.9427,-1648.4711 242.1297,-1642.5904 245.3518,-1652.6834 250.9427,-1648.4711\" stroke=\"#000000\"/>\n</g>\n<!-- 139942041652808 -->\n<g class=\"node\" id=\"node163\">\n<title>139942041652808</title>\n<polygon fill=\"none\" points=\"237.5,-1022.5 237.5,-1058.5 329.5,-1058.5 329.5,-1022.5 237.5,-1022.5\" stroke=\"#000000\"/>\n<text fill=\"#000000\" font-family=\"Times,serif\" font-size=\"14.00\" text-anchor=\"middle\" x=\"283.5\" y=\"-1036.8\">add_47: Add</text>\n</g>\n<!-- 139942042035032&#45;&gt;139942041652808 -->\n<g class=\"edge\" id=\"edge177\">\n<title>139942042035032-&gt;139942041652808</title>\n<path d=\"M299.4791,-1679.1083C320.6909,-1652.7403 355.5,-1601.8061 355.5,-1551.5 355.5,-1551.5 355.5,-1551.5 355.5,-1186.5 355.5,-1144.8732 355.0378,-1131.7568 335.5,-1095 329.8031,-1084.2823 321.402,-1074.1724 313.0064,-1065.6383\" fill=\"none\" stroke=\"#000000\"/>\n<polygon fill=\"#000000\" points=\"315.3189,-1063.0057 305.6979,-1058.5687 310.452,-1068.037 315.3189,-1063.0057\" stroke=\"#000000\"/>\n</g>\n<!-- 139942041739840 -->\n<g class=\"node\" id=\"node156\">\n<title>139942041739840</title>\n<polygon fill=\"none\" points=\"98,-1533.5 98,-1569.5 327,-1569.5 327,-1533.5 98,-1533.5\" stroke=\"#000000\"/>\n<text fill=\"#000000\" font-family=\"Times,serif\" font-size=\"14.00\" text-anchor=\"middle\" x=\"212.5\" y=\"-1547.8\">bn5b_branch2a: BatchNormalization</text>\n</g>\n<!-- 139942042250768&#45;&gt;139942041739840 -->\n<g class=\"edge\" id=\"edge169\">\n<title>139942042250768-&gt;139942041739840</title>\n<path d=\"M224.5449,-1606.4551C222.7565,-1598.2951 220.602,-1588.4652 218.6126,-1579.3887\" fill=\"none\" stroke=\"#000000\"/>\n<polygon fill=\"#000000\" points=\"222.0249,-1578.6091 216.465,-1569.5904 215.1872,-1580.1079 222.0249,-1578.6091\" stroke=\"#000000\"/>\n</g>\n<!-- 139942041741072 -->\n<g class=\"node\" id=\"node157\">\n<title>139942041741072</title>\n<polygon fill=\"none\" points=\"128,-1460.5 128,-1496.5 297,-1496.5 297,-1460.5 128,-1460.5\" stroke=\"#000000\"/>\n<text fill=\"#000000\" font-family=\"Times,serif\" font-size=\"14.00\" text-anchor=\"middle\" x=\"212.5\" y=\"-1474.8\">activation_144: Activation</text>\n</g>\n<!-- 139942041739840&#45;&gt;139942041741072 -->\n<g class=\"edge\" id=\"edge170\">\n<title>139942041739840-&gt;139942041741072</title>\n<path d=\"M212.5,-1533.4551C212.5,-1525.3828 212.5,-1515.6764 212.5,-1506.6817\" fill=\"none\" stroke=\"#000000\"/>\n<polygon fill=\"#000000\" points=\"216.0001,-1506.5903 212.5,-1496.5904 209.0001,-1506.5904 216.0001,-1506.5903\" stroke=\"#000000\"/>\n</g>\n<!-- 139942041740176 -->\n<g class=\"node\" id=\"node158\">\n<title>139942041740176</title>\n<polygon fill=\"none\" points=\"129,-1387.5 129,-1423.5 296,-1423.5 296,-1387.5 129,-1387.5\" stroke=\"#000000\"/>\n<text fill=\"#000000\" font-family=\"Times,serif\" font-size=\"14.00\" text-anchor=\"middle\" x=\"212.5\" y=\"-1401.8\">res5b_branch2b: Conv2D</text>\n</g>\n<!-- 139942041741072&#45;&gt;139942041740176 -->\n<g class=\"edge\" id=\"edge171\">\n<title>139942041741072-&gt;139942041740176</title>\n<path d=\"M212.5,-1460.4551C212.5,-1452.3828 212.5,-1442.6764 212.5,-1433.6817\" fill=\"none\" stroke=\"#000000\"/>\n<polygon fill=\"#000000\" points=\"216.0001,-1433.5903 212.5,-1423.5904 209.0001,-1433.5904 216.0001,-1433.5903\" stroke=\"#000000\"/>\n</g>\n<!-- 139942041944584 -->\n<g class=\"node\" id=\"node159\">\n<title>139942041944584</title>\n<polygon fill=\"none\" points=\"97.5,-1314.5 97.5,-1350.5 327.5,-1350.5 327.5,-1314.5 97.5,-1314.5\" stroke=\"#000000\"/>\n<text fill=\"#000000\" font-family=\"Times,serif\" font-size=\"14.00\" text-anchor=\"middle\" x=\"212.5\" y=\"-1328.8\">bn5b_branch2b: BatchNormalization</text>\n</g>\n<!-- 139942041740176&#45;&gt;139942041944584 -->\n<g class=\"edge\" id=\"edge172\">\n<title>139942041740176-&gt;139942041944584</title>\n<path d=\"M212.5,-1387.4551C212.5,-1379.3828 212.5,-1369.6764 212.5,-1360.6817\" fill=\"none\" stroke=\"#000000\"/>\n<polygon fill=\"#000000\" points=\"216.0001,-1360.5903 212.5,-1350.5904 209.0001,-1360.5904 216.0001,-1360.5903\" stroke=\"#000000\"/>\n</g>\n<!-- 139942041971792 -->\n<g class=\"node\" id=\"node160\">\n<title>139942041971792</title>\n<polygon fill=\"none\" points=\"128,-1241.5 128,-1277.5 297,-1277.5 297,-1241.5 128,-1241.5\" stroke=\"#000000\"/>\n<text fill=\"#000000\" font-family=\"Times,serif\" font-size=\"14.00\" text-anchor=\"middle\" x=\"212.5\" y=\"-1255.8\">activation_145: Activation</text>\n</g>\n<!-- 139942041944584&#45;&gt;139942041971792 -->\n<g class=\"edge\" id=\"edge173\">\n<title>139942041944584-&gt;139942041971792</title>\n<path d=\"M212.5,-1314.4551C212.5,-1306.3828 212.5,-1296.6764 212.5,-1287.6817\" fill=\"none\" stroke=\"#000000\"/>\n<polygon fill=\"#000000\" points=\"216.0001,-1287.5903 212.5,-1277.5904 209.0001,-1287.5904 216.0001,-1287.5903\" stroke=\"#000000\"/>\n</g>\n<!-- 139942041970336 -->\n<g class=\"node\" id=\"node161\">\n<title>139942041970336</title>\n<polygon fill=\"none\" points=\"130,-1168.5 130,-1204.5 295,-1204.5 295,-1168.5 130,-1168.5\" stroke=\"#000000\"/>\n<text fill=\"#000000\" font-family=\"Times,serif\" font-size=\"14.00\" text-anchor=\"middle\" x=\"212.5\" y=\"-1182.8\">res5b_branch2c: Conv2D</text>\n</g>\n<!-- 139942041971792&#45;&gt;139942041970336 -->\n<g class=\"edge\" id=\"edge174\">\n<title>139942041971792-&gt;139942041970336</title>\n<path d=\"M212.5,-1241.4551C212.5,-1233.3828 212.5,-1223.6764 212.5,-1214.6817\" fill=\"none\" stroke=\"#000000\"/>\n<polygon fill=\"#000000\" points=\"216.0001,-1214.5903 212.5,-1204.5904 209.0001,-1214.5904 216.0001,-1214.5903\" stroke=\"#000000\"/>\n</g>\n<!-- 139942041651464 -->\n<g class=\"node\" id=\"node162\">\n<title>139942041651464</title>\n<polygon fill=\"none\" points=\"98,-1095.5 98,-1131.5 327,-1131.5 327,-1095.5 98,-1095.5\" stroke=\"#000000\"/>\n<text fill=\"#000000\" font-family=\"Times,serif\" font-size=\"14.00\" text-anchor=\"middle\" x=\"212.5\" y=\"-1109.8\">bn5b_branch2c: BatchNormalization</text>\n</g>\n<!-- 139942041970336&#45;&gt;139942041651464 -->\n<g class=\"edge\" id=\"edge175\">\n<title>139942041970336-&gt;139942041651464</title>\n<path d=\"M212.5,-1168.4551C212.5,-1160.3828 212.5,-1150.6764 212.5,-1141.6817\" fill=\"none\" stroke=\"#000000\"/>\n<polygon fill=\"#000000\" points=\"216.0001,-1141.5903 212.5,-1131.5904 209.0001,-1141.5904 216.0001,-1141.5903\" stroke=\"#000000\"/>\n</g>\n<!-- 139942041651464&#45;&gt;139942041652808 -->\n<g class=\"edge\" id=\"edge176\">\n<title>139942041651464-&gt;139942041652808</title>\n<path d=\"M230.0506,-1095.4551C238.755,-1086.5054 249.4132,-1075.547 258.9156,-1065.7769\" fill=\"none\" stroke=\"#000000\"/>\n<polygon fill=\"#000000\" points=\"261.4421,-1068.1992 265.9053,-1058.5904 256.424,-1063.3187 261.4421,-1068.1992\" stroke=\"#000000\"/>\n</g>\n<!-- 139942041722776 -->\n<g class=\"node\" id=\"node164\">\n<title>139942041722776</title>\n<polygon fill=\"none\" points=\"199,-949.5 199,-985.5 368,-985.5 368,-949.5 199,-949.5\" stroke=\"#000000\"/>\n<text fill=\"#000000\" font-family=\"Times,serif\" font-size=\"14.00\" text-anchor=\"middle\" x=\"283.5\" y=\"-963.8\">activation_146: Activation</text>\n</g>\n<!-- 139942041652808&#45;&gt;139942041722776 -->\n<g class=\"edge\" id=\"edge178\">\n<title>139942041652808-&gt;139942041722776</title>\n<path d=\"M283.5,-1022.4551C283.5,-1014.3828 283.5,-1004.6764 283.5,-995.6817\" fill=\"none\" stroke=\"#000000\"/>\n<polygon fill=\"#000000\" points=\"287.0001,-995.5903 283.5,-985.5904 280.0001,-995.5904 287.0001,-995.5903\" stroke=\"#000000\"/>\n</g>\n<!-- 139942041373272 -->\n<g class=\"node\" id=\"node165\">\n<title>139942041373272</title>\n<polygon fill=\"none\" points=\"146.5,-876.5 146.5,-912.5 310.5,-912.5 310.5,-876.5 146.5,-876.5\" stroke=\"#000000\"/>\n<text fill=\"#000000\" font-family=\"Times,serif\" font-size=\"14.00\" text-anchor=\"middle\" x=\"228.5\" y=\"-890.8\">res5c_branch2a: Conv2D</text>\n</g>\n<!-- 139942041722776&#45;&gt;139942041373272 -->\n<g class=\"edge\" id=\"edge179\">\n<title>139942041722776-&gt;139942041373272</title>\n<path d=\"M269.9045,-949.4551C263.3599,-940.7686 255.3896,-930.1898 248.196,-920.642\" fill=\"none\" stroke=\"#000000\"/>\n<polygon fill=\"#000000\" points=\"250.9427,-918.4711 242.1297,-912.5904 245.3518,-922.6834 250.9427,-918.4711\" stroke=\"#000000\"/>\n</g>\n<!-- 139942040800056 -->\n<g class=\"node\" id=\"node173\">\n<title>139942040800056</title>\n<polygon fill=\"none\" points=\"237.5,-292.5 237.5,-328.5 329.5,-328.5 329.5,-292.5 237.5,-292.5\" stroke=\"#000000\"/>\n<text fill=\"#000000\" font-family=\"Times,serif\" font-size=\"14.00\" text-anchor=\"middle\" x=\"283.5\" y=\"-306.8\">add_48: Add</text>\n</g>\n<!-- 139942041722776&#45;&gt;139942040800056 -->\n<g class=\"edge\" id=\"edge188\">\n<title>139942041722776-&gt;139942040800056</title>\n<path d=\"M299.2572,-949.0704C320.1744,-922.6575 354.5,-871.6702 354.5,-821.5 354.5,-821.5 354.5,-821.5 354.5,-456.5 354.5,-414.8732 353.8594,-401.8511 334.5,-365 328.9066,-354.3527 320.6654,-344.2622 312.4315,-335.7242\" fill=\"none\" stroke=\"#000000\"/>\n<polygon fill=\"#000000\" points=\"314.8388,-333.1825 305.2644,-328.6458 309.92,-338.163 314.8388,-333.1825\" stroke=\"#000000\"/>\n</g>\n<!-- 139942041373664 -->\n<g class=\"node\" id=\"node166\">\n<title>139942041373664</title>\n<polygon fill=\"none\" points=\"99,-803.5 99,-839.5 326,-839.5 326,-803.5 99,-803.5\" stroke=\"#000000\"/>\n<text fill=\"#000000\" font-family=\"Times,serif\" font-size=\"14.00\" text-anchor=\"middle\" x=\"212.5\" y=\"-817.8\">bn5c_branch2a: BatchNormalization</text>\n</g>\n<!-- 139942041373272&#45;&gt;139942041373664 -->\n<g class=\"edge\" id=\"edge180\">\n<title>139942041373272-&gt;139942041373664</title>\n<path d=\"M224.5449,-876.4551C222.7565,-868.2951 220.602,-858.4652 218.6126,-849.3887\" fill=\"none\" stroke=\"#000000\"/>\n<polygon fill=\"#000000\" points=\"222.0249,-848.6091 216.465,-839.5904 215.1872,-850.1079 222.0249,-848.6091\" stroke=\"#000000\"/>\n</g>\n<!-- 139942041396672 -->\n<g class=\"node\" id=\"node167\">\n<title>139942041396672</title>\n<polygon fill=\"none\" points=\"128,-730.5 128,-766.5 297,-766.5 297,-730.5 128,-730.5\" stroke=\"#000000\"/>\n<text fill=\"#000000\" font-family=\"Times,serif\" font-size=\"14.00\" text-anchor=\"middle\" x=\"212.5\" y=\"-744.8\">activation_147: Activation</text>\n</g>\n<!-- 139942041373664&#45;&gt;139942041396672 -->\n<g class=\"edge\" id=\"edge181\">\n<title>139942041373664-&gt;139942041396672</title>\n<path d=\"M212.5,-803.4551C212.5,-795.3828 212.5,-785.6764 212.5,-776.6817\" fill=\"none\" stroke=\"#000000\"/>\n<polygon fill=\"#000000\" points=\"216.0001,-776.5903 212.5,-766.5904 209.0001,-776.5904 216.0001,-776.5903\" stroke=\"#000000\"/>\n</g>\n<!-- 139942041395272 -->\n<g class=\"node\" id=\"node168\">\n<title>139942041395272</title>\n<polygon fill=\"none\" points=\"129,-657.5 129,-693.5 294,-693.5 294,-657.5 129,-657.5\" stroke=\"#000000\"/>\n<text fill=\"#000000\" font-family=\"Times,serif\" font-size=\"14.00\" text-anchor=\"middle\" x=\"211.5\" y=\"-671.8\">res5c_branch2b: Conv2D</text>\n</g>\n<!-- 139942041396672&#45;&gt;139942041395272 -->\n<g class=\"edge\" id=\"edge182\">\n<title>139942041396672-&gt;139942041395272</title>\n<path d=\"M212.2528,-730.4551C212.1422,-722.3828 212.0093,-712.6764 211.8861,-703.6817\" fill=\"none\" stroke=\"#000000\"/>\n<polygon fill=\"#000000\" points=\"215.3846,-703.5414 211.7478,-693.5904 208.3852,-703.6374 215.3846,-703.5414\" stroke=\"#000000\"/>\n</g>\n<!-- 139942041062872 -->\n<g class=\"node\" id=\"node169\">\n<title>139942041062872</title>\n<polygon fill=\"none\" points=\"97,-584.5 97,-620.5 326,-620.5 326,-584.5 97,-584.5\" stroke=\"#000000\"/>\n<text fill=\"#000000\" font-family=\"Times,serif\" font-size=\"14.00\" text-anchor=\"middle\" x=\"211.5\" y=\"-598.8\">bn5c_branch2b: BatchNormalization</text>\n</g>\n<!-- 139942041395272&#45;&gt;139942041062872 -->\n<g class=\"edge\" id=\"edge183\">\n<title>139942041395272-&gt;139942041062872</title>\n<path d=\"M211.5,-657.4551C211.5,-649.3828 211.5,-639.6764 211.5,-630.6817\" fill=\"none\" stroke=\"#000000\"/>\n<polygon fill=\"#000000\" points=\"215.0001,-630.5903 211.5,-620.5904 208.0001,-630.5904 215.0001,-630.5903\" stroke=\"#000000\"/>\n</g>\n<!-- 139942041098672 -->\n<g class=\"node\" id=\"node170\">\n<title>139942041098672</title>\n<polygon fill=\"none\" points=\"128,-511.5 128,-547.5 297,-547.5 297,-511.5 128,-511.5\" stroke=\"#000000\"/>\n<text fill=\"#000000\" font-family=\"Times,serif\" font-size=\"14.00\" text-anchor=\"middle\" x=\"212.5\" y=\"-525.8\">activation_148: Activation</text>\n</g>\n<!-- 139942041062872&#45;&gt;139942041098672 -->\n<g class=\"edge\" id=\"edge184\">\n<title>139942041062872-&gt;139942041098672</title>\n<path d=\"M211.7472,-584.4551C211.8578,-576.3828 211.9907,-566.6764 212.1139,-557.6817\" fill=\"none\" stroke=\"#000000\"/>\n<polygon fill=\"#000000\" points=\"215.6148,-557.6374 212.2522,-547.5904 208.6154,-557.5414 215.6148,-557.6374\" stroke=\"#000000\"/>\n</g>\n<!-- 139942041097048 -->\n<g class=\"node\" id=\"node171\">\n<title>139942041097048</title>\n<polygon fill=\"none\" points=\"130.5,-438.5 130.5,-474.5 294.5,-474.5 294.5,-438.5 130.5,-438.5\" stroke=\"#000000\"/>\n<text fill=\"#000000\" font-family=\"Times,serif\" font-size=\"14.00\" text-anchor=\"middle\" x=\"212.5\" y=\"-452.8\">res5c_branch2c: Conv2D</text>\n</g>\n<!-- 139942041098672&#45;&gt;139942041097048 -->\n<g class=\"edge\" id=\"edge185\">\n<title>139942041098672-&gt;139942041097048</title>\n<path d=\"M212.5,-511.4551C212.5,-503.3828 212.5,-493.6764 212.5,-484.6817\" fill=\"none\" stroke=\"#000000\"/>\n<polygon fill=\"#000000\" points=\"216.0001,-484.5903 212.5,-474.5904 209.0001,-484.5904 216.0001,-484.5903\" stroke=\"#000000\"/>\n</g>\n<!-- 139942040773296 -->\n<g class=\"node\" id=\"node172\">\n<title>139942040773296</title>\n<polygon fill=\"none\" points=\"99,-365.5 99,-401.5 326,-401.5 326,-365.5 99,-365.5\" stroke=\"#000000\"/>\n<text fill=\"#000000\" font-family=\"Times,serif\" font-size=\"14.00\" text-anchor=\"middle\" x=\"212.5\" y=\"-379.8\">bn5c_branch2c: BatchNormalization</text>\n</g>\n<!-- 139942041097048&#45;&gt;139942040773296 -->\n<g class=\"edge\" id=\"edge186\">\n<title>139942041097048-&gt;139942040773296</title>\n<path d=\"M212.5,-438.4551C212.5,-430.3828 212.5,-420.6764 212.5,-411.6817\" fill=\"none\" stroke=\"#000000\"/>\n<polygon fill=\"#000000\" points=\"216.0001,-411.5903 212.5,-401.5904 209.0001,-411.5904 216.0001,-411.5903\" stroke=\"#000000\"/>\n</g>\n<!-- 139942040773296&#45;&gt;139942040800056 -->\n<g class=\"edge\" id=\"edge187\">\n<title>139942040773296-&gt;139942040800056</title>\n<path d=\"M230.0506,-365.4551C238.755,-356.5054 249.4132,-345.547 258.9156,-335.7769\" fill=\"none\" stroke=\"#000000\"/>\n<polygon fill=\"#000000\" points=\"261.4421,-338.1992 265.9053,-328.5904 256.424,-333.3187 261.4421,-338.1992\" stroke=\"#000000\"/>\n</g>\n<!-- 139942040853416 -->\n<g class=\"node\" id=\"node174\">\n<title>139942040853416</title>\n<polygon fill=\"none\" points=\"199,-219.5 199,-255.5 368,-255.5 368,-219.5 199,-219.5\" stroke=\"#000000\"/>\n<text fill=\"#000000\" font-family=\"Times,serif\" font-size=\"14.00\" text-anchor=\"middle\" x=\"283.5\" y=\"-233.8\">activation_149: Activation</text>\n</g>\n<!-- 139942040800056&#45;&gt;139942040853416 -->\n<g class=\"edge\" id=\"edge189\">\n<title>139942040800056-&gt;139942040853416</title>\n<path d=\"M283.5,-292.4551C283.5,-284.3828 283.5,-274.6764 283.5,-265.6817\" fill=\"none\" stroke=\"#000000\"/>\n<polygon fill=\"#000000\" points=\"287.0001,-265.5903 283.5,-255.5904 280.0001,-265.5904 287.0001,-265.5903\" stroke=\"#000000\"/>\n</g>\n<!-- 139942040800448 -->\n<g class=\"node\" id=\"node175\">\n<title>139942040800448</title>\n<polygon fill=\"none\" points=\"153.5,-146.5 153.5,-182.5 413.5,-182.5 413.5,-146.5 153.5,-146.5\" stroke=\"#000000\"/>\n<text fill=\"#000000\" font-family=\"Times,serif\" font-size=\"14.00\" text-anchor=\"middle\" x=\"283.5\" y=\"-160.8\">average_pooling2d_2: AveragePooling2D</text>\n</g>\n<!-- 139942040853416&#45;&gt;139942040800448 -->\n<g class=\"edge\" id=\"edge190\">\n<title>139942040853416-&gt;139942040800448</title>\n<path d=\"M283.5,-219.4551C283.5,-211.3828 283.5,-201.6764 283.5,-192.6817\" fill=\"none\" stroke=\"#000000\"/>\n<polygon fill=\"#000000\" points=\"287.0001,-192.5903 283.5,-182.5904 280.0001,-192.5904 287.0001,-192.5903\" stroke=\"#000000\"/>\n</g>\n<!-- 139942040513168 -->\n<g class=\"node\" id=\"node176\">\n<title>139942040513168</title>\n<polygon fill=\"none\" points=\"227,-73.5 227,-109.5 340,-109.5 340,-73.5 227,-73.5\" stroke=\"#000000\"/>\n<text fill=\"#000000\" font-family=\"Times,serif\" font-size=\"14.00\" text-anchor=\"middle\" x=\"283.5\" y=\"-87.8\">flatten_2: Flatten</text>\n</g>\n<!-- 139942040800448&#45;&gt;139942040513168 -->\n<g class=\"edge\" id=\"edge191\">\n<title>139942040800448-&gt;139942040513168</title>\n<path d=\"M283.5,-146.4551C283.5,-138.3828 283.5,-128.6764 283.5,-119.6817\" fill=\"none\" stroke=\"#000000\"/>\n<polygon fill=\"#000000\" points=\"287.0001,-119.5903 283.5,-109.5904 280.0001,-119.5904 287.0001,-119.5903\" stroke=\"#000000\"/>\n</g>\n<!-- 139942040514064 -->\n<g class=\"node\" id=\"node177\">\n<title>139942040514064</title>\n<polygon fill=\"none\" points=\"245,-.5 245,-36.5 322,-36.5 322,-.5 245,-.5\" stroke=\"#000000\"/>\n<text fill=\"#000000\" font-family=\"Times,serif\" font-size=\"14.00\" text-anchor=\"middle\" x=\"283.5\" y=\"-14.8\">fc6: Dense</text>\n</g>\n<!-- 139942040513168&#45;&gt;139942040514064 -->\n<g class=\"edge\" id=\"edge192\">\n<title>139942040513168-&gt;139942040514064</title>\n<path d=\"M283.5,-73.4551C283.5,-65.3828 283.5,-55.6764 283.5,-46.6817\" fill=\"none\" stroke=\"#000000\"/>\n<polygon fill=\"#000000\" points=\"287.0001,-46.5903 283.5,-36.5904 280.0001,-46.5904 287.0001,-46.5903\" stroke=\"#000000\"/>\n</g>\n</g>\n</svg>"
          },
          "metadata": {
            "tags": []
          },
          "execution_count": 58
        }
      ]
    },
    {
      "cell_type": "code",
      "metadata": {
        "id": "CMTqbCO4nS6-"
      },
      "source": [
        ""
      ],
      "execution_count": null,
      "outputs": []
    }
  ]
}